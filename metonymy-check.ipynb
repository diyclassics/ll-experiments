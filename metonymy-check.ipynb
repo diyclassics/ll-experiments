{
 "cells": [
  {
   "cell_type": "markdown",
   "metadata": {},
   "source": [
    "# Metonym check"
   ]
  },
  {
   "cell_type": "markdown",
   "metadata": {},
   "source": [
    "- Last updated 5/19/2020 7:08am"
   ]
  },
  {
   "cell_type": "code",
   "execution_count": 1,
   "metadata": {},
   "outputs": [],
   "source": [
    "# Imports\n",
    "\n",
    "from cltk.corpus.readers import get_corpus_reader\n",
    "from cltk.tokenize.latin.sentence import SentenceTokenizer\n",
    "\n",
    "from tqdm import tqdm_notebook as tqdm\n",
    "\n",
    "from pprint import pprint"
   ]
  },
  {
   "cell_type": "code",
   "execution_count": 2,
   "metadata": {},
   "outputs": [],
   "source": [
    "# Setup CLTK tools\n",
    "\n",
    "sent_tokenizer = SentenceTokenizer()"
   ]
  },
  {
   "cell_type": "code",
   "execution_count": 3,
   "metadata": {},
   "outputs": [],
   "source": [
    "# Set up corpus\n",
    "\n",
    "tess = get_corpus_reader(corpus_name = 'latin_text_tesserae', language = 'latin')\n",
    "files = tess.fileids()\n",
    "texts = list(tess.texts(files))"
   ]
  },
  {
   "cell_type": "code",
   "execution_count": 4,
   "metadata": {},
   "outputs": [],
   "source": [
    "# Preprocess texts\n",
    "\n",
    "def preprocess(text):\n",
    "    import re\n",
    "    import html\n",
    "    from cltk.stem.latin.j_v import JVReplacer\n",
    "    \n",
    "    replacer = JVReplacer()\n",
    "    \n",
    "    text = html.unescape(text) # Handle html entities\n",
    "    text = re.sub(r'&nbsp;?', ' ',text) #&nbsp; stripped incorrectly in corpus?\n",
    "    text = re.sub(r'\\x00',' ',text) #Another space problem?\n",
    "    \n",
    "    # Fix partial lines\n",
    "    text = re.sub(r'\\d+(a|b)', ' ', text)\n",
    "        \n",
    "#     text = text.lower()\n",
    "    text = replacer.replace(text) #Normalize u/v & i/j    \n",
    "    \n",
    "    punctuation =\"\\\"#$%&\\'()*+,-/:;<=>@[\\]^_`{|}~.?!«»\"\n",
    "    translator = str.maketrans({key: \" \" for key in punctuation})\n",
    "    text = text.translate(translator)\n",
    "    \n",
    "    translator = str.maketrans({key: \" \" for key in '0123456789'})\n",
    "    text = text.translate(translator)\n",
    "    \n",
    "    text = re.sub('[ ]+',' ', text) # Remove double spaces\n",
    "    text = re.sub('\\s+\\n+\\s+','\\n', text) # Remove double lines and trim spaces around new lines\n",
    "    text = re.sub('\\n', ' ', text) # Remove line breaks\n",
    "    \n",
    "    return text.strip()"
   ]
  },
  {
   "cell_type": "code",
   "execution_count": 5,
   "metadata": {},
   "outputs": [],
   "source": [
    "sents = []\n",
    "for text in texts:\n",
    "    sents_ = sent_tokenizer.tokenize(text)\n",
    "    sents_ = [preprocess(sent) for sent in sents_]\n",
    "    sents.extend(sents_)"
   ]
  },
  {
   "cell_type": "code",
   "execution_count": 6,
   "metadata": {},
   "outputs": [],
   "source": [
    "metonyms = ['Amor', 'Bacchus', 'Ceres', 'Cupido', 'Mars', 'Uenus']"
   ]
  },
  {
   "cell_type": "code",
   "execution_count": 7,
   "metadata": {},
   "outputs": [],
   "source": [
    "from collections import defaultdict\n",
    "examples = defaultdict(list)\n",
    "for sent in sents:\n",
    "    sent = sent.split()\n",
    "    for metonym in metonyms:\n",
    "        if metonym.lower() in sent and metonym in sent:\n",
    "            pass\n",
    "        else:\n",
    "            if metonym.lower() in sent:\n",
    "                examples[metonym.lower()].append(sent)\n",
    "            if metonym in sent and sent[0] != (metonym):\n",
    "                examples[metonym].append(sent)"
   ]
  },
  {
   "cell_type": "code",
   "execution_count": 8,
   "metadata": {},
   "outputs": [
    {
     "name": "stdout",
     "output_type": "stream",
     "text": [
      "Amor: 146\n",
      "amor: 888\n",
      "Bacchus: 58\n",
      "bacchus: 2\n",
      "Ceres: 113\n",
      "ceres: 6\n",
      "Cupido: 64\n",
      "cupido: 219\n",
      "Mars: 102\n",
      "mars: 2\n",
      "Uenus: 391\n",
      "uenus: 34\n"
     ]
    }
   ],
   "source": [
    "for metonym in metonyms:\n",
    "    print(f'{metonym}: {len(examples[metonym])}')\n",
    "    print(f'{metonym.lower()}: {len(examples[metonym.lower()])}')"
   ]
  },
  {
   "cell_type": "code",
   "execution_count": 9,
   "metadata": {},
   "outputs": [],
   "source": [
    "with open('metonyms.txt','w') as f:\n",
    "    for metonym in metonyms:\n",
    "        for v in examples[metonym]:\n",
    "            f.write(f'1\\t{\" \".join(v)}\\n')\n",
    "        for v in examples[metonym.lower()]:\n",
    "            f.write(f'0\\t{\" \".join(v)}\\n')"
   ]
  }
 ],
 "metadata": {
  "kernelspec": {
   "display_name": "Python 3",
   "language": "python",
   "name": "python3"
  },
  "language_info": {
   "codemirror_mode": {
    "name": "ipython",
    "version": 3
   },
   "file_extension": ".py",
   "mimetype": "text/x-python",
   "name": "python",
   "nbconvert_exporter": "python",
   "pygments_lexer": "ipython3",
   "version": "3.7.7"
  }
 },
 "nbformat": 4,
 "nbformat_minor": 1
}
