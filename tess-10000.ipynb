{
 "cells": [
  {
   "cell_type": "code",
   "execution_count": 1,
   "metadata": {},
   "outputs": [],
   "source": [
    "# Imports\n",
    "\n",
    "import os\n",
    "import string\n",
    "import re\n",
    "from collections import Counter\n",
    "from cltk.corpus.readers import get_corpus_reader\n",
    "\n",
    "\n",
    "from cltk.tokenize.sentence import TokenizeSentence\n",
    "from cltk.tokenize.word import WordTokenizer\n",
    "from cltk.lemmatize.latin.backoff import BackoffLatinLemmatizer\n",
    "from cltk.stem.latin.j_v import JVReplacer\n",
    "from cltk.utils.file_operations import open_pickle"
   ]
  },
  {
   "cell_type": "code",
   "execution_count": 2,
   "metadata": {},
   "outputs": [],
   "source": [
    "tess = get_corpus_reader(corpus_name = 'latin_text_tesserae', language = 'latin')"
   ]
  },
  {
   "cell_type": "code",
   "execution_count": 3,
   "metadata": {},
   "outputs": [],
   "source": [
    "# Setup CLTK tools\n",
    "\n",
    "word_tokenizer = WordTokenizer('latin')\n",
    "sent_tokenizer = TokenizeSentence('latin')\n",
    "lemmatizer = BackoffLatinLemmatizer()\n",
    "replacer = JVReplacer()"
   ]
  },
  {
   "cell_type": "code",
   "execution_count": 4,
   "metadata": {},
   "outputs": [],
   "source": [
    "tess_texts = [text for text in tess.texts(tess.fileids())]"
   ]
  },
  {
   "cell_type": "code",
   "execution_count": null,
   "metadata": {},
   "outputs": [],
   "source": [
    "# Preprocessing script for the Latin Library\n",
    "\n",
    "def preprocess(text):    \n",
    "    \n",
    "    text = text.lower()\n",
    "\n",
    "    punctuation = string.punctuation\n",
    "    punctuation += \"\\\"#$%&\\'()*+,-/:;<=>@[\\]^_`{|}~\"\n",
    "    translator = str.maketrans({key: \" \" for key in punctuation})\n",
    "    text = text.translate(translator)\n",
    "    \n",
    "    translator = str.maketrans({key: \" \" for key in '0123456789'})\n",
    "    text = text.translate(translator)\n",
    "    \n",
    "    text = replacer.replace(text)\n",
    "    \n",
    "    text = \" \".join(text.split('\\n'))\n",
    "    text = \" \".join(text.split())\n",
    "    \n",
    "    return text"
   ]
  },
  {
   "cell_type": "code",
   "execution_count": null,
   "metadata": {},
   "outputs": [],
   "source": [
    "# Preprocess Latin Library text\n",
    "tess_pp = [preprocess(text).split() for text in tess_texts]"
   ]
  },
  {
   "cell_type": "code",
   "execution_count": null,
   "metadata": {},
   "outputs": [],
   "source": [
    "tess_flat = \" \".join([item for sublist in tess_pp for item in sublist])"
   ]
  },
  {
   "cell_type": "code",
   "execution_count": null,
   "metadata": {},
   "outputs": [
    {
     "data": {
      "text/plain": [
       "'galli caes'"
      ]
     },
     "execution_count": 8,
     "metadata": {},
     "output_type": "execute_result"
    }
   ],
   "source": [
    "tess_flat[:10]"
   ]
  },
  {
   "cell_type": "code",
   "execution_count": null,
   "metadata": {},
   "outputs": [
    {
     "name": "stdout",
     "output_type": "stream",
     "text": [
      "['galli', 'caesaris', 'saeuitia', 'post', 'emensos', 'insuperabilis', 'expeditionis', 'euentus', 'languentibus', 'partium']\n"
     ]
    }
   ],
   "source": [
    "# Tokenize Latin Library text\n",
    "\n",
    "tess_tokens = word_tokenizer.tokenize(tess_flat)\n",
    "print(tess_tokens[:10])"
   ]
  },
  {
   "cell_type": "code",
   "execution_count": null,
   "metadata": {},
   "outputs": [],
   "source": [
    "# Get total token counts\n",
    "\n",
    "tess_tokens_len = len(tess_tokens)\n",
    "tess_tokens_set_len = len(set(tess_tokens))"
   ]
  },
  {
   "cell_type": "code",
   "execution_count": null,
   "metadata": {},
   "outputs": [
    {
     "name": "stdout",
     "output_type": "stream",
     "text": [
      "Number of tokens in CLTK Tesserae: 6864495\n",
      "Number of unique tokens in CLTK Tesserae: 310930\n"
     ]
    }
   ],
   "source": [
    "# Print top 10 token counts\n",
    "\n",
    "print('Number of tokens in CLTK Tesserae:', tess_tokens_len)\n",
    "print('Number of unique tokens in CLTK Tesserae:', tess_tokens_set_len)"
   ]
  },
  {
   "cell_type": "code",
   "execution_count": null,
   "metadata": {},
   "outputs": [
    {
     "name": "stdout",
     "output_type": "stream",
     "text": [
      "Top 25 tokens in CLTK Tesserae:\n",
      "\n",
      "       TOKEN       COUNT       Type-Tok %  RUNNING %   \n",
      "    1. et          225907      3.29%       3.29%       \n",
      "    2. in          141415      2.06%       5.35%       \n",
      "    3. est         81715       1.19%       6.54%       \n",
      "    4. non         77337       1.13%       7.67%       \n",
      "    5. ut          60016       0.87%       8.54%       \n",
      "    6. ad          55140       0.8%        9.35%       \n",
      "    7. cum         53193       0.77%       10.12%      \n",
      "    8. quod        44106       0.64%       10.76%      \n",
      "    9. qui         43352       0.63%       11.39%      \n",
      "   10. si          38532       0.56%       11.96%      \n"
     ]
    }
   ],
   "source": [
    "# Build counter of top token counts\n",
    "\n",
    "tess_tokens_counter = Counter(tess_tokens)\n",
    "tess_tokens_mc = tess_tokens_counter.most_common(10000)\n",
    "\n",
    "running = 0\n",
    "\n",
    "print('Top 25 tokens in CLTK Tesserae:\\n')\n",
    "print(\"{number:>5}  {token:<12}{count:<12}{percent:<12}{running:<12}\".format(number=\"\", token=\"TOKEN\", count=\"COUNT\", percent=\"Type-Tok %\", running = \"RUNNING %\"))\n",
    "for i, pair in enumerate(tess_tokens_mc[:10]):\n",
    "    running += pair[1]\n",
    "    print(\"{number:>5}. {token:<12}{count:<12}{percent:<12}{running:<12}\".format(number=i+1, token=pair[0], count=pair[1], percent=str(round(pair[1] / len(tess_tokens)*100, 2))+\"%\", running = str(round(running / len(tess_tokens)*100, 2))+\"%\"))"
   ]
  },
  {
   "cell_type": "code",
   "execution_count": null,
   "metadata": {},
   "outputs": [],
   "source": [
    "# Lemmatize Latin Library text\n",
    "\n",
    "tess_lemma_pairs = lemmatizer.lemmatize(tess_tokens)\n",
    "print(tess_lemma_pairs[:10])"
   ]
  },
  {
   "cell_type": "code",
   "execution_count": null,
   "metadata": {},
   "outputs": [],
   "source": [
    "# Get total lemma counts\n",
    "\n",
    "tess_lemmas = [lemma[1] for lemma in tess_lemma_pairs]\n",
    "tess_lemmas_set_len = len(set(tess_lemmas))"
   ]
  },
  {
   "cell_type": "code",
   "execution_count": null,
   "metadata": {},
   "outputs": [],
   "source": [
    "# Print top 10 token counts\n",
    "\n",
    "print('Number of tokens in CLTK Tesserae:', tess_tokens_len)\n",
    "print('Number of unique tokens in CLTK Tesserae:', tess_tokens_set_len)\n",
    "print('Number of unique lemmas in CLTK Tesserae:', tess_lemmas_set_len)"
   ]
  },
  {
   "cell_type": "code",
   "execution_count": null,
   "metadata": {},
   "outputs": [],
   "source": [
    "# Build counter of top lemma counts\n",
    "\n",
    "tess_lemmas_counter = Counter(tess_lemmas)\n",
    "tess_lemmas_mc = tess_lemmas_counter.most_common(10000)\n",
    "\n",
    "#print('Top 10 lemmas in Latin Library:\\n')\n",
    "#for i, pair in enumerate(tess_lemmas_mc[:10]):\n",
    "#    print(\"{number}. {lemma}\\t\\t{count}\\t\\t{percent}%\".format(number=i+1, lemma=pair[0], count=pair[1], percent=round(pair[1] / len(tess_tokens)*100, 2)))\n",
    "\n",
    "running = 0\n",
    "\n",
    "print('Top 10 lemmas in Latin Library:\\n')\n",
    "print(\"{number:>5}  {lemma:<12}{count:<12}{percent:<12}{running:<12}\".format(number=\"\", lemma=\"LEMMA\", count=\"COUNT\", percent=\"TYPE-LEM %\", running = \"RUNNING %\"))\n",
    "for i, pair in enumerate(tess_lemmas_mc[:10]):\n",
    "    running += pair[1]\n",
    "    print(\"{number:>5}. {lemma:<12}{count:<12}{percent:<12}{running:<12}\".format(number=i+1, lemma=pair[0], count=pair[1], percent=str(round(pair[1] / len(tess_tokens)*100, 2))+\"%\", running = str(round(running / len(tess_tokens)*100, 2))+\"%\"))    "
   ]
  },
  {
   "cell_type": "code",
   "execution_count": null,
   "metadata": {},
   "outputs": [],
   "source": [
    "# Print top 10,000 counts\n",
    "\n",
    "print('Top 10,000 tokens in the CLTK Tesserae:\\n')\n",
    "for i, pair in enumerate(tess_tokens_mc):\n",
    "    print(\"{number}. {token} ({count})\".format(number=i+1, token=pair[0], count=pair[1]))"
   ]
  },
  {
   "cell_type": "code",
   "execution_count": null,
   "metadata": {},
   "outputs": [],
   "source": [
    "# Print top 10,000 lemma counts\n",
    "\n",
    "print('Top 10,000 lemmas in the CLTK Tesserae:\\n')\n",
    "for i, pair in enumerate(tess_lemmas_mc):\n",
    "    print(\"{number}. {lemma} ({count})\".format(number=i+1, lemma=pair[0], count=pair[1]))"
   ]
  }
 ],
 "metadata": {
  "kernelspec": {
   "display_name": "Python 3",
   "language": "python",
   "name": "python3"
  },
  "language_info": {
   "codemirror_mode": {
    "name": "ipython",
    "version": 3
   },
   "file_extension": ".py",
   "mimetype": "text/x-python",
   "name": "python",
   "nbconvert_exporter": "python",
   "pygments_lexer": "ipython3",
   "version": "3.7.3"
  }
 },
 "nbformat": 4,
 "nbformat_minor": 1
}
