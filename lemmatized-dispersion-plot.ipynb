{
 "cells": [
  {
   "cell_type": "code",
   "execution_count": 1,
   "metadata": {},
   "outputs": [
    {
     "name": "stdout",
     "output_type": "stream",
     "text": [
      "Arabic not supported. Install `pyarabic` library to tokenize Arabic.\n"
     ]
    }
   ],
   "source": [
    "# Imports\n",
    "\n",
    "import os\n",
    "import string\n",
    "import re\n",
    "import html  \n",
    "\n",
    "from collections import Counter\n",
    "\n",
    "from nltk.text import Text\n",
    "\n",
    "from cltk.corpus.latin import latinlibrary\n",
    "from cltk.tokenize.word import WordTokenizer\n",
    "from cltk.stem.latin.j_v import JVReplacer\n",
    "from cltk.lemmatize.latin.backoff import BackoffLatinLemmatizer\n",
    "from cltk.utils.file_operations import open_pickle\n",
    "\n",
    "from pprint import pprint"
   ]
  },
  {
   "cell_type": "code",
   "execution_count": 2,
   "metadata": {
    "collapsed": true
   },
   "outputs": [],
   "source": [
    "# We need to import a data model to train the lemmatizer.\n",
    "\n",
    "# Set up training sentences\n",
    "rel_path = os.path.join('~/cltk_data/latin/model/latin_models_cltk/lemmata/backoff')\n",
    "path = os.path.expanduser(rel_path)\n",
    "\n",
    "# Check for presence of latin_pos_lemmatized_sents\n",
    "file = 'latin_pos_lemmatized_sents.pickle'      \n",
    "\n",
    "latin_pos_lemmatized_sents_path = os.path.join(path, file)\n",
    "if os.path.isfile(latin_pos_lemmatized_sents_path):\n",
    "    latin_pos_lemmatized_sents = open_pickle(latin_pos_lemmatized_sents_path)\n",
    "else:\n",
    "    latin_pos_lemmatized_sents = []\n",
    "    print('The file %s is not available in cltk_data' % file)  "
   ]
  },
  {
   "cell_type": "code",
   "execution_count": 3,
   "metadata": {},
   "outputs": [],
   "source": [
    "# Setup CLTK tools\n",
    "\n",
    "word_tokenizer = WordTokenizer('latin')\n",
    "replacer = JVReplacer()\n",
    "lemmatizer = BackoffLatinLemmatizer(latin_pos_lemmatized_sents)"
   ]
  },
  {
   "cell_type": "code",
   "execution_count": 4,
   "metadata": {},
   "outputs": [
    {
     "name": "stdout",
     "output_type": "stream",
     "text": [
      "['Omnis homines, qui sese student praestare ceteris animalibus, summa ope niti '\n",
      " 'decet, ne vitam silentio transeant veluti pecora, quae natura prona atque '\n",
      " 'ventri oboedientia finxit. Sed nostra omnis vis in animo et corpore sita '\n",
      " 'est: animi imperio, corporis servitio magis utimur; alterum nobis cum dis, '\n",
      " 'alterum cum beluis commune est. Quo mihi rectius videtur ingeni quam virium '\n",
      " 'opibus gloriam quaerere et, quoniam vita ipsa, qua fruimur, brevis est, '\n",
      " 'memoriam nostri quam maxume longam efficere. Nam divitiarum et formae gloria '\n",
      " 'fluxa atque fragilis est, virtus clara aeternaque habetur.\\n'\n",
      " ' \\n'\n",
      " '\\n'\n",
      " ' \\n'\n",
      " 'Sed diu magnum inter mortalis certamen fuit, vine corporis an virtute animi '\n",
      " 'res militaris magis procederet. Nam et, prius quam incipias, consulto et, '\n",
      " 'ubi consulueris, mature facto opus est. Ita utrumque per se indigens alterum '\n",
      " 'alterius auxilio eget.\\n'\n",
      " ' \\n'\n",
      " '\\n'\n",
      " ' \\n'\n",
      " ' ']\n"
     ]
    }
   ],
   "source": [
    "# Get the Sallust BC text\n",
    "\n",
    "bc = latinlibrary.raw('sall.1.txt')\n",
    "\n",
    "# Remove LL paratexts\n",
    "bc = bc[bc.find('[1] '):]\n",
    "bc = bc.replace('Sallust The Latin Library The Classics Page', '')\n",
    "\n",
    "# Split into chapters\n",
    "bc_chapters = re.split(\"\\[\\d+\\] \", bc)[1:]\n",
    "\n",
    "pprint(bc_chapters[:1])"
   ]
  },
  {
   "cell_type": "code",
   "execution_count": 5,
   "metadata": {
    "collapsed": true
   },
   "outputs": [],
   "source": [
    "# Preprocess texts\n",
    "\n",
    "def preprocess(text):\n",
    "    \n",
    "    text = html.unescape(text) # Handle html entities\n",
    "    text = re.sub(r'&nbsp;?', ' ',text) #&nbsp; stripped incorrectly in corpus?\n",
    "    text = re.sub(r'\\x00',' ',text) #Another space problem?\n",
    "    \n",
    "    text = text.lower()\n",
    "    text = replacer.replace(text) #Normalize u/v & i/j\n",
    "        \n",
    "    punctuation =\"\\\"#$%&\\'()*+,-/:;<=>@[\\]^_`{|}~.?!«»—\"\n",
    "    translator = str.maketrans({key: \" \" for key in punctuation})\n",
    "    text = text.translate(translator)\n",
    "    \n",
    "    translator = str.maketrans({key: \" \" for key in '0123456789'})\n",
    "    text = text.translate(translator)\n",
    "    \n",
    "    text = re.sub('[ ]+',' ', text) # Remove double spaces\n",
    "    text = re.sub('\\s+\\n+\\s+','\\n', text) # Remove double lines and trim spaces around new lines\n",
    "    \n",
    "    return text"
   ]
  },
  {
   "cell_type": "code",
   "execution_count": 6,
   "metadata": {},
   "outputs": [
    {
     "name": "stdout",
     "output_type": "stream",
     "text": [
      "['omnis homines qui sese student praestare ceteris animalibus summa ope niti '\n",
      " 'decet ne uitam silentio transeant ueluti pecora quae natura prona atque '\n",
      " 'uentri oboedientia finxit sed nostra omnis uis in animo et corpore sita est '\n",
      " 'animi imperio corporis seruitio magis utimur alterum nobis cum dis alterum '\n",
      " 'cum beluis commune est quo mihi rectius uidetur ingeni quam uirium opibus '\n",
      " 'gloriam quaerere et quoniam uita ipsa qua fruimur breuis est memoriam nostri '\n",
      " 'quam maxume longam efficere nam diuitiarum et formae gloria fluxa atque '\n",
      " 'fragilis est uirtus clara aeternaque habetur\\n'\n",
      " 'sed diu magnum inter mortalis certamen fuit uine corporis an uirtute animi '\n",
      " 'res militaris magis procederet nam et prius quam incipias consulto et ubi '\n",
      " 'consulueris mature facto opus est ita utrumque per se indigens alterum '\n",
      " 'alterius auxilio eget',\n",
      " 'igitur initio reges nam in terris nomen imperi id primum fuit diuorsi pars '\n",
      " 'ingenium alii corpus exercebant etiam tum uita hominum sine cupiditate '\n",
      " 'agitabatur sua cuique satis placebant postea uero quam in asia cyrus in '\n",
      " 'graecia lacedaemonii et athenienses coepere urbis atque nationes subigere '\n",
      " 'lubidinem dominandi causam belli habere maxumam gloriam in maxumo imperio '\n",
      " 'putare tum demum periculo atque negotiis compertum est in bello plurumum '\n",
      " 'ingenium posse quod si regum atque imperatorum animi uirtus in pace ita ut '\n",
      " 'in bello ualeret aequabilius atque constantius sese res humanae haberent '\n",
      " 'neque aliud alio ferri neque mutari ac misceri omnia cerneres nam imperium '\n",
      " 'facile iis artibus retinetur quibus initio partum est uerum ubi pro labore '\n",
      " 'desidia pro continentia et aequitate lubido atque superbia inuasere fortuna '\n",
      " 'simul cum moribus inmutatur ita imperium semper ad optumum quemque a minus '\n",
      " 'bono transfertur\\n'\n",
      " 'quae homines arant nauigant aedificant uirtuti omnia parent sed multi '\n",
      " 'mortales dediti uentri atque somno indocti incultique uitam sicuti '\n",
      " 'peregrinantes transiere quibus profecto contra naturam corpus uoluptati '\n",
      " 'anima oneri fuit eorum ego uitam mortemque iuxta aestumo quoniam de utraque '\n",
      " 'siletur uerum enim uero is demum mihi uiuere atque frui anima uidetur qui '\n",
      " 'aliquo negotio intentus praeclari facinoris aut artis bonae famam quaerit']\n"
     ]
    }
   ],
   "source": [
    "# Preprocess chapters\n",
    "\n",
    "bc_chapters = [preprocess(chapter).strip() for chapter in bc_chapters]\n",
    "pprint(bc_chapters[:2])"
   ]
  },
  {
   "cell_type": "code",
   "execution_count": 7,
   "metadata": {},
   "outputs": [
    {
     "name": "stdout",
     "output_type": "stream",
     "text": [
      "<Text: omnis homines qui sese student praestare ceteris animalibus...>\n"
     ]
    }
   ],
   "source": [
    "# Create NLTK Text for BC\n",
    "\n",
    "bc_words = \" \".join(bc_chapters).split()\n",
    "bc_text = Text(bc_words)\n",
    "print(bc_text)"
   ]
  },
  {
   "cell_type": "code",
   "execution_count": 8,
   "metadata": {},
   "outputs": [
    {
     "data": {
      "image/png": "[encoded data removed]",
      "text/plain": [
       "<matplotlib.figure.Figure at 0x1116b5a20>"
      ]
     },
     "metadata": {},
     "output_type": "display_data"
    }
   ],
   "source": [
    "# Show dispersion plot for important vocabulary\n",
    "\n",
    "bc_text.dispersion_plot(['fama','fortuna'])"
   ]
  },
  {
   "cell_type": "code",
   "execution_count": 9,
   "metadata": {},
   "outputs": [
    {
     "name": "stdout",
     "output_type": "stream",
     "text": [
      "This is the lemmatizer output—tuples of (token, lemma)\n",
      "[('omnis', 'omnis'), ('homines', 'homo'), ('qui', 'qui'), ('sese', 'sui'), ('student', 'studeo'), ('praestare', 'praesto'), ('ceteris', 'ceterus'), ('animalibus', 'animal'), ('summa', 'summus'), ('ope', 'ops')]\n",
      "This is a list of just lemmas.\n",
      "['omnis', 'homo', 'qui', 'sui', 'studeo', 'praesto', 'ceterus', 'animal', 'summus', 'ops']\n"
     ]
    }
   ],
   "source": [
    "# Lemmatize BC\n",
    "\n",
    "bc_lemma_pairs = lemmatizer.lemmatize(bc_words)\n",
    "\n",
    "print('This is the lemmatizer output—tuples of (token, lemma)')\n",
    "print(bc_lemma_pairs[:10])\n",
    "\n",
    "# Extract just the lemmas\n",
    "bc_lemmas = [lemma[1] for lemma in bc_lemma_pairs]\n",
    "print('This is a list of just lemmas.')\n",
    "print(bc_lemmas[:10])"
   ]
  },
  {
   "cell_type": "code",
   "execution_count": 10,
   "metadata": {},
   "outputs": [
    {
     "name": "stdout",
     "output_type": "stream",
     "text": [
      "<Text: omnis homo qui sui studeo praesto ceterus animal...>\n"
     ]
    }
   ],
   "source": [
    "# Create NLTK Text for lemmatized BC\n",
    "\n",
    "bc_lemmatized_text = Text(bc_lemmas)\n",
    "print(bc_lemmatized_text)"
   ]
  },
  {
   "cell_type": "code",
   "execution_count": 11,
   "metadata": {},
   "outputs": [
    {
     "name": "stdout",
     "output_type": "stream",
     "text": [
      "This is the unlemmatized dispersion plot.\n",
      "\n"
     ]
    },
    {
     "data": {
      "image/png": "[encoded data removed]",
      "text/plain": [
       "<matplotlib.figure.Figure at 0x113f88cf8>"
      ]
     },
     "metadata": {},
     "output_type": "display_data"
    },
    {
     "name": "stdout",
     "output_type": "stream",
     "text": [
      "\n",
      "This is the lemmatized dispersion plot.\n",
      "\n"
     ]
    },
    {
     "data": {
      "image/png": "[encoded data removed]",
      "text/plain": [
       "<matplotlib.figure.Figure at 0x113f94b70>"
      ]
     },
     "metadata": {},
     "output_type": "display_data"
    }
   ],
   "source": [
    "# Show dispersion plot for important vocabulary by lemma\n",
    "\n",
    "print(\"This is the unlemmatized dispersion plot.\\n\")\n",
    "bc_text.dispersion_plot(['fama','fortuna'])\n",
    "\n",
    "print(\"\\nThis is the lemmatized dispersion plot.\\n\")\n",
    "bc_lemmatized_text.dispersion_plot(['fama','fortuna'])"
   ]
  },
  {
   "cell_type": "code",
   "execution_count": 12,
   "metadata": {},
   "outputs": [
    {
     "name": "stdout",
     "output_type": "stream",
     "text": [
      "There are 11 instances of 'fama' in the Bellum catilinum.\n",
      "There are 16 instances of 'fortuna' in the Bellum catilinum.\n",
      "\n",
      "The following forms of fama are found in the BC: {'famam', 'famae', 'fama'}\n",
      "The following forms of fortuna are found in the BC: {'fortunae', 'fortunas', 'fortuna', 'fortunis', 'fortunam'}\n"
     ]
    }
   ],
   "source": [
    "# Some data about the fama/fortuna results\n",
    "\n",
    "c = Counter(bc_lemmas)\n",
    "print(\"There are %d instances of 'fama' in the Bellum catilinum.\" % c['fama'])\n",
    "print(\"There are %d instances of 'fortuna' in the Bellum catilinum.\" % c['fortuna'])\n",
    "\n",
    "bc_fama_tokens = set([item[0] for item in bc_lemma_pairs if item[1] == 'fama'])\n",
    "bc_fortuna_tokens = set([item[0] for item in bc_lemma_pairs if item[1] == 'fortuna'])\n",
    "print(\"\\nThe following forms of fama are found in the BC:\", bc_fama_tokens)\n",
    "print(\"The following forms of fortuna are found in the BC:\", bc_fortuna_tokens)"
   ]
  },
  {
   "cell_type": "code",
   "execution_count": 13,
   "metadata": {},
   "outputs": [
    {
     "name": "stdout",
     "output_type": "stream",
     "text": [
      "\n",
      "          Dispersion plot of catlina/cicero\n",
      "      in Sallust's Bellum catilinum (lemmatized)\n"
     ]
    },
    {
     "data": {
      "image/png": "[encoded data removed]",
      "text/plain": [
       "<matplotlib.figure.Figure at 0x113f943c8>"
      ]
     },
     "metadata": {},
     "output_type": "display_data"
    }
   ],
   "source": [
    "# Show dispersion plot for important vocabulary by lemma—another example\n",
    "\n",
    "print(\"\\n          Dispersion plot of catlina/cicero\\n      in Sallust's Bellum catilinum (lemmatized)\")\n",
    "\n",
    "bc_lemmatized_text.dispersion_plot(['catilina','cicero'])"
   ]
  },
  {
   "cell_type": "code",
   "execution_count": 14,
   "metadata": {},
   "outputs": [
    {
     "data": {
      "image/png": "[encoded data removed]",
      "text/plain": [
       "<matplotlib.figure.Figure at 0x11403dbe0>"
      ]
     },
     "metadata": {},
     "output_type": "display_data"
    }
   ],
   "source": [
    "# Show dispersion plot for important vocabulary by lemma—another example\n",
    "\n",
    "bc_lemmatized_text.dispersion_plot(['caesar','cato'])"
   ]
  }
 ],
 "metadata": {
  "kernelspec": {
   "display_name": "Python 3",
   "language": "python",
   "name": "python3"
  },
  "language_info": {
   "codemirror_mode": {
    "name": "ipython",
    "version": 3
   },
   "file_extension": ".py",
   "mimetype": "text/x-python",
   "name": "python",
   "nbconvert_exporter": "python",
   "pygments_lexer": "ipython3",
   "version": "3.7.2"
  }
 },
 "nbformat": 4,
 "nbformat_minor": 1
}
