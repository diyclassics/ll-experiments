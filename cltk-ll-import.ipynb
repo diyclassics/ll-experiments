{
 "cells": [
  {
   "cell_type": "code",
   "execution_count": 15,
   "metadata": {},
   "outputs": [],
   "source": [
    "# import corpus, if necessary; will always be necessary working in colab\n",
    "from cltk.corpus.utils.importer import CorpusImporter\n",
    "corpus_importer = CorpusImporter('latin')\n",
    "corpus_importer.import_corpus('latin_text_latin_library')\n",
    "corpus_importer.import_corpus('latin_models_cltk')\n",
    "\n",
    "# imports\n",
    "from cltk.corpus.readers import get_corpus_reader\n",
    "from natsort import natsorted\n",
    "\n",
    "# set up corpus\n",
    "\n",
    "ll = get_corpus_reader(corpus_name = 'latin_text_latin_library', language = 'latin')"
   ]
  },
  {
   "cell_type": "code",
   "execution_count": 23,
   "metadata": {},
   "outputs": [
    {
     "name": "stdout",
     "output_type": "stream",
     "text": [
      "['vergil/aen1.txt', 'vergil/aen2.txt', 'vergil/aen3.txt', 'vergil/aen4.txt', 'vergil/aen5.txt', 'vergil/aen6.txt', 'vergil/aen7.txt', 'vergil/aen8.txt', 'vergil/aen9.txt', 'vergil/aen10.txt', 'vergil/aen11.txt', 'vergil/aen12.txt', 'vergil/ec1.txt', 'vergil/ec2.txt', 'vergil/ec3.txt', 'vergil/ec4.txt', 'vergil/ec5.txt', 'vergil/ec6.txt', 'vergil/ec7.txt', 'vergil/ec8.txt', 'vergil/ec9.txt', 'vergil/ec10.txt', 'vergil/geo1.txt', 'vergil/geo2.txt', 'vergil/geo3.txt', 'vergil/geo4.txt']\n"
     ]
    }
   ],
   "source": [
    "# make list of ll fileids for vergil; sort using natsort\n",
    "vergil_files = natsorted([file for file in ll.fileids() if 'vergil/' in file])\n",
    "print(vergil_files)"
   ]
  },
  {
   "cell_type": "code",
   "execution_count": 24,
   "metadata": {},
   "outputs": [
    {
     "name": "stdout",
     "output_type": "stream",
     "text": [
      "Vergil: Aeneid I\n",
      "P. VERGILI MARONIS AENEIDOS LIBER SECVNDVS\n",
      "P. VERGILI MARONIS AENEIDOS LIBER TERTIVS\n",
      "P. VERGILI MARONIS AENEIDOS LIBER QVARTVS\n",
      "P. VERGILI MARONIS AENEIDOS LIBER QVINTVS\n",
      "P. VERGILI MARONIS AENEIDOS LIBER SEXTVS\n",
      "P. VERGILI MARONIS AENEIDOS LIBER SEPTIMVS\n",
      "P. VERGILI MARONIS AENEIDOS LIBER OCTAVVS\n",
      "P. VERGILI MARONIS AENEIDOS LIBER NONVS\n",
      "P. VERGILI MARONIS AENEIDOS LIBER DECIMVS\n",
      "P. VERGILI MARONIS AENEIDOS LIBER VNDECIMVS\n",
      "P. VERGILI MARONIS AENEIDOS LIBER PRIMVS\n",
      "P. VERGILI MARONIS ECLOGA PRIMA\n",
      "P. VERGILI MARONIS ECLOGA SECVNDA\n",
      "P. VERGILI MARONIS ECLOGA TERTIA\n",
      "P. VERGILI MARONIS ECLOGA QVARTA\n",
      "P. VERGILI MARONIS ECLOGA QVINTA\n",
      "P. VERGILI MARONIS ECLOGA SEXTA\n",
      "P. VERGILI MARONIS ECLOGA SEPTIMA\n",
      "P. VERGILI MARONIS ECLOGA OCTAVA\n",
      "P. VERGILI MARONIS ECLOGA NONA\n",
      "P. VERGILI MARONIS ECLOGA DECIMA\n",
      "P. VERGILI MARONIS GEORGICON LIBER PRIMVS\n",
      "P. VERGILI MARONIS GEORGICON LIBER SECVNDVS\n",
      "P. VERGILI MARONIS GEORGICON LIBER TERTIVS\n",
      "P. VERGILI MARONIS GEORGICON LIBER QVARTVS\n"
     ]
    }
   ],
   "source": [
    "# make list of raw texts; print sample\n",
    "\n",
    "vergil_texts = [ll.raw(file) for file in vergil_files]\n",
    "for text in vergil_texts:\n",
    "    print(text.split('\\n')[0]) # print first line of each file"
   ]
  },
  {
   "cell_type": "code",
   "execution_count": 22,
   "metadata": {},
   "outputs": [
    {
     "name": "stdout",
     "output_type": "stream",
     "text": [
      "Vergil: Aeneid I\n",
      "\t\t \n",
      "\n",
      "\t\t \n",
      "\t\t\n",
      "\t\t \n",
      "\t\t\n",
      "\t\t \n",
      "\t\t \n",
      "\t \n",
      "\t\n",
      " \n",
      "\n",
      "\n",
      " P. VERGILI MARONIS AENEIDOS LIBER PRIMVS \n",
      "\n",
      "\n",
      " \n",
      "\n",
      " patulae cecini sub tegmine fagi.\n",
      "\n",
      "\n",
      " \n",
      "\n",
      " \n",
      "\n",
      " \n",
      "\t \n",
      "\t\t Vergil \n",
      "\t\t The Latin Library \n",
      "\t\t The Classics Page\n"
     ]
    }
   ],
   "source": [
    "# join files\n",
    "\n",
    "vergil_text = \"\\n\".join(vergil_texts)\n",
    "print(vergil_text[:100])\n",
    "print(vergil_text[-100:])"
   ]
  }
 ],
 "metadata": {
  "kernelspec": {
   "display_name": "Python 3",
   "language": "python",
   "name": "python3"
  },
  "language_info": {
   "codemirror_mode": {
    "name": "ipython",
    "version": 3
   },
   "file_extension": ".py",
   "mimetype": "text/x-python",
   "name": "python",
   "nbconvert_exporter": "python",
   "pygments_lexer": "ipython3",
   "version": "3.8.5"
  }
 },
 "nbformat": 4,
 "nbformat_minor": 4
}
