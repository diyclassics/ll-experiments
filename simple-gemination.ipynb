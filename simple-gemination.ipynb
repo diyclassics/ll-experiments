{
 "cells": [
  {
   "cell_type": "markdown",
   "metadata": {},
   "source": [
    "## Simple gemination\n",
    "\n",
    "Citations: Wills 1996, 45-49"
   ]
  },
  {
   "cell_type": "code",
   "execution_count": 1,
   "metadata": {},
   "outputs": [],
   "source": [
    "from random import sample\n",
    "from collections import Counter\n",
    "\n",
    "from nltk import bigrams\n",
    "\n",
    "from cltk.corpus.readers import get_corpus_reader\n",
    "from cltk.tokenize.latin.sentence import SentenceTokenizer\n",
    "\n",
    "from pprint import pprint\n",
    "\n",
    "from latin_tools import preprocess"
   ]
  },
  {
   "cell_type": "code",
   "execution_count": 2,
   "metadata": {},
   "outputs": [],
   "source": [
    "# Get corpus\n",
    "\n",
    "tesserae = get_corpus_reader(corpus_name = 'latin_text_tesserae', language = 'latin')\n",
    "files = list(tesserae.fileids())\n",
    "texts = tesserae.texts(files)"
   ]
  },
  {
   "cell_type": "code",
   "execution_count": 3,
   "metadata": {},
   "outputs": [],
   "source": [
    "# Set up tools\n",
    "\n",
    "sent_tokenizer = SentenceTokenizer(strict=True)"
   ]
  },
  {
   "cell_type": "markdown",
   "metadata": {},
   "source": [
    "### Simple gemination exaple: V. *Ecl.* 2.69"
   ]
  },
  {
   "cell_type": "code",
   "execution_count": 4,
   "metadata": {},
   "outputs": [],
   "source": [
    "ecl_files = [file for file in files if 'vergil.ecl' in file]"
   ]
  },
  {
   "cell_type": "code",
   "execution_count": 5,
   "metadata": {},
   "outputs": [],
   "source": [
    "ecl_text = next(tesserae.texts(ecl_files))"
   ]
  },
  {
   "cell_type": "code",
   "execution_count": 6,
   "metadata": {},
   "outputs": [],
   "source": [
    "# Add a poetry formatting parameter for sentence tokenizer?\n",
    "ecl_sents = [\" / \".join(sent.split('\\n')) for sent in sent_tokenizer.tokenize(ecl_text)]"
   ]
  },
  {
   "cell_type": "code",
   "execution_count": 7,
   "metadata": {},
   "outputs": [
    {
     "name": "stdout",
     "output_type": "stream",
     "text": [
      "1: Tityre, tu patulae recubans sub tegmine fagi / silvestrem tenui Musam meditaris avena;\n",
      "2: nos patriae fines et dulcia linquimus arva:\n",
      "3: nos patriam fugimus;\n"
     ]
    }
   ],
   "source": [
    "for i, sent in enumerate(ecl_sents[:3], 1):\n",
    "    print(f'{i}: {sent}')"
   ]
  },
  {
   "cell_type": "code",
   "execution_count": 8,
   "metadata": {},
   "outputs": [],
   "source": [
    "# Move strip to preprocess function\n",
    "\n",
    "ecl_sents_pp = [preprocess(sent).strip() for sent in ecl_sents]"
   ]
  },
  {
   "cell_type": "code",
   "execution_count": 9,
   "metadata": {},
   "outputs": [],
   "source": [
    "ecl_sents_pp_tokens = [sent.split() for sent in ecl_sents_pp]"
   ]
  },
  {
   "cell_type": "code",
   "execution_count": 10,
   "metadata": {},
   "outputs": [],
   "source": [
    "ecl_sents_pp_bigrams = [list(bigrams(sent.split())) for sent in ecl_sents_pp]"
   ]
  },
  {
   "cell_type": "code",
   "execution_count": 11,
   "metadata": {},
   "outputs": [],
   "source": [
    "matches = []\n",
    "\n",
    "for sent in ecl_sents_pp_bigrams:\n",
    "    matches_ = []\n",
    "    for bigram in sent:\n",
    "        if bigram[0] == bigram[1]:\n",
    "            matches_.append(bigram)\n",
    "    matches.append(matches_)"
   ]
  },
  {
   "cell_type": "code",
   "execution_count": 12,
   "metadata": {
    "scrolled": true
   },
   "outputs": [
    {
     "name": "stdout",
     "output_type": "stream",
     "text": [
      "92: heu heu\n",
      "Heu, heu, quid volui misero mihi! \n",
      "\n",
      "106: corydon corydon\n",
      "Ah, Corydon, Corydon, quae te dementia cepit! \n",
      "\n",
      "170: uale uale\n",
      "nam me discedere flevit, / et longum “formose, vale, vale,” inquit, “Iolla.” / Triste lupus stabulis, maturis frugibus imbres. \n",
      "\n",
      "188: heu heu\n",
      "Heu, heu, quam pingui macer est mihi taurus in ervo! \n",
      "\n",
      "370: corydon corydon\n",
      "ex illo Corydon Corydon est tempore nobis. \n",
      "\n",
      "413: orpheus orpheus\n",
      "sit Tityrus Orpheus, / Orpheus in silvis, inter delphinas Arion. \n",
      "\n",
      "488: astrum astrum\n",
      "Ecce Dionaei processit Caesaris astrum, / astrum, quo segetes gauderent frugibus, et quo / duceret apricis in collibus uva colorem. \n",
      "\n"
     ]
    }
   ],
   "source": [
    "for i, match in enumerate(matches, 1):\n",
    "    if match:\n",
    "        for m in match:\n",
    "            print(f'{i}: {\" \".join(m)}\\n{ecl_sents[i-1]}', '\\n')"
   ]
  },
  {
   "cell_type": "markdown",
   "metadata": {},
   "source": [
    "### Simple gemination in Latin literature"
   ]
  },
  {
   "cell_type": "code",
   "execution_count": 13,
   "metadata": {},
   "outputs": [],
   "source": [
    "texts = tesserae.texts(files)"
   ]
  },
  {
   "cell_type": "code",
   "execution_count": 14,
   "metadata": {},
   "outputs": [],
   "source": [
    "sents = [sent_tokenizer.tokenize(text) for text in texts]\n",
    "sents = [[\" \".join(y.split('\\n')) for y in x] for x in sents] # remove line breaks for sents in poetry\n",
    "sents_pp = [[preprocess(sent_) for sent_ in sent] for sent in sents]\n",
    "sents_pp_bigrams = [[list(bigrams(sent_.split())) for sent_ in sent] for sent in sents_pp]"
   ]
  },
  {
   "cell_type": "code",
   "execution_count": 15,
   "metadata": {},
   "outputs": [],
   "source": [
    "text_matches = []\n",
    "for text in sents_pp_bigrams:\n",
    "    matches = []\n",
    "    for sent in text:\n",
    "        matches_ = []\n",
    "        for bigram in sent:\n",
    "            if bigram[0] == bigram[1]:\n",
    "                matches_.append(bigram)\n",
    "        matches.append(matches_)\n",
    "    text_matches.append(matches)    "
   ]
  },
  {
   "cell_type": "code",
   "execution_count": 16,
   "metadata": {},
   "outputs": [],
   "source": [
    "examples = []\n",
    "for i, text in enumerate(text_matches):\n",
    "    for j, match in enumerate(text, 1):\n",
    "        if match:\n",
    "            for m in match:\n",
    "                examples.append((files[i], j, \" \".join(m), sents[i][j-1]))"
   ]
  },
  {
   "cell_type": "code",
   "execution_count": 17,
   "metadata": {},
   "outputs": [
    {
     "name": "stdout",
     "output_type": "stream",
     "text": [
      "texts/terence.hecyra.tess sent. 221\n",
      "uestro uestro\n",
      "Ubi duxere impulsu vestro, vestro impulsu easdem exigunt. \n",
      "\n",
      "texts/polignac.antilucretius.tess sent. 1132\n",
      "se se\n",
      "SIC pulso semper locus est, Spatiumque liquori,  Quo se se, prisca eiectus statione, receptet. \n",
      "\n",
      "texts/jerome.vulgate.part.21.psalms.tess sent. 1007\n",
      "deus deus\n",
      "Deus Deus meus ad te de luce vigilo sitivit in te anima mea quam multipliciter tibi caro mea; \n",
      "\n",
      "texts/seneca.medea.tess sent. 481\n",
      "iam iam\n",
      "Iam iam recepi sceptra germanum patrem, spoliumque Colchi pecudis auratae tenent; \n",
      "\n",
      "texts/jerome.vulgate.part.21a.old_latin_psalms.tess sent. 1967\n",
      "benedicet benedicet\n",
      "Dominus recordatus nostri benedicet benedicet domui Israhel benedicet domui Aaron; \n",
      "\n",
      "texts/jerome.vulgate.part.21a.old_latin_psalms.tess sent. 2019\n",
      "obsecro obsecro\n",
      "obsecro Domine salva obsecro obsecro Domine prosperare obsecro; \n",
      "\n",
      "texts/silius_italicus.punica.part.1.tess sent. 80\n",
      "atlas atlas\n",
      "ultra obsidet aequor, nec patitur nomen proferri longius Atlas, Atlas subducto tracturus uertice caelum. \n",
      "\n",
      "texts/macrobius.saturnalia.part.3.tess sent. 74\n",
      "liceat liceat\n",
      "Cavetur enim in iure pontificio ut, quoniam oves duabus ex causis lavari solent, aut ut curetur scabies aut ut lana purgetur, festis diebus purgandae lanae gratia oves lavare non liceat, liceat autem, si curatione scabies abluenda sit. \n",
      "\n",
      "texts/servius_honoratus.in_virgilii_georgicon_libros_commentarius.part.1.tess sent. 1284\n",
      "i i\n",
      "ad medias prvinas hoc est quod supra ait \"usque sub extremum brumae i. i\". \n",
      "\n",
      "texts/caesar.de_bello_civili.part.3.tess sent. 736\n",
      "alios alios\n",
      "hi regum amicos ad mortem deposcere, hi bona locupletum diripere, stipendii augendi causa regis domum obsidere, regno expellere alios, alios arcessere vetere quodam Alexandrini exercitus instituto \r",
      " consuerant. \n",
      "\n",
      "texts/terence.adelphi.tess sent. 955\n",
      "heus heus\n",
      "Heus, heus: \n",
      "\n",
      "texts/pliny_the_younger.letters.part.8.tess sent. 213\n",
      "nulla nulla\n",
      "sed cum suspecta virtus, inertia in pretio, cum ducibus auctoritas nulla, nulla militibus verecundia, nusquam imperium nusquam obsequium, omnia soluta turbata atquc etiam in contrarium versa, postremo obliviscenda magis quam tenenda. \n",
      "\n",
      "texts/jerome.vulgate.part.73.apocalypse.tess sent. 79\n",
      "sanctus sanctus\n",
      "et quattuor animalia singula eorum habebant alas senas et in circuitu et intus plena sunt oculis et requiem non habent die et nocte dicentia sanctus sanctus sanctus Dominus Deus omnipotens qui erat et qui est et qui venturus est; \n",
      "\n",
      "texts/cicero.epistulae_ad_familiares.part.13.ad_memmium_et_ceteros.tess sent. 308\n",
      "x x\n",
      "in sextante sunt ii quorum pars sine ulla cuiusquam querela publica potest esse ea est ad HS X_X_X_. \n",
      "\n",
      "texts/cicero.letters_to_brutus.tess sent. 90\n",
      "sit sit\n",
      "itaque timeo de consulatu ne Caesar tuus altius se ascendisse putet decretis tuis quam inde, si consul factus sit, sit descensurus. \n",
      "\n",
      "texts/jerome.vulgate.part.28.jeremiah.tess sent. 360\n",
      "a a\n",
      "et dixi a a a Domine Deus prophetae dicunt eis non videbitis gladium et famis non erit in vobis sed pacem veram dabit vobis in loco isto; \n",
      "\n",
      "texts/polignac.epia.tess sent. 1284\n",
      "nullus nullus\n",
      "Millibus ex tantis procerum consurgere nullus,  \r",
      " nullus ad immensae reparandum vulnera cladis  \r",
      " audebat praestare manus. \n",
      "\n",
      "texts/jerome.epistulae.tess sent. 12994\n",
      "non non\n",
      "non, non', et qui cum fide audiunt: \n",
      "\n",
      "texts/plautus.truculentus.tess sent. 112\n",
      "uos uos\n",
      "rem perdidi apud vos, vos meum negotium abstulistis. \n",
      "\n",
      "texts/plautus.captivi.tess sent. 11\n",
      "est est\n",
      "si non ubi sedeas locus est, est ubi ambules,  quando histrionem cogis mendicarier. \n",
      "\n",
      "texts/polignac.epia.tess sent. 379\n",
      "immo immo\n",
      "\"Immo, \r",
      " immo\" ait \"armato latronem pellere luscum \r",
      " finibus Ausoniae dabitur. \n",
      "\n",
      "texts/servius_honoratus.in_virgilii_georgicon_libros_commentarius.part.3.tess sent. 783\n",
      "canalibus canalibus\n",
      "ilignis canalibus canalibus factis ex ilice. \n",
      "\n",
      "texts/valerius_maximus.facta_et_dicta_memorabilia.part.9.tess sent. 37\n",
      "alterum alterum\n",
      "itaque eodem tempore et in isdem penatibus diuersa saecula habitarunt, frugalissimum alterum, alterum nequissimum. \n",
      "\n",
      "texts/jerome.vulgate.part.51.acts.tess sent. 785\n",
      "saule saule\n",
      "et decidens in terram audivi vocem dicentem mihi Saule Saule quid me persequeris; \n",
      "\n",
      "texts/seneca.thyestes.tess sent. 452\n",
      "prohibet prohibet\n",
      "prohibet, prohibet! \n",
      "\n"
     ]
    }
   ],
   "source": [
    "for example in sample(examples, 25):\n",
    "    print(f'{example[0]} sent. {example[1]}\\n{example[2]}\\n{example[3]}','\\n')"
   ]
  },
  {
   "cell_type": "code",
   "execution_count": 18,
   "metadata": {},
   "outputs": [],
   "source": [
    "with open('results/simple-gemination.txt','w') as f:\n",
    "    for example in examples:\n",
    "        f.write(f'{example[0]}\\nsentence {example[1]}\\n{example[2]}\\n{example[3]}\\n\\n')"
   ]
  },
  {
   "cell_type": "code",
   "execution_count": 19,
   "metadata": {},
   "outputs": [],
   "source": [
    "_, _, gems, _ = zip(*examples)"
   ]
  },
  {
   "cell_type": "code",
   "execution_count": 20,
   "metadata": {},
   "outputs": [
    {
     "name": "stdout",
     "output_type": "stream",
     "text": [
      "[('iam iam', 67), ('se se', 56), ('a a', 53), ('x x', 39), ('e e', 34), ('amen amen', 31), ('deus deus', 29), ('c c', 27), ('nunc nunc', 26), ('heu heu', 26), ('te te', 21), ('est est', 18), ('iterumque iterumque', 18), ('ut ut', 17), ('i i', 17), ('non non', 16), ('me me', 16), ('modo modo', 16), ('age age', 14), ('ille ille', 14), ('sanctus sanctus', 14), ('domine domine', 14), ('mane mane', 14), ('r r', 14), ('quam quam', 13)]\n"
     ]
    }
   ],
   "source": [
    "print(Counter(gems).most_common(25))"
   ]
  },
  {
   "cell_type": "markdown",
   "metadata": {},
   "source": [
    "### Bibliography\n",
    "\n",
    "- Wills, J. 1996. *Repetition in Latin Poetry: Figures of Allusion*. Clarendon Press."
   ]
  }
 ],
 "metadata": {
  "kernelspec": {
   "display_name": "Python 3",
   "language": "python",
   "name": "python3"
  },
  "language_info": {
   "codemirror_mode": {
    "name": "ipython",
    "version": 3
   },
   "file_extension": ".py",
   "mimetype": "text/x-python",
   "name": "python",
   "nbconvert_exporter": "python",
   "pygments_lexer": "ipython3",
   "version": "3.7.4"
  }
 },
 "nbformat": 4,
 "nbformat_minor": 2
}
