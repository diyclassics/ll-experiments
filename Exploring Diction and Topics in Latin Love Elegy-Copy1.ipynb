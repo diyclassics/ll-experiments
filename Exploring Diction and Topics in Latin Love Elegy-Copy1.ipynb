{
 "cells": [
  {
   "cell_type": "markdown",
   "metadata": {},
   "source": [
    "# Exploring Diction and Topics in Lucan\n",
    "\n",
    "Patrick J. Burns\n",
    "Institute for the Study of the Ancient World"
   ]
  },
  {
   "cell_type": "markdown",
   "metadata": {},
   "source": [
    "Follow along at: https://github.com/diyclassics/ll-experiments"
   ]
  },
  {
   "cell_type": "markdown",
   "metadata": {},
   "source": [
    "Necessary Python packages\n",
    "- pip install jupyter\n",
    "- pip install numpy pandas matplotlib sklearn\n",
    "- pip install cltk"
   ]
  },
  {
   "cell_type": "markdown",
   "metadata": {},
   "source": [
    "An iPython notebook to demonstrate the use of the Classical Language Toolkit for developing a natural language processing workflow for Latin texts and using this workflow for the basis of exploratory data analysis of diction and topics in these texts. Based on Allen Riddell's [»Text Analysis with Topic Models for the Humanities and Social Sciences«](https://de.dariah.eu/tatom/index.html).\n",
    "\n",
    "Presented at ISAW Intro to Digital Humanities course, 12/4/17  \n",
    "Presented at Yale University Classics Department, 5/18/17  \n",
    "  \n",
    "Last updated 11/29/17"
   ]
  },
  {
   "cell_type": "markdown",
   "metadata": {},
   "source": [
    "## Set up corpora"
   ]
  },
  {
   "cell_type": "code",
   "execution_count": 1,
   "metadata": {},
   "outputs": [],
   "source": [
    "## Set up corpora\n",
    "\n",
    "## You will need the models/datasets that the new lemmatizer uses\n",
    "## Note that this will generate an error if this and older \n",
    "## version of this corpus is already installed. If that happens,\n",
    "## backup the old version, move or delete it, and reimport the corpus.\n",
    "\n",
    "#from cltk.corpus.utils.importer import CorpusImporter\n",
    "\n",
    "#corpus_importer = CorpusImporter('latin')\n",
    "#corpus_importer.list_corpora\n",
    "\n",
    "#corpus_importer.import_corpus('latin_models_cltk')\n",
    "\n",
    "## We will be using the Latin Library corpus for today's workshop,\n",
    "## so we will also need to import that as well.\n",
    "\n",
    "#corpus_importer.import_corpus('latin_text_latin_library')"
   ]
  },
  {
   "cell_type": "markdown",
   "metadata": {},
   "source": [
    "## Imports"
   ]
  },
  {
   "cell_type": "code",
   "execution_count": 2,
   "metadata": {},
   "outputs": [],
   "source": [
    "# In general, you want to keep imports at the front of a project, but for\n",
    "# the purposes of today's workshop, it seemed better to introduce them on\n",
    "# an as-needed basis. Still, here is an example of what I would usually do\n",
    "# at the beginning of a notebook.\n",
    "\n",
    "from pprint import pprint \n",
    "\n",
    "# pprint allows for cleaner presentation of Python objects, esp. long strings,\n",
    "# lists (and nested lists), dictionaries, etc."
   ]
  },
  {
   "cell_type": "markdown",
   "metadata": {},
   "source": [
    "## Get corpus"
   ]
  },
  {
   "cell_type": "code",
   "execution_count": 3,
   "metadata": {},
   "outputs": [
    {
     "name": "stdout",
     "output_type": "stream",
     "text": [
      "['12tables.txt', '1644.txt', 'abbofloracensis.txt', 'abelard/dialogus.txt', 'abelard/epistola.txt', 'abelard/historia.txt', 'addison/barometri.txt', 'addison/burnett.txt', 'addison/hannes.txt', 'addison/machinae.txt', 'addison/pax.txt', 'addison/praelium.txt', 'addison/preface.txt', 'addison/resurr.txt', 'addison/sphaer.txt', 'adso.txt', 'aelredus.txt', 'agnes.txt', 'alanus/alanus1.txt', 'alanus/alanus2.txt', 'albertanus/albertanus.arsloquendi.txt', 'albertanus/albertanus.liberconsol.txt', 'albertanus/albertanus.sermo.txt', 'albertanus/albertanus.sermo1.txt', 'albertanus/albertanus.sermo2.txt', 'albertanus/albertanus.sermo3.txt', 'albertanus/albertanus.sermo4.txt', 'albertanus/albertanus1.txt', 'albertanus/albertanus2.txt', 'albertanus/albertanus3.txt', 'albertanus/albertanus4.txt', 'albertofaix/hist1.txt', 'albertofaix/hist10.txt', 'albertofaix/hist11.txt', 'albertofaix/hist12.txt', 'albertofaix/hist2.txt', 'albertofaix/hist3.txt', 'albertofaix/hist4.txt', 'albertofaix/hist5.txt', 'albertofaix/hist6.txt', 'albertofaix/hist7.txt', 'albertofaix/hist8.txt', 'albertofaix/hist9.txt', 'alcuin/cella.txt', 'alcuin/conflictus.txt', 'alcuin/epitaphium.txt', 'alcuin/luscinia.txt', 'alcuin/propos.txt', 'alcuin/rec.txt', 'alcuin/rhetorica.txt']\n"
     ]
    },
    {
     "data": {
      "text/plain": [
       "2152"
      ]
     },
     "execution_count": 3,
     "metadata": {},
     "output_type": "execute_result"
    }
   ],
   "source": [
    "# Get the Latin Library corpus\n",
    "\n",
    "from cltk.corpus.latin import latinlibrary\n",
    "\n",
    "# The CLTK Latin Library corpus is a web-scraped collection of plaintext files\n",
    "# from thelatinlibrary.com.\n",
    "\n",
    "# We can access the individual files as follows...\n",
    "\n",
    "files = latinlibrary.fileids()\n",
    "print(files[:50]) # The first 50 files in the corpus\n",
    "\n",
    "# Note the [:50] slice to limit our list to the first 50 items.\n",
    "\n",
    "len(files)"
   ]
  },
  {
   "cell_type": "markdown",
   "metadata": {},
   "source": [
    "## Get corpus files"
   ]
  },
  {
   "cell_type": "code",
   "execution_count": 10,
   "metadata": {},
   "outputs": [],
   "source": [
    "# We can iterate over the list of files to retrieve specific files. Today\n",
    "# we want to work with book 1 of Propertius and book 1 of Tibullus. We\n",
    "# can isolate these files by using:\n",
    "# 1. list comprehension\n",
    "# 2. testing for membership with 'in'\n",
    "\n",
    "# NB: Python designates lists with square brackets, i.e. [...]; list comprehensions\n",
    "# build lists in place with the following syntax...\n",
    "\n",
    "lucan_files = [file for file in files if 'lucan/' in file]"
   ]
  },
  {
   "cell_type": "code",
   "execution_count": 7,
   "metadata": {},
   "outputs": [],
   "source": [
    "# Here are all the files in the Latin Library with 'prop' in the filename. We\n",
    "# are looking for 'propertius1.txt' and can assign it to a variable as follows...\n",
    "\n",
    "propertius_file = 'propertius1.txt'"
   ]
  },
  {
   "cell_type": "code",
   "execution_count": 73,
   "metadata": {},
   "outputs": [
    {
     "name": "stdout",
     "output_type": "stream",
     "text": [
      "['erasmus/antibarb.txt', 'suetonius/suet.tib.txt', 'suetonius/suet.tibullus.txt', 'tibullus1.txt', 'tibullus2.txt', 'tibullus3.txt']\n",
      "\n",
      "\n",
      "['erasmus/antibarb.txt',\n",
      " 'suetonius/suet.tib.txt',\n",
      " 'suetonius/suet.tibullus.txt',\n",
      " 'tibullus1.txt',\n",
      " 'tibullus2.txt',\n",
      " 'tibullus3.txt']\n"
     ]
    }
   ],
   "source": [
    "# Repeat for Tibullus\n",
    "\n",
    "print([file for file in files if 'tib' in file])\n",
    "print('\\n')\n",
    "pprint([file for file in files if 'tib' in file])\n",
    "\n",
    "tibullus_file = 'tibullus1.txt'"
   ]
  },
  {
   "cell_type": "markdown",
   "metadata": {},
   "source": [
    "## Get texts"
   ]
  },
  {
   "cell_type": "code",
   "execution_count": 74,
   "metadata": {
    "collapsed": true
   },
   "outputs": [],
   "source": [
    "# Use raw function for plaintextcorpus reader to get the contents of\n",
    "# the file as a string...\n",
    "\n",
    "propertius_raw = latinlibrary.raw(propertius_file)"
   ]
  },
  {
   "cell_type": "code",
   "execution_count": 75,
   "metadata": {},
   "outputs": [
    {
     "name": "stdout",
     "output_type": "stream",
     "text": [
      "SEXTI PROPERTI ELEGIARVM LIBER PRIMVS\n",
      "\n",
      "1 2 3 4 5 6 7 8a 8b 9 10 11 12 13 14 15 16 17 18 19 20 21 22\n",
      "\n",
      "I\n",
      "\n",
      "Cynthia prima suis miserum me cepit ocellis,\n",
      "    contactum nullis ante cupidinibus.\n",
      "tum mihi constantis deiecit lumina fastus\n",
      "    et caput impositis pressit Amor pedibus,\n",
      "donec me docuit castas odisse puellas                 5\n",
      "    improbus, et nullo vivere consilio.\n",
      "ei mihi, iam toto furor hic non deficit anno,\n",
      "    cum tamen adversos cogor habere deos.\n",
      "Milanion nullos fugiendo, Tulle, labores\n",
      "\n"
     ]
    }
   ],
   "source": [
    "# Here is a preview of the contents...\n",
    "\n",
    "print(propertius_raw[:500])"
   ]
  },
  {
   "cell_type": "code",
   "execution_count": 76,
   "metadata": {},
   "outputs": [
    {
     "name": "stdout",
     "output_type": "stream",
     "text": [
      "XXII\n",
      "\n",
      "Qualis et unde genus, qui sint mihi, Tulle, Penates,\n",
      "    quaeris pro nostra semper amicitia.\n",
      "si Perusina tibi patriae sunt nota sepulcra,\n",
      "    Italiae duris funera temporibus,\n",
      "cum Romana suos egit discordia cives—                 5\n",
      "    sic mihi praecipue, pulvis Etrusca, dolor,\n",
      "tu proiecta mei perpessa's membra propinqui,\n",
      "    tu nullo miseri contegis ossa solo—\n",
      "proxima suppositos contingens Umbria campos\n",
      "    me genuit terris fertilis uberibus.\n",
      "\n",
      "Propertius\tThe Latin Library\tThe Classics Page\n"
     ]
    }
   ],
   "source": [
    "# And a bit of the end...\n",
    "\n",
    "print(propertius_raw[-500:]) # Note the negative slice"
   ]
  },
  {
   "cell_type": "code",
   "execution_count": 77,
   "metadata": {
    "collapsed": true
   },
   "outputs": [],
   "source": [
    "# Get the Tibullus texts\n",
    "\n",
    "tibullus_raw = latinlibrary.raw(tibullus_file)"
   ]
  },
  {
   "cell_type": "markdown",
   "metadata": {},
   "source": [
    "## Preprocessing"
   ]
  },
  {
   "cell_type": "code",
   "execution_count": 23,
   "metadata": {},
   "outputs": [],
   "source": [
    "# Imports for preprocessing\n",
    "\n",
    "import re # Regex module, useful for pattern matching\n",
    "import html # Useful for handling entities\n",
    "\n",
    "# Import/load a CLTK tool for normalizing i/j and u/v in Latin texts\n",
    "from cltk.stem.latin.j_v import JVReplacer\n",
    "replacer = JVReplacer()"
   ]
  },
  {
   "cell_type": "code",
   "execution_count": 45,
   "metadata": {},
   "outputs": [],
   "source": [
    "# Preprocess texts\n",
    "\n",
    "# I've written the following preprocessing function for today's workshop. It's\n",
    "# pretty specific in a few cases—more so than I would normally would use, e.g. '8a'\n",
    "# and '8b'.\n",
    "\n",
    "# Still the goal of preprocessing is to make all of the texts we are working with\n",
    "# for this experiment as uniform as possible, so that functions/processes further along\n",
    "# encounter consistent data. GIGO, as they say. E.g., for today we want\n",
    "# 'verbum' and 'uerbum' to be treated as the same word. For a different experiment, \n",
    "# you might not and need to make different editorial choices.\n",
    "\n",
    "\n",
    "def preprocess(text):\n",
    "\n",
    "    # Remove Latin Library-specific paratexts with regex\n",
    "    \n",
    "    remove_list = [r'\\bThe Latin Library\\b',\n",
    "                   r'\\bThe Classics Page\\b',\n",
    "                   r'\\bM. ANNAEI LVCANI BELLI CIVILIS LIBER .+?\\b',\n",
    "                   r'\\bLucan Liber .+?\\b',\n",
    "                   r'\\bLucan\\b',\n",
    "                  ]\n",
    "    \n",
    "    for pattern in remove_list:\n",
    "        text = re.sub(pattern, '', text)\n",
    "\n",
    "    # Remove html entities and related html artifacts\n",
    "    \n",
    "    text = html.unescape(text) # Handle html entities\n",
    "    text = re.sub(r'&nbsp;?', ' ',text) #&nbsp; stripped incorrectly in corpus?\n",
    "    text = re.sub(r'\\x00',' ',text) #Another space problem?\n",
    "    text = re.sub(r' \\xa0 ', '    ', text)\n",
    "    \n",
    "    # Remove roman numeral headings; must be before lower & replacer\n",
    "    text = re.sub(r'\\b(M{1,4}(CM|CD|D?C{0,3})(XC|XL|L?X{0,3})(IX|IV|V?I{0,3})|M{0,4}(CM|C?D|D?C{1,3})(XC|XL|L?X{0,3})(IX|IV|V?I{0,4})|M{0,4}(CM|CD|D?C{0,3})(XC|X?L|L?X{1,3})(IX|IV|V?I{0,3})|M{0,4}(CM|CD|D?C{0,3})(XC|XL|L?X{0,3})(IX|I?V|V?I{1,3}))\\b',' ',text)\n",
    "    \n",
    "    # Lowercase text\n",
    "    text = text.lower()\n",
    "\n",
    "    # Normalize text\n",
    "    text = replacer.replace(text) #Normalize u/v & i/j\n",
    "    \n",
    "    # Remove punctuation with translate\n",
    "    punctuation =\"\\\"#$%&\\'()+,-/:;<=>@[\\]^_`{|}~.?!«»—\"\n",
    "    translator = str.maketrans({key: \" \" for key in punctuation})\n",
    "    text = text.translate(translator)\n",
    "    \n",
    "    # Remove numbers\n",
    "    translator = str.maketrans({key: \" \" for key in '0123456789'})\n",
    "    text = text.translate(translator)\n",
    "    \n",
    "    # Handle spacing\n",
    "    text = re.sub('[ ]+',' ', text) # Remove double spaces\n",
    "    text = re.sub('\\t',' ', text) # Remove tabs\n",
    "    text = re.sub('^\\s+','', text)\n",
    "    text = re.sub(' \\n', '\\n', text)\n",
    "    text = re.sub('\\n\\n', '~', text)\n",
    "    text = re.sub('~+', '\\n\\n', text)\n",
    "    \n",
    "    return text.strip()"
   ]
  },
  {
   "cell_type": "code",
   "execution_count": 46,
   "metadata": {},
   "outputs": [],
   "source": [
    "lucan_raws = [latinlibrary.raw(file) for file in lucan_files]"
   ]
  },
  {
   "cell_type": "code",
   "execution_count": 48,
   "metadata": {},
   "outputs": [],
   "source": [
    "lucan_pps = [preprocess(raw) for raw in lucan_raws]"
   ]
  },
  {
   "cell_type": "code",
   "execution_count": 51,
   "metadata": {},
   "outputs": [],
   "source": [
    "lucan_trims = [text.strip() for text in lucan_pps]"
   ]
  },
  {
   "cell_type": "markdown",
   "metadata": {},
   "source": [
    "## Split text into list of poems"
   ]
  },
  {
   "cell_type": "markdown",
   "metadata": {},
   "source": [
    "## Set up titles"
   ]
  },
  {
   "cell_type": "code",
   "execution_count": 75,
   "metadata": {},
   "outputs": [],
   "source": [
    "lucan_titles = ['Luc. 1', 'Luc. 10', 'Luc. 2', 'Luc. 3', 'Luc. 4', \n",
    "                   'Luc. 5', 'Luc. 6', 'Luc. 7', 'Luc. 8', 'Luc. 9']\n",
    "\n"
   ]
  },
  {
   "cell_type": "code",
   "execution_count": 53,
   "metadata": {},
   "outputs": [],
   "source": [
    "# Set up CLTK Latin word tokenizer\n",
    "\n",
    "from cltk.tokenize.word import WordTokenizer\n",
    "word_tokenizer = WordTokenizer('latin')"
   ]
  },
  {
   "cell_type": "code",
   "execution_count": 54,
   "metadata": {},
   "outputs": [
    {
     "name": "stdout",
     "output_type": "stream",
     "text": [
      "['bella', 'per', 'emathios', 'plus', 'quam', 'ciuilia', 'campos', 'ius', '-que', 'datum', 'sceleri', 'canimus', 'populum', '-que', 'potentem', 'in', 'sua', 'uictrici', 'conuersum', 'uiscera', 'dextra', 'cognatas', '-que', 'acies', 'et', 'rupto', 'foedere', 'regni', 'certatum', 'totis', 'concussi', 'uiribus', 'orbis', 'in', 'commune', 'nefas', 'infestis', '-que', 'obuia', 'signis', 'signa', 'pares', 'aquilas', 'et', 'pila', 'minantia', 'pilis', 'quis', 'furor', 'o', 'ciues', 'quae', 'tanta', 'licentia', 'ferri', 'gentibus', 'inuisis', 'latium', 'praebere', 'cruorem', 'cumque', 'superba', 'foret', 'babylo', '-ne', 'spolianda', 'tropaeis', 'ausoniis', 'umbra', '-que', 'erraret', 'crassus', 'inulta', 'bella', 'geri', 'placuit', 'nullos', 'habitura', 'triumphos', 'heu', 'quantum', 'terrae', 'potuit', 'pelagi', '-que', 'parari', 'hoc', 'quem', 'ciuiles', 'hauserunt', 'sanguine', 'dextrae', 'unde', 'uenit', 'titan', 'et', 'nox', 'ubi', 'sidera', 'condit', 'quaque', 'dies', 'medius', 'flagrantibus', 'aestuat', 'horis', 'et', 'qua', 'bruma', 'rigens', 'ac', 'nescia', 'uere', 'remitti', 'astringit', 'scythico', 'glacialem', 'frigore', 'pontum', 'sub', 'iuga', 'iam', 'seres', 'iam', 'barbarus', 'isset', 'araxes', 'et', 'gens', 'siqua', 'iacet', 'nascenti', 'conscia', 'nilo', 'tum', 'si', 'tantus', 'amor', 'belli', 'tibi', 'roma', 'nefandi', 'totum', 'sub', 'latias', 'leges', 'cum', 'miseris', 'orbem', 'in', 'te', 'uerte', 'manus', 'nondum', 'tibi', 'defuit', 'hostis', 'at', 'nunc', 'semirutis', 'pendent', 'quod', 'moenia', 'tectis', 'urbibus', 'italiae', 'lapsis', '-que', 'ingentia', 'muris', 'saxa', 'iacent', 'nullo', '-que', 'domus', 'custode', 'tenentur', 'rarus', 'et', 'antiquis', 'habitator', 'in', 'urbibus', 'errat', 'horrida', 'quod', 'dumis', 'multos', '-que', 'inarata', 'per', 'annos', 'hesperia', 'est', 'desunt', '-que', 'manus', 'poscentibus', 'aruis', 'non', 'tu', 'pyrrhe', 'ferox', 'nec', 'tantis', 'cladibus', 'auctor', 'poenus', 'erit', 'nulli', 'penitus', 'descendere', 'ferro', 'contigit', 'alta', 'sedent', 'ciuilis', 'uolnera', 'dextrae', 'quod', 'si', 'non', 'aliam', 'uenturo', 'fata', 'neroni', 'inuenere', 'uiam', 'magno', '-que', 'aeterna', 'parantur', 'regna', 'deis', 'caelum', '-que', 'suo', 'seruire', 'tonanti', 'non', 'nisi', 'saeuorum', 'potuit', 'post', 'bella', 'gigantum', 'iam', 'nihil', 'o', 'superi', 'querimur', 'scelera', 'ipsa', 'nefas', '-que', 'hac', 'mercede', 'placent', 'diros', 'pharsalia', 'campos', 'inpleat', 'et', 'poeni', 'saturentur', 'sanguine', 'manes', 'ultima', 'funesta', 'concurrant', 'proelia', 'munda', 'his', 'caesar', 'perusina', 'fames', 'mutinae', '-que', 'labores', 'accedant', 'fatis', 'et', 'quas', 'premit', 'aspera', 'classes', 'leucas', 'et', 'ardenti', 'seruilia', 'bella', 'sub', 'aetna', 'multum', 'roma', 'tamen', 'debet', 'ciuilibus', 'armis', 'quod', 'tibi', 'res', 'acta', 'est', 'te', 'cum', 'statione', 'peracta', 'astra', 'petes', 'serus', 'praelati', 'regia', 'caeli', 'excipiet', 'gaudente', 'polo', 'seu', 'sceptra', 'tenere', 'seu', 'te', 'flammigeros', 'phoebi', 'conscendere', 'currus', 'tellurem', '-que', 'nihil', 'mutato', 'sole', 'timentem', 'igne', 'uago', 'lustrare', 'iuuet', 'tibi', 'numine', 'ab', 'omni', 'cedetur', 'iuris', '-que', 'tui', 'natura', 'relinquet', 'quis', 'deus', 'esse', 'uelis', 'ubi', 'regnum', 'ponere', 'mundi', 'sed', 'neque', 'in', 'arctoo', 'sedem', 'tibi', 'legeris', 'orbe', 'nec', 'polus', 'auersi', 'calidus', 'qua', 'uergitur', 'austri', 'unde', 'tuam', 'uideas', 'obliquo', 'sidere', 'romam', 'aetheris', 'inmensi', 'partem', 'si', 'presseris', 'unam', 'sentiet', 'axis', 'onus', 'librati', 'pondera', 'caeli', 'orbe', 'tene', 'medio', 'pars', 'aetheris', 'illa', 'sereni', 'tota', 'uacet', 'nullae', '-que', 'obstent', 'a', 'caesare', 'nubes', 'tum', 'genus', 'humanum', 'positis', 'sibi', 'consulat', 'armis', 'in', '-que', 'uicem', 'gens', 'omnis', 'amet', 'pax', 'missa', 'per', 'orbem', 'ferrea', 'belligeri', 'conpescat', 'limina', 'iani', 'sed', 'mihi', 'iam', 'numen', 'nec', 'si', 'te', 'pectore', 'uates', 'accipio', 'cirrhaea', 'uelim', 'secreta', 'mouentem', 'sollicitare', 'deum', 'bacchum', '-que', 'auertere', 'nysa', 'tu', 'satis', 'ad', 'uires', 'romana', 'in', 'carmina', 'dandas', 'fert', 'animus', 'causas', 'tantarum', 'expromere', 'rerum', 'inmensum', '-que', 'aperitur', 'opus', 'quid', 'in', 'arma', 'furentem', 'inpulerit', 'populum', 'quid', 'pacem', 'excusserit', 'orbi', 'inuida', 'fatorum', 'series', 'summis', '-que', 'negatum', 'stare', 'diu', 'nimio', '-que', 'graues', 'sub', 'pondere', 'lapsus', 'nec', 'se', 'roma', 'ferens', 'sic', 'cum', 'conpage', 'soluta', 'saecula', 'tot', 'mundi', 'suprema', 'coegerit', 'hora', 'antiquum', 'repetens', 'iterum', 'chaos', 'omnia', 'mixtis', 'sidera', 'sideribus', 'concurrent', 'ignea', 'pontum', 'astra', 'petent', 'tellus', 'extendere', 'litora', 'nolet', 'excutiet', '-que', 'fretum', 'fratri', 'contraria', 'phoebe', 'ibit', 'et', 'obliquum', 'bigas', 'agitare', 'per', 'orbem', 'indignata', 'diem', 'poscet', 'sibi', 'tota', '-que', 'discors', 'machina', 'diuolsi', 'turbabit', 'foedera', 'mundi', 'in', 'se', 'magna', 'ruunt', 'laetis', 'hunc', 'numina', 'rebus', 'crescendi', 'posuere', 'modum', 'nec', 'gentibus', 'ullis', 'commodat', 'in', 'populum', 'terrae', 'pelagi', '-que', 'potentem', 'inuidiam', 'fortuna', 'suam', 'tu', 'causa', 'malorum', 'facta', 'tribus', 'dominis', 'communis', 'roma', 'nec', 'umquam', 'in', 'turbam', 'missi', 'feralia', 'foedera', 'regni', 'o', 'male', 'concordes', 'nimia', '-que', 'cupidine', 'caeci', 'quid', 'miscere', 'iuuat', 'uires', 'orbem', '-que', 'tenere', 'in', 'medio', 'dum', 'terra', 'fretum', 'terram', '-que', 'leuabit', 'aer', 'et', 'longi', 'uoluent', 'titana', 'labores', 'nox', '-que', 'diem', 'caelo', 'totidem', 'per', 'signa', 'sequetur', 'nulla', 'fides', 'regni', 'sociis', 'omnis', '-que', 'potestas', 'inpatiens', 'consortis', 'erit', 'nec', 'gentibus', 'ullis', 'credite', 'nec', 'longe', 'fatorum', 'exempla', 'petantur', 'fraterno', 'primi', 'maduerunt', 'sanguine', 'muri', 'nec', 'pretium', 'tanti', 'tellus', 'pontus', '-que', 'furoris', 'tunc', 'erat', 'exiguum', 'dominos', 'commisit', 'asylum', 'temporis', 'angusti', 'mansit', 'concordia', 'discors', 'pax', '-que', 'fuit', 'non', 'sponte', 'ducum', 'nam', 'sola', 'futuri', 'crassus', 'erat', 'belli', 'medius', 'mora', 'qualiter', 'undas', 'qui', 'secat', 'et', 'geminum', 'gracilis', 'mare', 'separat', 'isthmos', 'nec', 'patitur', 'conferre', 'fretum', 'si', 'terra', 'recedat', 'ionium', 'aegaeo', 'frangat', 'mare', 'sic', 'ubi', 'saeua', 'arma', 'ducum', 'dirimens', 'miserando', 'funere', 'crassus', 'assyrias', 'latio', 'maculauit', 'sanguine', 'carrhas', 'parthica', 'romanos', 'soluerunt', 'damna', 'furores', 'plus', 'illa', 'uobis', 'acie', 'quam', 'creditis', 'actum', 'est', 'arsacidae', 'bellum', 'uictis', 'ciuile', 'dedistis', 'diuiditur', 'ferro', 'regnum', 'populi', '-que', 'potentis', 'quae', 'mare', 'quae', 'terras', 'quae', 'totum', 'possidet', 'orbem', 'non', 'cepit', 'fortuna', 'duos', 'nam', 'pignora', 'iuncti', 'sanguinis', 'et', 'diro', 'ferales', 'omine', 'taedas', 'abstulit', 'ad', 'manes', 'parcarum', 'iulia', 'saeua', 'intercepta', 'manu', 'quod', 'si', 'tibi', 'fata', 'dedissent', 'maiores', 'in', 'luce', 'moras', 'tu', 'sola', 'furentem', 'inde', 'uirum', 'poteras', 'atque', 'hinc', 'retinere', 'parentem', 'armatas', '-que', 'manus', 'excusso', 'iungere', 'ferro', 'ut', 'generos', 'soceris', 'mediae', 'iunxere', 'sabinae', 'morte', 'tua', 'discussa', 'fides', 'bellum', '-que', 'mouere', 'permissum', 'ducibus', 'stimulos', 'dedit', 'aemula', 'uirtus', 'tu', 'noua', 'ne', 'ueteres', 'obscurent', 'acta', 'triumphos', 'et', 'uictis', 'cedat', 'piratica', 'laurea', 'gallis', 'magne', 'times', 'te', 'iam', 'series', 'usus', '-que', 'laborum', 'erigit', 'inpatiens', '-que', 'loci', 'fortuna', 'secundi', 'nec', 'quemquam', 'iam', 'ferre', 'potest', 'caesar', '-ue', 'priorem', 'pompeius', '-ue', 'parem', 'quis', 'iustius', 'induit', 'arma', 'scire', 'nefas', 'magno', 'se', 'iudice', 'quisque', 'tuetur', 'uictrix', 'causa', 'deis', 'placuit', 'sed', 'uicta', 'catoni', 'nec', 'coiere', 'pares', 'alter', 'uergentibus', 'annis', 'in', 'senium', 'longo', '-que', 'togae', 'tranquillior', 'usu', 'dedidicit', 'iam', 'pace', 'ducem', 'famae', '-que', 'petitor', 'multa', 'dare', 'in', 'uolgus', 'totus', 'popularibus', 'auris', 'inpelli', 'plausu', '-que', 'sui', 'gaudere', 'theatri', 'nec', 'reparare', 'nouas', 'uires', 'multum', '-que', 'priori', 'credere', 'fortunae', 'stat', 'magni', 'nominis', 'umbra', 'qualis', 'frugifero', 'quercus', 'sublimis', 'in', 'agro', 'exuuias', 'ueteris', 'populi', 'sacrata', '-que', 'gestans', 'dona', 'ducum', 'nec', 'iam', 'ualidis', 'radicibus', 'haerens', 'pondere', 'fixa', 'suo', 'est', 'nudos', '-que', 'per', 'aera', 'ramos', 'effundens', 'trunco', 'non', 'frondibus', 'efficit', 'umbram', 'et', 'quamuis', 'primo', 'nutet', 'casura', 'sub', 'euro', 'tot', 'circum', 'siluae', 'firmo', 'se', 'robore', 'tollant', 'sola', 'tamen', 'colitur', 'sed', 'non', 'in', 'caesare', 'tantum', 'nomen', 'erat', 'nec', 'fama', 'ducis', 'sed', 'nescia', 'uirtus', 'stare', 'loco', 'solus', '-que', 'pudor', 'non', 'uincere', 'bello', 'acer', 'et', 'indomitus', 'quo', 'spes', 'quoque', 'ira', 'uocasset', 'ferre', 'manum', 'et', 'numquam', 'temerando', 'parcere', 'ferro', 'successus', 'urguere', 'suos', 'instare', 'fauori', 'numinis', 'inpellens', 'quidquid', 'sibi', 'summa', 'petenti', 'obstaret', 'gaudens', '-que', 'uiam', 'fecisse', 'ruina', 'qualiter', 'expressum', 'uentis', 'per', 'nubila', 'fulmen', 'aetheris', 'inpulsi', 'sonitu', 'mundi', '-que', 'fragore', 'emicuit', 'rupit', '-que', 'diem', 'populos', '-que', 'pauentes', 'terruit', 'obliqua', 'praestringens', 'lumina', 'flamma', 'in', 'sua', 'templa', 'furit', 'nulla', '-que', 'exire', 'uetante', 'materia', 'magnam', '-que', 'cadens', 'magnam', '-que', 'reuertens', 'dat', 'stragem', 'late', 'sparsos', '-que', 'recolligit', 'ignes', 'hae', 'ducibus', 'causae', 'suberant', 'sed', 'publica', 'belli', 'semina', 'quae', 'populos', 'semper', 'mersere', 'potentis', 'namque', 'ut', 'opes', 'nimias', 'mundo', 'fortuna', 'subacto', 'intulit', 'et', 'rebus', 'mores', 'cessere', 'secundis', 'praeda', '-que', 'et', 'hostiles', 'luxum', 'suasere', 'rapinae', 'non', 'auro', 'tectis', '-ue', 'modus', 'mensas', '-que', 'priores', 'aspernata', 'fames', 'cultus', 'gestare', 'decoros', 'uix', 'nuribus', 'rapuere', 'mares', 'fecunda', 'uirorum', 'paupertas', 'fugitur', 'toto', '-que', 'accersitur', 'orbe', 'quo', 'gens', 'quaeque', 'perit', 'tum', 'longos', 'iungere', 'fines', 'agrorum', 'et', 'quondam', 'duro', 'sulcata', 'camilli', 'uomere', 'et', 'antiquos', 'curiorum', 'passa', 'ligones', 'longa', 'sub', 'ignotis', 'extendere', 'rura', 'colonis', 'non', 'erat', 'is', 'populus', 'quem', 'pax', 'tranquilla', 'iuuaret', 'quem', 'sua', 'libertas', 'inmotis', 'pasceret', 'armis', 'inde', 'irae', 'faciles', 'et', 'quod', 'suasisset', 'egestas', 'uile', 'nefas', 'magnum', '-que', 'decus', 'ferro', '-que', 'petendum', 'plus', 'patria', 'potuisse', 'sua', 'mensura', '-que', 'iuris', 'uis', 'erat', 'hinc', 'leges', 'et', 'plebis', 'scita', 'coactae', 'et', 'cum', 'consulibus', 'turbantes', 'iura', 'tribuni', 'hinc', 'rapti', 'fasces', 'pretio', 'sector', '-que', 'fauoris', 'ipse', 'sui', 'populus', 'letalis', '-que', 'ambitus', 'urbi', 'annua', 'uenali', 'referens', 'certamina', 'campo', 'hinc', 'usura', 'uorax', 'auidum', '-que', 'in', 'tempora', 'fenus', 'et', 'concussa', 'fides', 'et', 'multis', 'utile', 'bellum', 'iam', 'gelidas', 'caesar', 'cursu', 'superauerat', 'alpes', 'ingentis', '-que', 'animo', 'motus', 'bellum', '-que', 'futurum', 'ceperat', 'ut', 'uentum', 'est', 'parui', 'rubiconis', 'ad', 'undas', 'ingens', 'uisa', 'duci', 'patriae', 'trepidantis', 'imago', 'clara', 'per', 'obscuram', 'uoltu', 'maestissima', 'noctem', 'turrigero', 'canos', 'effundens', 'uertice', 'crines', 'caesarie', 'lacera', 'nudis', '-que', 'adstare', 'lacertis', 'et', 'gemitu', 'permixta', 'loqui', 'quo', 'tenditis', 'ultra', 'quo', 'fertis', 'mea', 'signa', 'uiri', 'si', 'iure', 'uenitis', 'si', 'ciues', 'huc', 'usque', 'licet', 'tum', 'perculit', 'horror', 'membra', 'ducis', 'riguere', 'comae', 'gressum', '-que', 'coercens', 'languor', 'in', 'extrema', 'tenuit', 'uestigia', 'ripa', 'mox', 'ait', 'o', 'magnae', 'qui', 'moenia', 'prospicis', 'urbis', 'tarpeia', 'de', 'rupe', 'tonans', 'phrygii', '-que', 'penates', 'gentis', 'iuleae', 'et', 'rapti', 'secreta', 'quirini', 'et', 'residens', 'celsa', 'latiaris', 'iuppiter', 'alba', 'uestales', '-que', 'foci', 'summi', '-que', 'o', 'numinis', 'instar', 'roma', 'faue', 'coeptis', 'non', 'te', 'furialibus', 'armis', 'persequor', 'en', 'adsum', 'uictor', 'terra', '-que', 'mari', '-que', 'caesar', 'ubique', 'tuus', 'liceat', 'modo', 'nunc', 'quoque', 'miles', 'ille', 'erit', 'ille', 'nocens', 'qui', 'me', 'tibi', 'fecerit', 'hostem', 'inde', 'moras', 'soluit', 'belli', 'tumidum', '-que', 'per', 'amnem', 'signa', 'tulit', 'propere', 'sicut', 'squalentibus', 'aruis', 'aestiferae', 'libyes', 'uiso', 'leo', 'comminus', 'hoste', 'subsedit', 'dubius', 'totam', 'dum', 'colligit', 'iram', 'mox', 'ubi', 'se', 'saeuae', 'stimulauit', 'uerbere', 'caudae', 'erexit', '-que', 'iubam', 'et', 'uasto', 'graue', 'murmur', 'hiatu', 'infremuit', 'tum', 'torta', 'leuis', 'si', 'lancea', 'mauri', 'haereat', 'aut', 'latum', 'subeant', 'uenabula', 'pectus', 'per', 'ferrum', 'tanti', 'securus', 'uolneris', 'exit', 'fonte', 'cadit', 'modico', 'paruis', '-que', 'inpellitur', 'undis', 'puniceus', 'rubico', '-ne', 'cum', 'feruida', 'canduit', 'aestas', 'per', '-que', 'imas', 'serpit', 'ualles', 'et', 'gallica', 'certus', 'limes', 'ab', 'ausoniis', 'disterminat', 'arua', 'colonis', 'tum', 'uires', 'praebebat', 'hiemps', 'atque', 'auxerat', 'undas', 'tertia', 'iam', 'grauido', 'pluuialis', 'cynthia', 'cornu', 'et', 'madidis', 'euri', 'resolutae', 'flatibus', 'alpes', 'primus', 'in', 'obliquum', 'sonipes', 'opponitur', 'amnem', 'excepturus', 'aquas', 'molli', 'tum', 'cetera', 'rumpit', 'turba', 'uado', 'faciles', 'iam', 'fracti', 'fluminis', 'undas', 'caesar', 'ut', 'aduersam', 'superato', 'gurgite', 'ripam', 'attigit', 'hesperiae', 'uetitis', 'et', 'constitit', 'aruis', 'hic', 'ait', 'hic', 'pacem', 'temerata', '-que', 'iura', 'relinquo', 'te', 'fortuna', 'sequor', 'procul', 'hinc', 'iam', 'foedera', 'sunto', 'credidimus', 'satis', 'his', 'utendum', 'est', 'iudice', 'bello', 'sic', 'fatus', 'noctis', 'tenebris', 'rapit', 'agmina', 'ductor', 'inpiger', 'et', 'torto', 'balearis', 'uerbere', 'fundae', 'ocior', 'et', 'missa', 'parthi', 'post', 'terga', 'sagitta', 'uicinum', '-que', 'minax', 'inuadit', 'ariminum', 'et', 'ignes', 'solis', 'lucifero', 'fugiebant', 'astra', 'relicto', 'iam', '-que', 'dies', 'primos', 'belli', 'uisura', 'tumultus', 'exoritur', 'sed', 'sponte', 'deum', 'seu', 'turbidus', 'auster', 'inpulerat', 'maestam', 'tenuerunt', 'nubila', 'lucem', 'constitit', 'ut', 'capto', 'iussus', 'deponere', 'miles', 'signa', 'foro', 'stridor', 'lituum', 'clangor', '-que', 'tubarum', 'non', 'pia', 'concinuit', 'cum', 'rauco', 'classica', 'cornu', 'rupta', 'quies', 'populi', 'stratis', '-que', 'excita', 'iuuentus', 'deripuit', 'sacris', 'adfixa', 'penatibus', 'arma', 'quae', 'pax', 'longa', 'dabat', 'nuda', 'iam', 'crate', 'fluentis', 'inuadunt', 'clipeos', 'curuata', '-que', 'cuspide', 'pila', 'et', 'scabros', 'nigrae', 'morsu', 'robiginis', 'enses', 'ut', 'notae', 'fulsere', 'aquilae', 'romana', '-que', 'signa', 'et', 'celsus', 'medio', 'conspectus', 'in', 'agmine', 'caesar', 'deriguere', 'metu', 'gelidos', 'pauor', 'occupat', 'artus', 'et', 'tacito', 'mutos', 'uoluunt', 'in', 'pectore', 'questus', 'o', 'male', 'uicinis', 'haec', 'moenia', 'condita', 'gallis', 'o', 'tristi', 'damnata', 'loco', 'pax', 'alta', 'per', 'omnes', 'et', 'tranquilla', 'quies', 'populos', 'nos', 'praeda', 'furentum', 'prima', '-que', 'castra', 'sumus', 'melius', 'fortuna', 'dedisses', 'orbe', 'sub', 'eoo', 'sedem', 'gelida', '-que', 'sub', 'arcto', 'errantis', '-que', 'domos', 'latii', 'quam', 'claustra', 'tueri', 'nos', 'primi', 'senonum', 'motus', 'cimbrum', '-que', 'ruentem', 'uidimus', 'et', 'martem', 'libyes', 'cursum', '-que', 'furoris', 'teutonici', 'quotiens', 'romam', 'fortuna', 'lacessit', 'hac', 'iter', 'est', 'bellis', 'gemitu', 'sic', 'quisque', 'latenti', 'non', 'ausus', 'timuisse', 'palam', 'uox', 'nulla', 'dolori', 'credita', 'sed', 'quantum', 'uolucres', 'cum', 'bruma', 'coercet', 'rura', 'silent', 'medius', '-que', 'tacet', 'sine', 'murmure', 'pontus', 'tanta', 'quies', 'noctis', 'gelidas', 'lux', 'soluerat', 'umbras', 'ecce', 'faces', 'belli', 'dubiae', '-que', 'in', 'proelia', 'menti', 'urguentes', 'addunt', 'stimulos', 'cunctas', '-que', 'pudoris', 'rumpunt', 'fata', 'moras', 'iustos', 'fortuna', 'laborat', 'esse', 'ducis', 'motus', 'et', 'causas', 'inuenit', 'armis', 'expulit', 'ancipiti', 'discordes', 'urbe', 'tribunos', 'uicto', 'iure', 'minax', 'iactatis', 'curia', 'gracchis', 'hos', 'iam', 'mota', 'ducis', 'uicina', '-que', 'signa', 'petentes', 'audax', 'uenali', 'comitatur', 'curio', 'lingua', 'uox', 'quondam', 'populi', 'libertatem', '-que', 'tueri', 'ausus', 'et', 'armatos', 'plebi', 'miscere', 'potentes', 'ut', '-que', 'ducem', 'uarias', 'uoluentem', 'pectore', 'curas', 'conspexit', 'dum', 'uoce', 'tuae', 'potuere', 'iuuari', 'caesar', 'ait', 'partes', 'quamuis', 'nolente', 'senatu', 'traximus', 'imperium', 'tum', 'cum', 'mihi', 'rostra', 'tenere', 'ius', 'erat', 'et', 'dubios', 'in', 'te', 'transferre', 'quirites', 'at', 'postquam', 'leges', 'bello', 'siluere', 'coactae', 'pellimur', 'e', 'patriis', 'laribus', 'patimur', '-que', 'uolentes', 'exilium', 'tua', 'nos', 'faciet', 'uictoria', 'ciues', 'dum', 'trepidant', 'nullo', 'firmatae', 'robore', 'partes', 'tolle', 'moras', 'semper', 'nocuit', 'differre', 'paratis', 'par', 'labor', 'atque', 'metus', 'pretio', 'maiore', 'petuntur', 'bellantem', 'geminis', 'tenuit', 'te', 'gallia', 'lustris', 'pars', 'quota', 'terrarum', 'facili', 'si', 'proelia', 'pauca', 'gesseris', 'euentu', 'tibi', 'roma', 'subegerit', 'orbem', 'nunc', 'neque', 'te', 'longi', 'remeantem', 'pompa', 'triumphi', 'excipit', 'aut', 'sacras', 'poscunt', 'capitolia', 'laurus', 'liuor', 'edax', 'tibi', 'cuncta', 'negat', 'gentes', '-que', 'subactas', 'uix', 'inpune', 'feres', 'socerum', 'depellere', 'regno', 'decretum', 'genero', 'est', 'partiri', 'non', 'potes', 'orbem', 'solus', 'habere', 'potes', 'sic', 'postquam', 'fatus', 'et', 'ipsi', 'in', 'bellum', 'prono', 'tantum', 'tamen', 'addidit', 'irae', 'accendit', '-que', 'ducem', 'quantum', 'clamore', 'iuuatur', 'eleus', 'sonipes', 'quamuis', 'iam', 'carcere', 'clauso', 'inmineat', 'foribus', 'pronus', '-que', 'repagula', 'laxet', 'conuocat', 'armatos', 'extemplo', 'ad', 'signa', 'maniplos', 'ut', '-que', 'satis', 'trepidum', 'turba', 'coeunte', 'tumultum', 'conposuit', 'uoltu', 'dextra', '-que', 'silentia', 'iussit', 'bellorum', 'o', 'socii', 'qui', 'mille', 'pericula', 'martis', 'cum', 'me', 'ait', 'experti', 'decimo', 'iam', 'uincitis', 'anno', 'hoc', 'cruor', 'arctois', 'meruit', 'diffusus', 'in', 'aruis', 'uolnera', '-que', 'et', 'mortes', 'hiemes', '-que', 'sub', 'alpibus', 'actae', 'non', 'secus', 'ingenti', 'bellorum', 'roma', 'tumultu', 'concutitur', 'quam', 'si', 'poenus', 'transcenderit', 'alpes', 'hannibal', 'inplentur', 'ualidae', 'tirone', 'cohortes', 'in', 'classem', 'cadit', 'omne', 'nemus', 'terra', '-que', 'mari', '-que', 'iussus', 'caesar', 'agi', 'quid', 'si', 'mihi', 'signa', 'iacerent', 'marte', 'sub', 'aduerso', 'ruerent', '-que', 'in', 'terga', 'feroces', 'gallorum', 'populi', 'nunc', 'cum', 'fortuna', 'secundis', 'cum', 'me', 'rebus', 'agat', 'superi', '-que', 'ad', 'summa', 'uocantes', 'temptamur', 'ueniat', 'longa', 'dux', 'pace', 'solutus', 'milite', 'cum', 'subito', 'partes', '-que', 'in', 'bella', 'togatae', 'marcellus', '-que', 'loquax', 'et', 'nomina', 'uana', 'catones', 'scilicet', 'extremi', 'pompeium', 'empti', '-que', 'clientes', 'continuo', 'per', 'tot', 'satiabunt', 'tempora', 'regno', 'ille', 'reget', 'currus', 'nondum', 'patientibus', 'annis', 'ille', 'semel', 'raptos', 'numquam', 'dimittet', 'honores', 'quid', 'iam', 'rura', 'querar', 'totum', 'suppressa', 'per', 'orbem', 'ac', 'iussam', 'seruire', 'famem', 'quis', 'castra', 'timenti', 'nescit', 'mixta', 'foro', 'gladii', 'cum', 'triste', 'micantes', 'iudicium', 'insolita', 'trepidum', 'cinxere', 'corona', 'atque', 'auso', 'medias', 'perrumpere', 'milite', 'leges', 'pompeiana', 'reum', 'clauserunt', 'signa', 'milonem', 'nunc', 'quoque', 'ne', 'lassum', 'teneat', 'priuata', 'senectus', 'bella', 'nefanda', 'parat', 'suetus', 'ciuilibus', 'armis', 'et', 'docilis', 'sullam', 'scelerum', 'uicisse', 'magistrum', 'ut', '-que', 'ferae', 'tigres', 'numquam', 'posuere', 'furorem', 'quas', 'nemore', 'hyrcano', 'matrum', 'dum', 'lustra', 'secuntur', 'altus', 'caesorum', 'pauit', 'cruor', 'armentorum', 'sic', 'et', 'sullanum', 'solito', 'tibi', 'lambere', 'ferrum', 'durat', 'magne', 'sitis', 'nullus', 'semel', 'ore', 'receptus', 'pollutas', 'patitur', 'sanguis', 'mansuescere', 'fauces', 'quem', 'tamen', 'inueniet', 'tam', 'longa', 'potentia', 'finem', 'quis', 'scelerum', 'modus', 'est', 'ex', 'hoc', 'iam', 'te', 'inprobe', 'regno', 'ille', 'tuus', 'saltem', 'doceat', 'descendere', 'sulla', 'post', 'cilicasne', 'uagos', 'et', 'lassi', 'pontica', 'regis', 'proelia', 'barbarico', 'uix', 'consummata', 'ueneno', 'ultima', 'pompeio', 'dabitur', 'prouincia', 'caesar', 'quod', 'non', 'uictrices', 'aquilas', 'deponere', 'iussus', 'paruerim', 'mihi', 'si', 'merces', 'erepta', 'laborum', 'est', 'his', 'saltem', 'longi', 'non', 'cum', 'duce', 'praemia', 'belli', 'reddantur', 'miles', 'sub', 'quolibet', 'iste', 'triumphet', 'conferet', 'exanguis', 'quo', 'se', 'post', 'bella', 'senectus', 'quae', 'sedes', 'erit', 'emeritis', 'quae', 'rura', 'dabuntur', 'quae', 'noster', 'ueteranus', 'aret', 'quae', 'moenia', 'fessis', 'an', 'melius', 'fient', 'piratae', 'magne', 'coloni', 'tollite', 'iam', 'pridem', 'uictricia', 'tollite', 'signa', 'uiribus', 'utendum', 'est', 'quas', 'fecimus', 'arma', 'tenenti', 'omnia', 'dat', 'qui', 'iusta', 'negat', 'nec', 'numina', 'derunt', 'nam', 'neque', 'praeda', 'meis', 'neque', 'regnum', 'quaeritur', 'armis', 'detrahimus', 'dominos', 'urbi', 'seruire', 'paratae', 'dixerat', 'at', 'dubium', 'non', 'claro', 'murmure', 'uolgus', 'cum', 'se', 'incerta', 'fremit', 'pietas', 'patrii', '-que', 'penates', 'quamquam', 'caede', 'feras', 'mentes', 'animos', '-que', 'tumentes', 'frangunt', 'sed', 'diro', 'ferri', 'reuocantur', 'amore', 'ductoris', '-que', 'metu', 'summi', 'tum', 'munera', 'pili', 'laelius', 'emeriti', '-que', 'gerens', 'insignia', 'doni', 'seruati', 'ciuis', 'referentem', 'praemia', 'quercum', 'si', 'licet', 'exclamat', 'romani', 'maxime', 'rector', 'nominis', 'et', 'ius', 'est', 'ueras', 'expromere', 'uoces', 'quod', 'tam', 'lenta', 'tuas', 'tenuit', 'patientia', 'uires', 'conquerimur', 'deratne', 'tibi', 'fiducia', 'nostri', 'dum', 'mouet', 'haec', 'calidus', 'spirantia', 'corpora', 'sanguis', 'et', 'dum', 'pila', 'ualent', 'fortes', 'torquere', 'lacerti', 'degenerem', 'patiere', 'togam', 'regnum', '-que', 'senatus', 'usque', 'adeo', 'miserum', 'est', 'ciuili', 'uincere', 'bello', 'duc', 'age', 'per', 'scythiae', 'populos', 'per', 'inhospita', 'syrtis', 'litora', 'per', 'calidas', 'libyae', 'sitientis', 'harenas', 'haec', 'manus', 'ut', 'uictum', 'post', 'terga', 'relinqueret', 'orbem', 'oceani', 'tumidas', 'remo', 'conpescuit', 'undas', 'fregit', 'et', 'arctoo', 'spumantem', 'uertice', 'rhenum', 'iussa', 'sequi', 'tam', 'posse', 'mihi', 'quam', 'uelle', 'necesse', 'est', 'nec', 'ciuis', 'meus', 'est', 'in', 'quem', 'tua', 'classica', 'caesar', 'audiero', 'per', 'signa', 'decem', 'felicia', 'castris', 'per', '-que', 'tuos', 'iuro', 'quocumque', 'ex', 'hoste', 'triumphos', 'pectore', 'si', 'fratris', 'gladium', 'iugulo', '-que', 'parentis', 'condere', 'me', 'iubeas', 'plenae', '-que', 'in', 'uiscera', 'partu', 'coniugis', 'inuita', 'peragam', 'tamen', 'omnia', 'dextra', 'si', 'spoliare', 'deos', 'ignem', '-que', 'inmittere', 'templis', 'numina', 'miscebit', 'castrensis', 'flamma', 'monetae', 'castra', 'super', 'tusci', 'si', 'ponere', 'thybridis', 'undas', 'hesperios', 'audax', 'ueniam', 'metator', 'in', 'agros', 'tu', 'quoscumque', 'uoles', 'in', 'planum', 'effundere', 'muros', 'his', 'aries', 'actus', 'disperget', 'saxa', 'lacertis', 'illa', 'licet', 'penitus', 'tolli', 'quam', 'iusseris', 'urbem', 'roma', 'sit', 'his', 'cunctae', 'simul', 'adsensere', 'cohortes', 'elatas', '-que', 'alte', 'quaecumque', 'ad', 'bella', 'uocaret', 'promisere', 'manus', 'it', 'tantus', 'ad', 'aethera', 'clamor', 'quantus', 'piniferae', 'boreas', 'cum', 'thracius', 'ossae', 'rupibus', 'incubuit', 'curuato', 'robore', 'pressae', 'fit', 'sonus', 'aut', 'rursus', 'redeuntis', 'in', 'aethera', 'siluae', 'caesar', 'ut', 'acceptum', 'tam', 'prono', 'milite', 'bellum', 'fata', '-que', 'ferre', 'uidet', 'nequo', 'languore', 'moretur', 'fortunam', 'sparsas', 'per', 'gallica', 'rura', 'cohortes', 'euocat', 'et', 'romam', 'motis', 'petit', 'undique', 'signis', 'deseruere', 'cauo', 'tentoria', 'fixa', 'lemanno', 'castra', '-que', 'quae', 'uosegi', 'curuam', 'super', 'ardua', 'ripam', 'pugnaces', 'pictis', 'cohibebant', 'lingonas', 'armis', 'hi', 'uada', 'liquerunt', 'isarae', 'qui', 'gurgite', 'ductus', 'per', 'tam', 'multa', 'suo', 'famae', 'maioris', 'in', 'amnem', 'lapsus', 'ad', 'aequoreas', 'nomen', 'non', 'pertulit', 'undas', 'soluuntur', 'flaui', 'longa', 'statione', 'ruteni', 'mitis', 'atax', 'latias', 'gaudet', 'non', 'ferre', 'carinas', 'finis', 'et', 'hesperiae', 'promoto', 'limite', 'uarus', 'quaque', 'sub', 'herculeo', 'sacratus', 'nomine', 'portus', 'urguet', 'rupe', 'caua', 'pelagus', 'non', 'corus', 'in', 'illum', 'ius', 'habet', 'aut', 'zephyrus', 'solus', 'sua', 'litora', 'turbat', 'circius', 'et', 'tuta', 'prohibet', 'statione', 'monoeci', 'quaque', 'iacet', 'litus', 'dubium', 'quod', 'terra', 'fretum', '-que', 'uindicat', 'alternis', 'uicibus', 'cum', 'funditur', 'ingens', 'oceanus', 'uel', 'cum', 'refugis', 'se', 'fluctibus', 'aufert', 'uentus', 'ab', 'extremo', 'pelagus', 'sic', 'axe', 'uolutet', 'destituat', '-que', 'ferens', 'an', 'sidere', 'mota', 'secundo', 'tethyos', 'unda', 'uagae', 'lunaribus', 'aestuet', 'horis', 'flammiger', 'an', 'titan', 'ut', 'alentes', 'hauriat', 'undas', 'erigat', 'oceanum', 'fluctus', '-que', 'ad', 'sidera', 'ducat', 'quaerite', 'quos', 'agitat', 'mundi', 'labor', 'at', 'mihi', 'semper', 'tu', 'quaecumque', 'moues', 'tam', 'crebros', 'causa', 'meatus', 'ut', 'superi', 'uoluere', 'late', 'tum', 'rura', 'nemetis', 'qui', 'tenet', 'et', 'ripas', 'atyri', 'qua', 'litore', 'curuo', 'molliter', 'admissum', 'claudit', 'tarbellicus', 'aequor', 'signa', 'mouet', 'gaudet', '-que', 'amoto', 'santonus', 'hoste', 'et', 'biturix', 'longis', '-que', 'leues', 'suessones', 'in', 'armis', 'optimus', 'excusso', 'leucus', 'remus', '-que', 'lacerto', 'optima', 'gens', 'flexis', 'in', 'gyrum', 'sequana', 'frenis', 'et', 'docilis', 'rector', 'monstrati', 'belga', 'couinni', 'aruerni', '-que', 'ausi', 'latio', 'se', 'fingere', 'fratres', 'sanguine', 'ab', 'iliaco', 'populi', 'nimium', '-que', 'rebellis', 'neruius', 'et', 'caesi', 'pollutus', 'foedere', 'cottae', 'et', 'qui', 'te', 'laxis', 'imitantur', 'sarmata', 'bracis', 'uangiones', 'bataui', '-que', 'truces', 'quos', 'aere', 'recuruo', 'stridentes', 'acuere', 'tubae', 'qua', 'cinga', 'pererrat', 'gurgite', 'qua', 'rhodanus', 'raptum', 'uelocibus', 'undis', 'in', 'mare', 'fert', 'ararim', 'qua', 'montibus', 'ardua', 'summis', 'gens', 'habitat', 'cana', 'pendentes', 'rupe', 'cebennas', 'tu', 'quoque', 'laetatus', 'conuerti', 'proelia', 'treuir', 'et', 'nunc', 'tonse', 'ligur', 'quondam', 'per', 'colla', 'decore', 'crinibus', 'effusis', 'toti', 'praelate', 'comatae', 'et', 'quibus', 'inmitis', 'placatur', 'sanguine', 'diro', 'teutates', 'horrens', '-que', 'feris', 'altaribus', 'esus', 'et', 'taranis', 'scythicae', 'non', 'mitior', 'ara', 'dianae', 'uos', 'quoque', 'qui', 'fortes', 'animas', 'bello', '-que', 'peremptas', 'laudibus', 'in', 'longum', 'uates', 'dimittitis', 'aeuum', 'plurima', 'securi', 'fudistis', 'carmina', 'bardi', 'et', 'uos', 'barbaricos', 'ritus', 'morem', '-que', 'sinistrum', 'sacrorum', 'dryadae', 'positis', 'repetistis', 'ab', 'armis', 'solis', 'nosse', 'deos', 'et', 'caeli', 'numina', 'uobis', 'aut', 'solis', 'nescire', 'datum', 'nemora', 'alta', 'remotis', 'incolitis', 'lucis', 'uobis', 'auctoribus', 'umbrae', 'non', 'tacitas', 'erebi', 'sedes', 'ditis', '-que', 'profundi', 'pallida', 'regna', 'petunt', 'regit', 'idem', 'spiritus', 'artus', 'orbe', 'alio', 'longae', 'canitis', 'si', 'cognita', 'uitae', 'mors', 'media', 'est', 'certe', 'populi', 'quos', 'despicit', 'arctos', 'felices', 'errore', 'suo', 'quos', 'ille', 'timorum', 'maximus', 'haut', 'urguet', 'leti', 'metus', 'inde', 'ruendi', 'in', 'ferrum', 'mens', 'prona', 'uiris', 'animae', '-que', 'capaces', 'mortis', 'et', 'ignauum', 'rediturae', 'parcere', 'uitae', 'et', 'uos', 'crinigeros', 'belgis', 'arcere', 'caycos', 'oppositi', 'petitis', 'romam', 'rheni', '-que', 'feroces', 'deseritis', 'ripas', 'et', 'apertum', 'gentibus', 'orbem', 'caesar', 'ut', 'inmensae', 'conlecto', 'robore', 'uires', 'audendi', 'maiora', 'fidem', 'fecere', 'per', 'omnem', 'spargitur', 'italiam', 'uicina', '-que', 'moenia', 'conplet', 'uana', 'quoque', 'ad', 'ueros', 'accessit', 'fama', 'timores', 'inrupit', '-que', 'animos', 'populi', 'cladem', '-que', 'futuram', 'intulit', 'et', 'uelox', 'properantis', 'nuntia', 'belli', 'innumeras', 'soluit', 'falsa', 'in', 'praeconia', 'linguas', 'est', 'qui', 'tauriferis', 'ubi', 'se', 'meuania', 'campis', 'explicat', 'audaces', 'ruere', 'in', 'certamina', 'turmas', 'adferat', 'et', 'qua', 'nar', 'tiberino', 'inlabitur', 'amni', 'barbaricas', 'saeui', 'discurrere', 'caesaris', 'alas', 'ipsum', 'omnes', 'aquilas', 'conlata', '-que', 'signa', 'ferentem', 'agmine', 'non', 'uno', 'densis', '-que', 'incedere', 'castris', 'nec', 'qualem', 'meminere', 'uident', 'maior', '-que', 'ferus', '-que', 'mentibus', 'occurrit', 'uicto', '-que', 'inmanior', 'hoste', 'hunc', 'inter', 'rhenum', 'populos', 'albim', '-que', 'iacentes', 'finibus', 'arctois', 'patria', '-que', 'a', 'sede', 'reuolsos', 'pone', 'sequi', 'iussam', '-que', 'feris', 'a', 'gentibus', 'urbem', 'romano', 'spectante', 'rapi', 'sic', 'quisque', 'pauendo', 'dat', 'uires', 'famae', 'nullo', '-que', 'auctore', 'malorum', 'quae', 'finxere', 'timent', 'nec', 'solum', 'uolgus', 'inani', 'percussum', 'terrore', 'pauet', 'sed', 'curia', 'et', 'ipsi', 'sedibus', 'exiluere', 'patres', 'inuisa', '-que', 'belli', 'consulibus', 'fugiens', 'mandat', 'decreta', 'senatus', 'tum', 'quae', 'tuta', 'petant', 'et', 'quae', 'metuenda', 'relinquant', 'incerti', 'quo', 'quemque', 'fugae', 'tulit', 'impetus', 'urguent', 'praecipitem', 'populum', 'serie', '-que', 'haerentia', 'longa', 'agmina', 'prorumpunt', 'credas', 'aut', 'tecta', 'nefandas', 'corripuisse', 'faces', 'aut', 'iam', 'quatiente', 'ruina', 'nutantes', 'pendere', 'domos', 'sic', 'turba', 'per', 'urbem', 'praecipiti', 'lymphata', 'gradu', 'uelut', 'unica', 'rebus', 'spes', 'foret', 'adflictis', 'patrios', 'excedere', 'muros', 'inconsulta', 'ruit', 'qualis', 'cum', 'turbidus', 'auster', 'reppulit', 'a', 'libycis', 'inmensum', 'syrtibus', 'aequor', 'fracta', '-que', 'ueliferi', 'sonuerunt', 'pondera', 'mali', 'desilit', 'in', 'fluctus', 'deserta', 'puppe', 'magister', 'nauita', '-que', 'et', 'nondum', 'sparsa', 'conpage', 'carinae', 'naufragium', 'sibi', 'quisque', 'facit', 'sic', 'urbe', 'relicta', 'in', 'bellum', 'fugitur', 'nullum', 'iam', 'languidus', 'aeuo', 'eualuit', 'reuocare', 'parens', 'coniunx', '-ue', 'maritum', 'fletibus', 'aut', 'patrii', 'dubiae', 'dum', 'uota', 'salutis', 'conciperent', 'tenuere', 'lares', 'nec', 'limine', 'quisquam', 'haesit', 'et', 'extremo', 'tunc', 'forsitan', 'urbis', 'amatae', 'plenus', 'abit', 'uisu', 'ruit', 'inreuocabile', 'uolgus', 'o', 'faciles', 'dare', 'summa', 'deos', 'eadem', '-que', 'tueri', 'difficiles', 'urbem', 'populis', 'uictis', '-que', 'frequentem', 'gentibus', 'et', 'generis', 'coeat', 'si', 'turba', 'capacem', 'humani', 'facilem', 'uenturo', 'caesare', 'praedam', 'ignauae', 'liquere', 'manus', 'cum', 'pressus', 'ab', 'hoste', 'clauditur', 'externis', 'miles', 'romanus', 'in', 'oris', 'effugit', 'exiguo', 'nocturna', 'pericula', 'uallo', 'et', 'subitus', 'rapti', 'munimine', 'caespitis', 'agger', 'praebet', 'securos', 'intra', 'tentoria', 'somnos', 'tu', 'tantum', 'audito', 'bellorum', 'nomine', 'roma', 'desereris', 'nox', 'una', 'tuis', 'non', 'credita', 'muris', 'danda', 'tamen', 'uenia', 'est', 'tantorum', 'danda', 'pauorum', 'pompeio', 'fugiente', 'timent', 'tum', 'nequa', 'futuri', 'spes', 'saltem', 'trepidas', 'mentes', 'leuet', 'addita', 'fati', 'peioris', 'manifesta', 'fides', 'superi', '-que', 'minaces', 'prodigiis', 'terras', 'inplerunt', 'aethera', 'pontum', 'ignota', 'obscurae', 'uiderunt', 'sidera', 'noctes', 'ardentem', '-que', 'polum', 'flammis', 'caelo', '-que', 'uolantes', 'obliquas', 'per', 'inane', 'faces', 'crinem', '-que', 'timendi', 'sideris', 'et', 'terris', 'mutantem', 'regna', 'comete', '-ne', 'fulgura', 'fallaci', 'micuerunt', 'crebra', 'sereno', 'et', 'uarias', 'ignis', 'denso', 'dedit', 'aere', 'formas', 'nunc', 'iaculum', 'longo', 'nunc', 'sparso', 'lumine', 'lampas', 'emicuit', 'caelo', 'tacitum', 'sine', 'nubibus', 'ullis', 'fulmen', 'et', 'arctois', 'rapiens', 'de', 'partibus', 'ignem', 'percussit', 'latiare', 'caput', 'stellae', '-que', 'minores', 'per', 'uacuum', 'solitae', 'noctis', 'decurrere', 'tempus', 'in', 'medium', 'uenere', 'diem', 'cornu', '-que', 'coacto', 'iam', 'phoebe', 'toto', 'fratrem', 'cum', 'redderet', 'orbe', 'terrarum', 'subita', 'percussa', 'expalluit', 'umbra', 'ipse', 'caput', 'medio', 'titan', 'cum', 'ferret', 'olympo', 'condidit', 'ardentis', 'atra', 'caligine', 'currus', 'inuoluit', '-que', 'orbem', 'tenebris', 'gentes', '-que', 'coegit', 'desperare', 'diem', 'qualem', 'fugiente', 'per', 'ortus', 'sole', 'thyesteae', 'noctem', 'duxere', 'mycenae', 'ora', 'ferox', 'siculae', 'laxauit', 'mulciber', 'aetnae', 'nec', 'tulit', 'in', 'caelum', 'flammas', 'sed', 'uertice', 'prono', 'ignis', 'in', 'hesperium', 'cecidit', 'latus', 'atra', 'charybdis', 'sanguineum', 'fundo', 'torsit', 'mare', 'flebile', 'saeui', 'latrauere', 'canes', 'uestali', 'raptus', 'ab', 'ara', 'ignis', 'et', 'ostendens', 'confectas', 'flamma', 'latinas', 'scinditur', 'in', 'partes', 'gemino', '-que', 'cacumine', 'surgit', 'thebanos', 'imitata', 'rogos', 'tum', 'cardine', 'tellus', 'subsedit', 'ueterem', '-que', 'iugis', 'nutantibus', 'alpes', 'discussere', 'niuem', 'tethys', 'maioribus', 'undis', 'hesperiam', 'calpe', '-ne', 'summum', '-que', 'inpleuit', 'atlanta', 'indigetes', 'fleuisse', 'deos', 'urbis', '-que', 'laborem', 'testatos', 'sudore', 'lares', 'delapsa', '-que', 'templis', 'dona', 'suis', 'diras', '-que', 'diem', 'foedasse', 'uolucres', 'accipimus', 'siluis', '-que', 'feras', 'sub', 'nocte', 'relictis', 'audaces', 'media', 'posuisse', 'cubilia', 'roma', 'tum', 'pecudum', 'faciles', 'humana', 'ad', 'murmura', 'linguae', 'monstrosi', '-que', 'hominum', 'partus', 'numero', '-que', 'modo', '-que', 'membrorum', 'matrem', '-que', 'suus', 'conterruit', 'infans', 'dira', '-que', 'per', 'populum', 'cumanae', 'carmina', 'uatis', 'uolgantur', 'tum', 'quos', 'sectis', 'bellona', 'lacertis', 'saeua', 'mouet', 'cecinere', 'deos', 'crinem', '-que', 'rotantes', 'sanguineum', 'populis', 'ulularunt', 'tristia', 'galli', 'conpositis', 'plenae', 'gemuerunt', 'ossibus', 'urnae', 'tum', 'fragor', 'armorum', 'magnae', '-que', 'per', 'auia', 'uoces', 'auditae', 'nemorum', 'et', 'uenientes', 'comminus', 'umbrae', 'quique', 'colunt', 'iunctos', 'extremis', 'moenibus', 'agros', 'diffugiunt', 'ingens', 'urbem', 'cingebat', 'erinys', 'excutiens', 'pronam', 'flagranti', 'uertice', 'pinum', 'stridentis', '-que', 'comas', 'thebanam', 'qualis', 'agaue', '-ne', 'inpulit', 'aut', 'saeui', 'contorsit', 'tela', 'lycurgi', 'eumenis', 'aut', 'qualem', 'iussu', 'iunonis', 'iniquae', 'horruit', 'alcides', 'uiso', 'iam', 'dite', 'megaeram', 'insonuere', 'tubae', 'et', 'quanto', 'clamore', 'cohortes', 'miscentur', 'tantum', 'nox', 'atra', 'silentibus', 'auris', 'edidit', 'e', 'medio', 'uisi', 'consurgere', 'campo', 'tristia', 'sullani', 'cecinere', 'oracula', 'manes', 'tollentem', '-que', 'caput', 'gelidas', 'anienis', 'ad', 'undas', 'agricolae', 'fracto', 'marium', 'fugere', 'sepulchro', 'haec', 'propter', 'placuit', 'tuscos', 'de', 'more', 'uetusto', 'acciri', 'uates', 'quorum', 'qui', 'maximus', 'aeuo', 'arruns', 'incoluit', 'desertae', 'moenia', 'lucae', 'fulminis', 'edoctus', 'motus', 'uenas', '-que', 'calentis', 'fibrarum', 'et', 'monitus', 'errantis', 'in', 'aere', 'pinnae', 'monstra', 'iubet', 'primum', 'quae', 'nullo', 'semine', 'discors', 'protulerat', 'natura', 'rapi', 'sterili', '-que', 'nefandos', 'ex', 'utero', 'fetus', 'infaustis', 'urere', 'flammis', 'mox', 'iubet', 'et', 'totam', 'pauidis', 'a', 'ciuibus', 'urbem', 'ambiri', 'et', 'festo', 'purgantes', 'moenia', 'lustro', 'longa', 'per', 'extremos', 'pomeria', 'cingere', 'fines', 'pontifices', 'sacri', 'quibus', 'est', 'permissa', 'potestas', 'turba', 'minor', 'ritu', 'sequitur', 'succincta', 'gabino', 'uestalem', '-que', 'chorum', 'ducit', 'uittata', 'sacerdos', 'troianam', 'soli', 'cui', 'fas', 'uidisse', 'mineruam', 'tum', 'qui', 'fata', 'deum', 'secreta', '-que', 'carmina', 'seruant', 'et', 'lotam', 'paruo', 'reuocant', 'almone', 'cybebe', '-ne', 'et', 'doctus', 'uolucres', 'augur', 'seruare', 'sinistras', 'septemuir', '-que', 'epulis', 'festus', 'titii', '-que', 'sodales', 'et', 'salius', 'laeto', 'portans', 'ancilia', 'collo', 'et', 'tollens', 'apicem', 'generoso', 'uertice', 'flame', '-ne', 'dum', '-que', 'illi', 'effusam', 'longis', 'anfractibus', 'urbem', 'circumeunt', 'arruns', 'dispersos', 'fulminis', 'ignes', 'colligit', 'et', 'terrae', 'maesto', 'cum', 'murmure', 'condit', 'dat', '-que', 'locis', 'numen', 'sacris', 'tunc', 'admouet', 'aris', 'electa', 'ceruice', 'marem', 'iam', 'fundere', 'bacchum', 'coeperat', 'obliquo', '-que', 'molas', 'inducere', 'cultro', 'inpatiens', '-que', 'diu', 'non', 'grati', 'uictima', 'sacri', 'cornua', 'succincti', 'premerent', 'cum', 'torua', 'ministri', 'deposito', 'uictum', 'praebebat', 'poplite', 'collum', 'nec', 'cruor', 'emicuit', 'solitus', 'sed', 'uolnere', 'laxo', 'diffusum', 'rutilo', 'dirum', 'pro', 'sanguine', 'uirus', 'palluit', 'attonitus', 'sacris', 'feralibus', 'arruns', 'atque', 'iram', 'superum', 'raptis', 'quaesiuit', 'in', 'extis', 'terruit', 'ipse', 'color', 'uatem', 'nam', 'pallida', 'taetris', 'uiscera', 'tincta', 'notis', 'gelido', '-que', 'infecta', 'cruore', 'plurimus', 'asperso', 'uariabat', 'sanguine', 'liuor', 'cernit', 'tabe', 'iecur', 'madidum', 'uenas', '-que', 'minaces', 'hostili', 'de', 'parte', 'uidet', 'pulmonis', 'anheli', 'fibra', 'latet', 'paruus', '-que', 'secat', 'uitalia', 'limes', 'cor', 'iacet', 'et', 'saniem', 'per', 'hiantis', 'uiscera', 'rimas', 'emittunt', 'produnt', '-que', 'suas', 'omenta', 'latebras', 'quodque', 'nefas', 'nullis', 'inpune', 'apparuit', 'extis', 'ecce', 'uidet', 'capiti', 'fibrarum', 'increscere', 'molem', 'alterius', 'capitis', 'pars', 'aegra', 'et', 'marcida', 'pendet', 'pars', 'micat', 'et', 'celeri', 'uenas', 'mouet', 'inproba', 'pulsu', 'his', 'ubi', 'concepit', 'magnorum', 'fata', 'malorum', 'exclamat', 'uix', 'fas', 'superi', 'quaecumque', 'mouetis', 'prodere', 'me', 'populis', 'nec', 'enim', 'tibi', 'summe', 'litaui', 'iuppiter', 'hoc', 'sacrum', 'caesi', '-que', 'in', 'pectora', 'tauri', 'inferni', 'uenere', 'dei', 'non', 'fanda', 'timemus', 'sed', 'uenient', 'maiora', 'metu', 'di', 'uisa', 'secundent', 'et', 'fibris', 'sit', 'nulla', 'fides', 'sed', 'conditor', 'artis', 'finxerit', 'ista', 'tages', 'flexa', 'sic', 'omina', 'tuscus', 'inuoluens', 'multa', '-que', 'tegens', 'ambage', 'canebat', 'at', 'figulus', 'cui', 'cura', 'deos', 'secreta', '-que', 'caeli', 'nosse', 'fuit', 'quem', 'non', 'stellarum', 'aegyptia', 'memphis', 'aequaret', 'uisu', 'numeris', '-que', 'se', '-que', 'ntibus', 'astra', 'aut', 'hic', 'errat', 'ait', 'nulla', 'cum', 'lege', 'per', 'aeuum', 'mundus', 'et', 'incerto', 'discurrunt', 'sidera', 'motu', 'aut', 'si', 'fata', 'mouent', 'urbi', 'generi', '-que', 'paratur', 'humano', 'matura', 'lues', 'terraene', 'dehiscent', 'subsident', '-que', 'urbes', 'an', 'tollet', 'feruidus', 'aer', 'temperiem', 'segetes', 'tellus', 'infida', 'negabit', 'omnis', 'an', 'infusis', 'miscebitur', 'unda', 'uenenis', 'quod', 'cladis', 'genus', 'o', 'superi', 'qua', 'peste', 'paratis', 'saeuitiam', 'extremi', 'multorum', 'tempus', 'in', 'unum', 'conuenere', 'dies', 'summo', 'si', 'frigida', 'caelo', 'stella', 'nocens', 'nigros', 'saturni', 'accenderet', 'ignis', 'deucalioneos', 'fudisset', 'aquarius', 'imbres', 'tota', '-que', 'diffuso', 'latuisset', 'in', 'aequore', 'tellus', 'si', 'saeuum', 'radiis', 'nemeaeum', 'phoebe', 'leonem', 'nunc', 'premeres', 'toto', 'fluerent', 'incendia', 'mundo', 'succensus', '-que', 'tuis', 'flagrasset', 'curribus', 'aether', 'hi', 'cessant', 'ignes', 'tu', 'qui', 'flagrante', 'minacem', 'scorpio', '-ne', 'incendis', 'cauda', 'chelas', '-que', 'peruris', 'quid', 'tantum', 'gradiue', 'paras', 'nam', 'mitis', 'in', 'alto', 'iuppiter', 'occasu', 'premitur', 'ueneris', '-que', 'salubre', 'sidus', 'hebet', 'motu', '-que', 'celer', 'cyllenius', 'haeret', 'et', 'caelum', 'mars', 'solus', 'habet', 'cur', 'signa', 'meatus', 'deseruere', 'suos', 'mundo', '-que', 'obscura', 'feruntur', 'ensiferi', 'nimium', 'fulget', 'latus', 'orionis', 'inminet', 'armorum', 'rabies', 'ferri', '-que', 'potestas', 'confundet', 'ius', 'omne', 'manu', 'sceleri', '-que', 'nefando', 'nomen', 'erit', 'uirtus', 'multos', '-que', 'exibit', 'in', 'annos', 'hic', 'furor', 'et', 'superos', 'quid', 'prodest', 'poscere', 'finem', 'cum', 'domino', 'pax', 'ista', 'uenit', 'duc', 'roma', 'malorum', 'continuam', 'seriem', 'cladem', '-que', 'in', 'tempora', 'multa', 'extrahe', 'ciuili', 'tantum', 'iam', 'libera', 'bello', 'terruerant', 'satis', 'haec', 'pauidam', 'praesagia', 'plebem', 'sed', 'maiora', 'premunt', 'nam', 'qualis', 'uertice', 'pindi', 'edonis', 'ogygio', 'decurrit', 'plena', 'lyaeo', 'talis', 'et', 'attonitam', 'rapitur', 'matrona', 'per', 'urbem', 'uocibus', 'his', 'prodens', 'urguentem', 'pectora', 'phoebum', 'quo', 'feror', 'o', 'paean', 'qua', 'me', 'super', 'aethera', 'raptam', 'constituis', 'terra', 'uideo', 'pangaea', 'niuosis', 'cana', 'iugis', 'latos', '-que', 'haemi', 'sub', 'rupe', 'philippos', 'quis', 'furor', 'hic', 'o', 'phoebe', 'doce', 'quo', 'tela', 'manus', '-que', 'romanae', 'miscent', 'acies', 'bellum', '-que', 'sine', 'hoste', 'est', 'quo', 'diuersa', 'feror', 'primos', 'me', 'ducis', 'in', 'ortus', 'qua', 'mare', 'lagei', 'mutatur', 'gurgite', 'nili', 'hunc', 'ego', 'fluminea', 'deformis', 'truncus', 'harena', 'qui', 'iacet', 'agnosco', 'dubiam', 'super', 'aequora', 'syrtim', 'arentem', '-que', 'feror', 'libye', '-ne', 'quo', 'tristis', 'enyo', 'transtulit', 'emathias', 'acies', 'nunc', 'desuper', 'alpis', 'nubiferae', 'colles', 'atque', 'aeriam', 'pyrene', '-ne', 'abripimur', 'patriae', 'sedes', 'remeamus', 'in', 'urbis', 'inpia', '-que', 'in', 'medio', 'peraguntur', 'bella', 'senatu', 'consurgunt', 'partes', 'iterum', 'totum', '-que', 'per', 'orbem', 'rursus', 'eo', 'noua', 'da', 'mihi', 'cernere', 'litora', 'ponti', 'tellurem', '-que', 'nouam', 'uidi', 'iam', 'phoebe', 'philippos', 'haec', 'ait', 'et', 'lasso', 'iacuit', 'deserta', 'furore']\n",
      "4582\n"
     ]
    }
   ],
   "source": [
    "# Here is what the same poem looks like as a list of tokens\n",
    "print(word_tokenizer.tokenize(lucan_trims[0]))\n",
    "print(len(word_tokenizer.tokenize(lucan_trims[0])))"
   ]
  },
  {
   "cell_type": "code",
   "execution_count": 55,
   "metadata": {},
   "outputs": [],
   "source": [
    "# Tokenize list of poems\n",
    "\n",
    "# Again we can use list comprehensions to create orderly lists of lists of tokens.\n",
    "\n",
    "lucan_tokens = [word_tokenizer.tokenize(poem) for poem in lucan_trims]"
   ]
  },
  {
   "cell_type": "markdown",
   "metadata": {},
   "source": [
    "## Lemmatize tokens"
   ]
  },
  {
   "cell_type": "code",
   "execution_count": 93,
   "metadata": {
    "collapsed": true
   },
   "outputs": [],
   "source": [
    "# What we now want is a list of all of the lemmata, i.e. the dictionary headword, in \n",
    "# the poem. CLTK has Latin-specific lemmatizers that make automatic and 'informed' \n",
    "# decisions about which headword to pick. The accuracy of the lemmatizer we will\n",
    "# use today—the backoff lemmatizer—is constantly improving and is roughly 90% at present,\n",
    "# which should be sufficient for today's experiments."
   ]
  },
  {
   "cell_type": "code",
   "execution_count": 56,
   "metadata": {},
   "outputs": [],
   "source": [
    "# We need to import a data model to train the lemmatizer.\n",
    "\n",
    "import os\n",
    "from cltk.utils.file_operations import open_pickle\n",
    "\n",
    "# Set up training sentences\n",
    "\n",
    "rel_path = os.path.join('~/cltk_data/latin/model/latin_models_cltk/lemmata/backoff')\n",
    "path = os.path.expanduser(rel_path)\n",
    "\n",
    "# Check for presence of latin_pos_lemmatized_sents\n",
    "file = 'latin_pos_lemmatized_sents.pickle'      \n",
    "\n",
    "latin_pos_lemmatized_sents_path = os.path.join(path, file)\n",
    "if os.path.isfile(latin_pos_lemmatized_sents_path):\n",
    "    latin_pos_lemmatized_sents = open_pickle(latin_pos_lemmatized_sents_path)\n",
    "else:\n",
    "    latin_pos_lemmatized_sents = []\n",
    "    print('The file %s is not available in cltk_data' % file)  "
   ]
  },
  {
   "cell_type": "code",
   "execution_count": 57,
   "metadata": {},
   "outputs": [],
   "source": [
    "# Set up CLTK Latin backoff lemmatizer\n",
    "\n",
    "from cltk.lemmatize.latin.backoff import BackoffLatinLemmatizer\n",
    "lemmatizer = BackoffLatinLemmatizer(latin_pos_lemmatized_sents)"
   ]
  },
  {
   "cell_type": "code",
   "execution_count": 58,
   "metadata": {},
   "outputs": [],
   "source": [
    "# This lemmatizer, while more accurate than others, can be **very** slow. So, for\n",
    "# the purposes of today's workshop, we will use a 'trick' to speed it up, i.e.\n",
    "# rejoin the list of tokens and process two strings rather than a list of all the tokens.\n",
    "\n",
    "## Make one string of all files, delimited by |||\n",
    "## (NB: Attempt to reduce the number of regex compiles.)\n",
    "\n",
    "def create_lemmatized_texts(texts):\n",
    "    textin = \" ||| \".join(texts)\n",
    "    tokens = textin.split()\n",
    "    lemmas = lemmatizer.lemmatize(tokens)\n",
    "    textout = \" \".join(lemma[1] for lemma in lemmas)\n",
    "    punctuation =\"\\\"#$%&\\'()+,-/:;<=>@[\\]^_`{}~.?!«»—\"\n",
    "    translator = str.maketrans({key: \" \" for key in punctuation})\n",
    "    textout = textout.translate(translator)\n",
    "    translator = str.maketrans({key: \" \" for key in '0123456789'})\n",
    "    textout = textout.translate(translator)\n",
    "    textout = re.sub(r' punc ', ' ', textout)\n",
    "    lemmatized_texts = textout.split('|||')\n",
    "    return lemmatized_texts\n"
   ]
  },
  {
   "cell_type": "code",
   "execution_count": 59,
   "metadata": {},
   "outputs": [
    {
     "name": "stdout",
     "output_type": "stream",
     "text": [
      "['bellum per emathios multus quam ciuilis campus  jus do scelus cano populus  potens in suus uictrix converro uiscera dextera cognata acies et rumpo foedus regnum certas totus concutio uis orbis in communis nefas infestus obvius signum signum par aquila  et pilum mino pila quis furor o ciuis qui tantus licentia fero gens invideo latium praebeo cruor cum  superbus sum babylon spolio tropaeum ausoniis umbro erro crassus inultus bellum gero placeo nullus habeo triumphus heu quantus terra possum pelagius paro hic qui ciuilis haurio sanguis dexter unde uenio titan et nox ubi sidus condo quisque dies medius flagro aestuo hora et qui bruma rigeo atque nescius uerus remitto astringo scythico glacial frigor pontus sub iugum iam sero  iam barbarus eo  araxes et gens siqua iaceo nasco conscius nilus tum si tantus amor bellum tu roma nefandus totus sub latias lex cum  miser orbis in tu verto manus nondum tu desum hostis at nunc semirutus pendeo qui moenia tectum urbs italia labor  ingens murus saxum iaceo nullus domus custos teneo rarus et antiquus habitator in urbs erro horridus qui dumus multi inaro per annus hesperia sum desum manus posco arvum non tu pyrrhe ferox neque tantus clades auctor poenus sum nullus penitus descendo ferrum contingo altus sedeo ciuilis vulnero dexter qui si non alius venio fatum nero invenio uia magnus aeternus paro regnum deus caelum  suus seruio tono non nisi saevus possum post bellum gigantes iam nihil o superi queror scelus ipse nefas hic merces placeo dirus pharsalia campus  in pleo et poenio saturo sanguis manes ulter funestus concurro proelio mundo hic caesar perusina fames mutinaeque labor accedo fatum et qui premo asper classis leuca et ardeo seruilia bellum sub aetna multus roma tamen debeo ciuilis arma qui tu res ago sum tu cum  statio perago astrum peto seruo praefero regius caelum excipio gaudeo polus  seu sceptrum teneo seu tu flammigeros phoebus conscendo currus tellus nihil muto sol timeo ignis vago lustraris iuuo tu numen ab omnis cedo jus tuus natura relinquo quis deus sum uelum ubi regnum pono mundus sed neque in arctous sedes tu lego orbis neque polus  auerto calidus qui vergo auster  unde tuus uideo obliquus sidus roma aether immensus pars si premo unus sentio axis onus libro pondero caelum orbis teneo medium pars aether ille serenus  totus uaco nullus obsto ab caesar nubes tum genus humanus pono sui consulo arma in uicis gens omnis amo pax mitto per orbis ferreus belliger conpescat limen iani sed ego iam numen neque si tu pectus uates accipio cirrhaea uolo secerno moveo sollicito deus bacchumque averto nysa tu satis ad uis romana in carmen do fero animus causa tantaris expromo res immensus aperio opus quis in arma furo in pello populus quis pax excutio orbus invidus fatum series summus nego sto diu nimius grauis sub pondus labor neque sui roma fero sic cum  conpage solvo saeculum tot mundus superus cogo hora antiquus repeto iterum chaos omnis misceo sidus sidus concurro igneus pontus astrum peto tellus extendo litus nolo excutio fretus  frater contrarius phoebus eo et obliquus biga agito per orbis indignor dies posco sui totus  discors machina dis vello turbo foedero mundus in sui magnus ruo laetus  hic numen res cresco pono modus neque gens ullus commodo  in populus terra pelagius potens inuidia fortuna suus tu causa malus facio tres dominus communis roma neque umquam in turba mitto feralis foedero regnum o malus concordo nimius cupido caecus  quis misceo iuuo uis orbo teneo in medium dum terra fretus  terra leuo aer et longus volvo titana labor nox dies caelum totidem per signum sequor nullus fides regnum socius omne potestas impatiens consortio sum neque gens ullus credo neque longus fatum exemplum peto fraternus primus madeo sanguis murus neque pretium tantus tellus pontus  furor tunc sum exiguus dominus committo asylum tempus angustus maneo concordia discors pax sum non sponte dux nam solus sum  crassus sum bellum medius mora qualis unda qui seco et geminus gracilis mare separo isthmos neque patior confero fretus  si terra recedo ionium aegaeus frango mare sic ubi saeuus arma dux dirimo misero funus crassus assyrias latium maculo sanguis carrhas parthica romanus soluo damno furor multus ille tu acies quam credo ago sum arsacidae bellum uinco ciuilis do divido ferrum regnum populus  possum qui mare qui terra qui totus possideo orbis non capio fortuna duo nam pignus jungo sanguis et dirus feralis omen taeda aufero ad manes parcaris iulius saeuus intercipio manus qui si tu fatum do magnus in lux mora tu solus furo inde uir possum atque hinc retineo parens armo manus excutio iungo ferrum ut gener socer medius jungo sabinae mors tuus discutio fides bellus moueo permitto dux stimulus do aemulo uirtus tu nouus ne ueteres obscuro ago triumphus et uinco cedo piraticus laureus galli magnus timeo tu iam series utor labor erigo impatiens locus fortuna secundus  neque quisquam iam fero possum caesarue prior pompeiusue par quis iustus induo arma scio nefas magnus sui iudex quisque tueor victrix causa deus placeo sed uiuo cato neque coeo par alter vergo annus in senium longus toga tranquillus usus dedisco iam pax dux fama petitor multus do in uulgus totus popularis auris inpello plaudo suus gaudeo theatrum neque reparo nouus uis multus prior credo fortuna sto magnus nomen umbra qualis frugifer quercus sublimis in ager exuuias uetus populus sacro gesto donum dux neque iam validus radix haereo pondus figo suus sum nudus per aes ramus effundo trunco non frons efficio umbra et quamuis primus nuto cado sub eurus tot circum  silua firmus sui robur tollo solus tamen colo sed non in caesar tantus nomen sum neque fama dux sed nescius uirtus sto locus solus pudor non uinco bellum acer et indomitus quo spes quoque ira uoco fero manus et numquam temero parco ferrum successus urgeo suus insto favor numen in pello quisquis sui summus peto obsto gaudeo uia facio ruina qualis exprimo uentus per nubila fulmen aether inpello sonitus mundus fragor emico rumpo dies populus  paueo terreo obliquus praestringo lumen flamma in suus templum furio  nullus exeo veto materia magnus cado magnus revorto do strages latus spargo  recolligo ignis hic dux causa subsum sed publicus bellum semen qui populus semper mergo possum namque ut ops nimius mundus fortuna subigo infero et res mos cedo secundus praeda et hostilis luxus  suadeo rapina non aurum tego modus metior prior aspernor fames cultus gestaris decorus uix nuribus rapio maris fecundus uir paupertas fugio totus  arcesso orbis quo gens quisque pereo tum longus iungo finis ager et quondam durus sulco camillus  vomo et antiqui curiorum patior ligo  longus sub ignosco extendo rus colonia non sum is populus qui pax tranquillus iuuo qui suus libertas immotus pasco arma inde ira facilis et qui suadeo egestas uilis nefas magnus decus ferrum peto multus patria possum suus metior ius uolo sum hinc lex et plebs scio cogo et cum  consul turbo  ius tribunus hinc rapio fascis pretium sector  favor ipse suus populus letalis ambitus urbs annuus uenal refero certamen campus hinc utor vorax avidus in tempus fenus et concutio fides et multus utilis bellum iam gelidus caesar cursus supero alpes ingens animus moueo bellus sum capio ut uenio sum paruus rubiconis ad unda ingens uideo duco patria trepido imago clarus per obscurus uultus maestus nox turrigero canus effundo uertex crinis caesaries lacero nudus adstaris lacertus et gemitus permisceo loquor quo tendo ultra quo fero meus signum uir si ius uenio si ciuis huc usque licet tum percello horror membrum dux rigesco coma gradior coerceo languor in exter teneo uestigium ripa mox aio o magnus qui moenia prospicio urbs tarpeia de rupes tono phrygiique penates gens iuleae et rapio secerno quirinus et resideo celsus latiaris iuppiter albus uestalesque focus summus o numen instar roma for coepio non tu furial arma persequor en adsum uictor terra mare caesar ubique tuus licet modo nunc quoque miles ille sum ille noceo qui ego tu facio hostis inde mora soluo bellum tumidus per amnis signum fero properus sicut squaleo arvum aestiferae libyes uideo leo comminus hostis subsedit dubius totus dum colligo ira mox ubi sui saevus stimulo verber cauda erigo juba  et uastus grauis murmur hiatus infremo tum torqueo leuis si lancea mauri haereo aut latus subeo venabulum pectus per ferrum tantus securus vulnus exeo fons cado modicus parvus in pello unda puniceus rubicon cum  fervidus candeo aestas per imus serpo vallo et gallica certus limo  ab ausoniis distermino aruum colonia tum uis praebeo hiems atque augeo unda tertius iam gravidus pluuial cynthia cornu et madidus eurus resolvo flatus alpes primus in obliquus sonipes oppono amnis excipio aqua mollis tum ceterus rumpo turba uado facilis iam frango flumen unda caesar ut aduerto supero gurges ripa attigo hesperiae veto et consto arvum hic aio hic pax temero ius relinquo tu fortuna sequor procul hinc iam foedero sum credo satis hic utor sum iudex bellum sic fatus nox tenebrae rapio agmen ducto impiger et torqueo balearis verber funda ocior et mitto parthi post tergum sagitta vicinus minax invado ariminum et ignis sol lucifer fugio astrum relinquo iam dies primus bellum uideo tumultus exorior sed sponte deus seu turbidus auster in pello maestus teneo nubila lux consto ut capio iubeo depono miles signum forum strido litus  clango tubaris non pius concino cum  raucus classicus cornu rumpo quies populus sterno excio iuuentus deripio sacrum affigo Penates arma qui pax longus do nudo iam creo  fluo invado clipeus curuataque cuspis pilum et scabros niger morsus robigo ensis ut nosco fulcio aquila romanaque signum et celsus  medium conspicio  in agmen caesar derigesco metus gelidus pavor occupo artus et taceo mutus volvo in pectus queror o malus vicinus hic moenia condio galli o tristis damno locus pax altus per omnis et tranquillus quies populus nos praeda furentum primus castrum sum bonus fortuna do orbis sub eous sedes gelidus sub arceo erro  domus latii quam claustra tueor nos primus senonum moueo cimbrumque ruo uideo et martes libyes curro furor teutonici quotiens roma fortuna lacesso hic iter sum bellum gemitus sic quisque lateo non audeo timeo palam uox nullus dolor credo sed quantus uolucris cum  bruma coerceo rus sileo medius taceo sine murmur pontus tantus quies nox gelidus lux soluo umbra ecce fax bellum dubius in proelio mens urgeo addo stimulus cuncto pudor rumpo fatum mora iustus fortuna laboro sum dux moueo et causa inuenio arma expello anceps discors urbs tribunus vinco ius minax iacto curia gracchis hic iam moueo dux vicinum signum peto audax uenal comito curio  lingua uox quondam populus libertas tueor audeo et armatus plebs misceo potens ut dux vario volvo pectus cura conspicio dum uox tuus possum iuuaris caesar aio pars quamuis nolo senatus traho imperium tum cum  ego rostrum teneo ius sum et dubius in tu transfero quiris at postquam lex bellum sileo cogo pello e patrius laris patior volo  exsilium tuus nos facio uictoria ciuis dum trepido nullus firmo robur pars tollo mora semper noceo differo paro par labor atque metus pretium magnus peto bellor geminus teneo tu gallia lustrum  pars quotus terra facilis si proelio paucus gero euentus tu roma subigo orbis nunc neque tu longus re meo pompa triumphus excipio aut sacer posco capitolium laurus liuor edax tu cunctus nego gens subigo uix impunis fero socer depello regnum decretum gener sum partio  non possum orbis solus habeo possum sic postquam fatus et ipse in bellum pronus tantus tamen addo ira accendo  dux quantus clamor iuuo eleus sonipes quamuis iam carcer claudo inmineat foris pronus repagula laxo conuoco armatus extemplo ad signum manipulus ut satis trepidus turba coeo tumultus con pono uultus dexter silentium iubeo bellum o socius qui mille periculum mars ego aio experior decimus iam vincio annus hic cruor arctous mereo diffundo in arvum vulnero et mors hiemo sub alpibus ago non secus ingens bellum roma tumultus concutio quam si poenus transcendo alpes hannibal in pleo validus tiro  cohors in classis cado omnis nemus terra mare iubeo caesar ago quis si ego signum iacio martes sub aduerto ruo in tergum ferox gallus  populus nunc cum  fortuna secundus ego res ago superus ad summus voco tento uenio longus dux pax soluo miles cum  subeo pars in bellum togata marcellusque loquax et nomen uanus catones scilicet extremus pompeius emo cliens continuo per tot satio tempus regnum ille rego currus nondum patior annus ille semel rapio numquam dimitto honor quis iam rus queror totus supprimo per orbis atque jubeo seruio fames quis castrum timeo nescio misceo forum gladius cum  tristis mico iudicium insolitus trepidus cingo corona atque audeo medius perrumpo miles lex pompeiana reus claudo signum milonem nunc quoque ne lassus teneo priuo senectus bellum nefandus paro suesco ciuilis arma et docilis sulla scelus vinco magister ut fera tigris numquam pono furor qui nemus hyrcano mater dum lustro  secor altus caesor pasco cruor armentor sic et sullanum soleo tu lambo ferrum duro magnus sum nullus semel os recipio polluo patior sanguis mansuesco fauces qui tamen inuenio tam longus potentia finis quis scelus modus sum ex hic iam tu improbus regnum ille tuus saltem doceo descendo sulla post cilicasne vagus et lassus pontica rex proelio barbaricus uix consummo uenenum ulter pompeius do prouincia caesar qui non uictrix aquila  depono iubeo pareo ego si merces eripio labor sum hic saltem longus non cum  dux praemium bellum reddo miles sub quilibet iste triumpho confero exsanguis quo sui post bellum senectus qui sedes sum emereo qui rus do qui noster veteranus areo qui moenia fatisco an bonus fio pirata magnus colonus tollo iam pridem uictricia tollo signum uis utor sum qui facio arma teneo omnis do qui iustus nego neque numen defleo nam neque praeda meus neque regnum quaero arma detraho dominus urbs seruio paro  dico at dubius non clarus murmur uulgus sui incertus fremo pietas  patrius  penates quamquam caedes ferus mens animus tumeo frango sed dirus fero revoco amor ductor metus superus tum munus pilus laelius emereo gero  insigne donum seruati ciuis refero praemium quercus si licet exclamo romanus magnus rector nomen et ius sum verus expromo uox qui tam lentus tuus teneo patientia uis conqueror defleo tu fiducia noster dum moueo hic calidus spiro corpus sanguis et dum pilum ualeo fortis torqueo lacertus degenero patior toga regnum senatus usque adeo miser sum ciuilis uinco bellum duco ago per scythiae populus per inhospitus syrtis litus per calida libyae sitio harena hic manus ut vinco post tergum relinquo orbis oceani tumidus remus conpescuit unda frango et arctous spumo uertex rhenus iubeo sequor tam possum ego quam uolo necesse sum neque ciuis meus sum in qui tuus classicus caesar audio per signum decem felicia castrum per tuus iuro quicumque ex hostis triumphus pectus si frater gladius jugulo parens condo ego iubeo plenus in uiscera partus coniunx inuitus perago tamen omnis dextera si spolio deus ignis in mitto templum numen misceo castrensis flamma monetae castrum super tusci si pono thybridis unda hesperios audax uenio metator in ager tu quicumque uolo in planus  effundo murus hic aries ago dispergo saxum lacertus ille licet penitus tollo quam iubeo urbs roma sum hic cunctus simul ad sentio cohors effero  altus quicumque ad bellum uoco promitto manus eo tantus ad aether clamor quantus pinifer boreas cum  thracius ossae rupes incumbo curvo robur premo fio sonus aut rursus redeo in aether silua caesar ut accipio tam pronus miles bellum for fero uideo nequo languor moror fortuna spargo  per gallica rus cohors euoco et roma moveo peto undique signum desero  cauus tentorius figo lemanno castro qui uosegi curvus super arduus ripa pugnax pingo cohibeo lingonas arma hic uadum linquo isarae qui gurges duco per tam multus suus fama magnus in amnis labor ad aequoreus nomen non perfero unda soluo flo longus statio ruteni mitis atax latias gaudeo non fero carino  finis et hesperiae promoveo limes varus  quisque sub herculeo sacro nomen portus urgeo rupes cauus pelagus non corus in ille ius habeo aut zephyrus solus suus litus turbo circius et tueor prohibeo statio monoeci quisque iaceo litus dubius qui terra fretus  vindico alternus uicis cum  fundo  ingens oceanus uel cum  refugio sui fluctus aufero uentus ab exter pelagus sic axis voluto destituo fero an sidus moueo secundus tethyos unda vagus lunaris aestuo hora flammigo an titan ut alo haurio unda erigo oceanus fluctus ad sidus duco quaero qui agito mundus labor at ego semper tu quicumque moveo tam creber causa meo ut superi volvo latus tum rus nemetis qui teneo et ripa atyri qui litus curvo mollis admitto claudo tarbellicus aequor signum moueo gaudeo amoveo santonus hostis et biturix longus leuis suessones in arma bonus excutio leucus reor lacertus bonus gens flecto in gyrus sequana frenum et docilis rector monstro belga covinus aruernique audeo latium sui fingo frater sanguis ab iliacus  populus nimius rebellis neruius et caedo polluo foedus cottae et qui tu laxus imito sarmata braca uangio batauique trux qui aer recurvo strideo acuo tuba qui cinga pererro gurges qui rhodanus rapio velox unda in mare fero aro qui mons arduus summus gens habito canus pendeo rupes cebennas tu quoque laeto converto proelio treuir et nunc tondeo ligur quondam per collum decus crinis effundo totus  praefero como  et qui immitis placo sanguis dirus teutas horreo fera altar edo  et taranis scythicae non mitis ara diana tu quoque qui fortis anima bellus per emo laus in longus uates dimitto aeuum multus securus fundo  carmen bardus  et tu barbaricus ritus mos sinister sacer dryadae pono repeto ab arma sol nosco deus et caelum numen tu aut sol nescio do nemus altus remoueo incolo  lucus tu auctor umbra non taceo erebi sedes dives profundo pallidus regnum peto rego idem spiritus artus orbis alius longus cano si cognosco uita mors medius sum certus populus qui despicio arctos felix error suus qui ille timor magnus haud urgeo letum metus inde ruo in ferrum mens pronus uir animaequus capax mors et ignavus redeo parco uita et tu crinigeros belgae arceo caycos oppono peto roma rhenique ferox desero  ripa et aperio gens orbis caesar ut immensus collector robur uis audeo magnus fides facio per omnis spargo  italia vicinum moenia conpleo uanus quoque ad verus accedo fama timor irrumpo animus populus clades sum infero et uelox propero nuntio bellum innumerus soluo fallo in praeconium lingua sum qui taurifer ubi sui meuania campus  explico audax ruo in certamen turma affero et qui nar tiberino in labor  amnis barbaricus saevus discurro caesar ala ipse omnis aquila  confero signum fero agmen non unus densus incedo castrum neque qual memini uideo magnus ferus mens occurro vinco immanis hostis hic inter rhenus populus albimque jaceo finis arctous patrium ab sedes revello pono sequor jubeo fera ab gens urbs romanus specto rapio sic quisque paveo do uis fama nullus auctor malus qui fingo timeo neque solus uulgus inanis percutio terror paueo sed curia et ipse sedes exiluere pater invideo bellum consul fugio mando  decerno senatus tum qui tueor peto et qui metuo relinquo incertus quo quisque fuga fero impetus urgeo praecipito populus serius  haereo longus agmen prorumpo credo aut tectum nefandus corripio fax aut iam quatio ruina nuto pendeo domus sic turba per urbs praeceps lympho gradus uelut unicus res spes sum affligo patrius excedo murus inconsultus  ruo qualis cum  turbidus auster repello ab libycis immensus syrtis aequor frango velifer sono pondero malus desilo in fluctus desero puppis magister nauta et nondum spargo  conpage carina  naufragium sui quisque facio sic urbs relinquo in bellum fugio nullus iam languidus aevum eualuit reuoco parens conjunx maritus fletus aut patrius  dubius dum uotum salus concipio teneo lar neque limen quisquam haereo et exter tunc forsitan urbs amo plenus abeo uideo ruo inreuocabilis uulgus o facilis do summus deus idem tueor difficilis urbs populus vinco frequens gens et genus coeo si turba capax humanus facilis venio caesar praeda ignavus linquo manus cum  premo ab hostis claudo externus miles romanus in ora effugio exiguus nocturnus periculum uallum et subeo rapio munimen caespes agger praebeo securus intra tentorius somnus tu tantus audio bellum nomen roma desero  nox unus tuus non credo murus do tamen uenia sum tantor do pavor pompeius fugio timeo tum nequa sum  spes saltem trepido mens levo  addo fatum malus manifestus fides superus minax prodigium terra in pleo aether pontus ignotus obscurus uideo sidus nox ardeo polus  flamma caelo uolo obliquus per inanis fax crinis timeo sido et terra muto  regnum cometes  fulgur fallax mico creber serenus  et vario ignis densus do aer forma nunc iaculis longus nunc spargo  lumen lampas emico caelum taceo sine nubis ullus fulmen et arctous rapio de pars ignis percutio latiaris caput stella paruus per uacuus soleo nox decurro tempus in medius uenus dies cornus  cogo iam phoebus totus frater cum  reddo orbis terra subeo percutio expallesco umbra ipse caput medium titan cum  fero olympus condo ardeo ater caligo currus involvo orbis tenebrae gens cogo desperaris dies qual fugio per ortus sol thyesteae nox duco mycenae os ferox sicula laxo mulciber aetnae neque fero in caelum flamma sed uertex pronus ignis in hesperius cado latus ater charybdis sanguineus fundo  torqueo mare flebilis saevus latro  canis uestal rapio ab ara ignis et ostendo confacio flamma latinus scindo in pars gemino cacumen surgo thebanos imito rogus tum cardo tellus subsedit vetus iugum nuto alpes discutio nix tethys magnus unda hesperiam calpen summus in pleo atlanta indigeto fleo deus urbs labor testo sudor lar delabor templum donum suus dirae dies foedo uolucris accipio silva ferus sub nox relinquo audax medius pono cubile roma tum pecus  facilis humanus ad murmur lingua monstruosus homo pario numero  modus membrum mater suus conterreo infer dirus per populus cumanae carmen uates vulgo  tum qui seco bellona lacertus saeuus moueo cano deus crinis roto sanguineus populus ululo tristis gallus compositum plenus gemo os urna tum fragor armus magnus per auius uox audio nemus et venio comminus umbra quisque colo jungo exter moenia ager diffugio ingens urbs cingo erinys excutio pronus flagro uertex pinus strideo como  thebanam qualis agauen in pello aut saevus contorqueo telum lycurgi eumenis aut qual iussus iuno iniquus horreo alcides uideo iam dite megaeram insono tuba et quantus clamor cohors misceo tantus nox ater sileo auris edo e medium uiso consurgo campus tristis sullani cano oraculum manes tollo caput gelidus anienis ad unda agricola  frango mare fugio sepulcrum hic propter placeo tuscos de mos vetustus accio uates qui qui magnus aevum arruns incolo  desero  moenia lucae fulmen edoceo moueo vena caleo fibraris et moneo erro in aer pinnae monstrum iubeo primus qui nullus semen discors profero natura rapio sterilis nefandus ex uterus fetus infaustus uro flamma mox iubeo et totus pavidus ab ciuis urbs amb eo  et festus  purgo moenia lustrum longus per extremus pomerium cingo finis pontifex sacer qui sum permitto potestas turba paruus ritus sequor succingo gabino uestalemque chorus duco vittatus sacerdos troianam solus qui fas video mineruam tum qui fatum deus secerno carmen seruo et lotus parvus revoco almus cybeben et doceo uolucris augur seruo sinister septemuirque epulis festus  titiique sodal et salius laeto porto ancile collum et tollo apex generosus uertex flamen  dum ille effundo longus anfractus  urbs circumeo arruns dis permulceo fulmen ignis colligo et terra maestus cum  murmur condo do locus numen sacrum tunc admoveo ara eligo ceruix maris iam fundo  bacchum coepio obliquus molo  induco culter impatiens diu non gratus uictima sacer cornu succingo premo cum  torvus minister depono vinco praebeo poples collum neque cruor emico soleo sed vulnus laxo diffundo rutilo dirus pro sanguis uirus palleo attono sacrum feral arruns atque ira superi rapio quaero in exta terreo ipse color vates nam pallidus taeter uiscera tingo nosco gelidus inficio cruor multus asperso vario sanguis liuor cerno tabeo jecur madidus vena minax hostilis de pars uideo pulmo anhelis fibra lateo parvus seco vitalia limo  cor iaceo et sanies per hio uiscera rimo emitto prodo suus omentum latebra quisque nefas nullus impunis appareo exta ecce uideo caput fibraris in cresco moles alter capio pars aeger et marcidus pendeo pars mico et celer  vena moueo improbus pello hic ubi concipio magnus fatum malus exclamo uix fas superi quicumque moveo prodo ego populus neque enim tu summus lito iuppiter hic sacer caedo in pectus taurus infernus uenus deus non for timeo sed uenio magnus metus deus uideo secundo  et fibra sum nullus fides sed conditor  ars fingo iste tages flecto sic omen tuscus inuoluo multo  tego ambago cano at figulus  qui cura deus secerno caelum nosco sum qui non stella aegyptia memphis aequo uideo numerus sequor ntibus astrum aut hic erro aio nullus cum  lex per aeuum mundus et incertum discurro sidus motus aut si fatum moveo urbs gener paro humanus maturo luo terra dehisco subsido urbs an tollo feruidus aer temperies seges tellus infidus nego omnis an infundo misceo unda uenenum qui clades genus o superi qui pestis paro saevitia extremus multus tempus in unus conuenio dies superus si frigidus caelum stella noceo niger saturnus accendo ignis deucalioneos fundo  aquarius imber totus  diffundo lateo in aequor tellus si saeuus radius nemeaeum phoebus leo nunc premo totus fluo incendium mundus succendo tuus flagro currus aether hic cesso ignis tu qui flagro minax scorpion incendo cauda chelae peruro quis tantus gradior paro nam mitis in altus iuppiter occasus premo venio salubris sidus hebeo moveo celer cyllenius haereo et caelum mars solus habeo cur signum meo desero  suus mundo obscurus fero ensifer nimius fulgeo latus orio inmino armus rabio fero potestas confundo ius omnis manus scelerus nefandus nomen sum uirtus multi exeo in annus hic furor et superus quis prodo posco finis cum  dominus pax iste uenio duco roma malus continuus series clades in tempus multus extraho ciuilis tantus iam liber bellum terreo satis hic pavidus praesagium plebs sed magnus premo nam qualis uertex pindi edonis ogygio decurro plenus lyaeo talis et attono rapio matrona per urbs uox hic prodo urgeo pectus phoebum quo fero o paean qui ego super aether rapio constituo terra uideo pangaea nivosus canus iugum fero haemi sub rupes philippos quis furor hic o phoebus doceo quo telum manus  romanus misceo acies bellus sine hostis sum quo diuerto fero primus ego dux in ortus qui mare lageos muto gurges nilis hic ego flumineus deformis truncus  harena qui iaceo agnosco dubius super aequor syrtim areo fero libyen quo tristis enyo transfero emathias acies nunc desuper alpis nubifer collis atque aerius pyrenen abripio patria sedes re meo in urbs impius in medium perago bellum senatus consurgo pars iterum totus  per orbis rursus is nouus do ego cerno litus pontus tellus nouus uideo iam phoebus philippos hic aio et lasso iaceo desero furor']\n"
     ]
    }
   ],
   "source": [
    "print(create_lemmatized_texts(lucan_trims[:1]))"
   ]
  },
  {
   "cell_type": "code",
   "execution_count": 60,
   "metadata": {},
   "outputs": [],
   "source": [
    "# As noted above, rejoin list of tokens...\n",
    "lucan_tokenized_texts = [' '.join(tokens) for tokens in lucan_tokens]\n",
    "\n",
    "# ... and lemmatize.\n",
    "lucan_lemmatized_texts = create_lemmatized_texts(lucan_tokenized_texts)"
   ]
  },
  {
   "cell_type": "code",
   "execution_count": 61,
   "metadata": {},
   "outputs": [],
   "source": [
    "# Now let's split our lemmatized texts into a list of lemmas, first by getting\n",
    "# a list of lemmas per poem...\n",
    "\n",
    "lucan_lemmas = [text.split() for text in lucan_lemmatized_texts]\n",
    "lucan_lemmas = [item for sublist in lucan_lemmas for item in sublist]"
   ]
  },
  {
   "cell_type": "markdown",
   "metadata": {},
   "source": [
    "## Counting words"
   ]
  },
  {
   "cell_type": "code",
   "execution_count": 100,
   "metadata": {},
   "outputs": [
    {
     "name": "stdout",
     "output_type": "stream",
     "text": [
      "Top 25 lemmas in Propertius 1:\n",
      "\n",
      "       lemma       COUNT       Type-Tok %  RUNNING %   \n",
      "    1. et          135         3.05%       3.05%       \n",
      "    2. sum         124         2.81%       5.86%       \n",
      "    3. tu          113         2.56%       8.42%       \n",
      "    4. ego         106         2.4%        10.81%      \n",
      "    5. non         84          1.9%        12.71%      \n",
      "    6. qui         64          1.45%       14.16%      \n",
      "    7. amor        61          1.38%       15.54%      \n",
      "    8. meus        57          1.29%       16.83%      \n",
      "    9. ille        51          1.15%       17.99%      \n",
      "   10. neque       49          1.11%       19.1%       \n",
      "   11. hic         48          1.09%       20.18%      \n",
      "   12. in          47          1.06%       21.24%      \n",
      "   13. possum      42          0.95%       22.19%      \n",
      "   14. noster      32          0.72%       22.92%      \n",
      "   15. tuus        31          0.7%        23.62%      \n",
      "   16. cynthia     30          0.68%       24.3%       \n",
      "   17. puella      28          0.63%       24.93%      \n",
      "   18. quis        26          0.59%       25.52%      \n",
      "   19. nullus      22          0.5%        26.02%      \n",
      "   20. si          22          0.5%        26.52%      \n",
      "   21. cum         21          0.48%       26.99%      \n",
      "   22. ut          20          0.45%       27.44%      \n",
      "   23. durus       19          0.43%       27.87%      \n",
      "   24. modo        17          0.38%       28.26%      \n",
      "   25. nunc        17          0.38%       28.64%      \n"
     ]
    }
   ],
   "source": [
    "# Now that we have a list of lemmas from our authors, we can use the Counter\n",
    "# object in Python to get some frequency information about \"words\"\n",
    "\n",
    "from collections import Counter\n",
    "\n",
    "# Build counter of top token counts\n",
    "propertius_lemmas_counter = Counter(propertius_lemmas)\n",
    "propertius_lemmas_mc = propertius_lemmas_counter.most_common(100)\n",
    "\n",
    "running = 0\n",
    "\n",
    "print('Top 25 lemmas in Propertius 1:\\n')\n",
    "print(\"{number:>5}  {lemma:<12}{count:<12}{percent:<12}{running:<12}\".format(number=\"\", lemma=\"lemma\", count=\"COUNT\", percent=\"Type-Tok %\", running = \"RUNNING %\"))\n",
    "for i, pair in enumerate(propertius_lemmas_mc[:25]):\n",
    "    running += pair[1]\n",
    "    print(\"{number:>5}. {lemma:<12}{count:<12}{percent:<12}{running:<12}\".format(number=i+1, lemma=pair[0], count=pair[1], percent=str(round(pair[1] / len(propertius_lemmas)*100, 2))+\"%\", running = str(round(running / len(propertius_lemmas)*100, 2))+\"%\"))"
   ]
  },
  {
   "cell_type": "code",
   "execution_count": 101,
   "metadata": {},
   "outputs": [
    {
     "name": "stdout",
     "output_type": "stream",
     "text": [
      "Top 25 lemmas in Tibullus 1:\n",
      "\n",
      "       lemma       COUNT       Type-Tok %  RUNNING %   \n",
      "    1. et          148         2.75%       2.75%       \n",
      "    2. sum         120         2.23%       4.99%       \n",
      "    3. ego         108         2.01%       6.99%       \n",
      "    4. que         106         1.97%       8.97%       \n",
      "    5. tu          101         1.88%       10.84%      \n",
      "    6. non         68          1.26%       12.11%      \n",
      "    7. hic         61          1.13%       13.24%      \n",
      "    8. qui         56          1.04%       14.29%      \n",
      "    9. ille        56          1.04%       15.33%      \n",
      "   10. neque       48          0.89%       16.22%      \n",
      "   11. in          43          0.8%        17.02%      \n",
      "   12. at          38          0.71%       17.73%      \n",
      "   13. cum         38          0.71%       18.43%      \n",
      "   14. ipse        36          0.67%       19.1%       \n",
      "   15. sed         34          0.63%       19.74%      \n",
      "   16. amor        33          0.61%       20.35%      \n",
      "   17. meus        30          0.56%       20.91%      \n",
      "   18. quis        30          0.56%       21.47%      \n",
      "   19. do          29          0.54%       22.01%      \n",
      "   20. deus        28          0.52%       22.53%      \n",
      "   21. de          28          0.52%       23.05%      \n",
      "   22. nunc        27          0.5%        23.55%      \n",
      "   23. possum      27          0.5%        24.05%      \n",
      "   24. uenus       24          0.45%       24.5%       \n",
      "   25. fero        23          0.43%       24.93%      \n"
     ]
    }
   ],
   "source": [
    "# Build counter of top token counts\n",
    "tibullus_lemmas_counter = Counter(tibullus_lemmas)\n",
    "tibullus_lemmas_mc = tibullus_lemmas_counter.most_common(100)\n",
    "\n",
    "running = 0\n",
    "\n",
    "print('Top 25 lemmas in Tibullus 1:\\n')\n",
    "print(\"{number:>5}  {lemma:<12}{count:<12}{percent:<12}{running:<12}\".format(number=\"\", lemma=\"lemma\", count=\"COUNT\", percent=\"Type-Tok %\", running = \"RUNNING %\"))\n",
    "for i, pair in enumerate(tibullus_lemmas_mc[:25]):\n",
    "    running += pair[1]\n",
    "    print(\"{number:>5}. {lemma:<12}{count:<12}{percent:<12}{running:<12}\".format(number=i+1, lemma=pair[0], count=pair[1], percent=str(round(pair[1] / len(tibullus_lemmas)*100, 2))+\"%\", running = str(round(running / len(tibullus_lemmas)*100, 2))+\"%\"))"
   ]
  },
  {
   "cell_type": "markdown",
   "metadata": {},
   "source": [
    "## Words as features"
   ]
  },
  {
   "cell_type": "code",
   "execution_count": 62,
   "metadata": {},
   "outputs": [],
   "source": [
    "# Here we will quickly go through the kinds of exploratory data analysis available\n",
    "# to us once we have preprocessed or tokenized or lemmatized texts, spec.\n",
    "\n",
    "# - Visualizing texts by \"distance\" based on vocabulary\n",
    "# - Visualizing automatically extracted topics based on word co-occurence"
   ]
  },
  {
   "cell_type": "code",
   "execution_count": 64,
   "metadata": {},
   "outputs": [
    {
     "name": "stdout",
     "output_type": "stream",
     "text": [
      "\u001b[39m\u001b[1mInstalling \u001b[32m\u001b[1mnumpy\u001b[39m\u001b[22m...\u001b[39m\u001b[22m\n",
      "\u001b[34m\u001b[22mCollecting numpy\n",
      "  Using cached https://files.pythonhosted.org/packages/d4/fd/6c1c98862f78b1aacd8d81811900ddd5cbe34a6ed168e8f84e4df7cac30f/numpy-1.15.1-cp37-cp37m-macosx_10_6_intel.macosx_10_9_intel.macosx_10_9_x86_64.macosx_10_10_intel.macosx_10_10_x86_64.whl\n",
      "Installing collected packages: numpy\n",
      "Successfully installed numpy-1.15.1\n",
      "\u001b[39m\u001b[22m\n",
      "\u001b[39m\u001b[1mAdding\u001b[39m\u001b[22m \u001b[32m\u001b[1mnumpy\u001b[39m\u001b[22m \u001b[39m\u001b[1mto Pipfile's\u001b[39m\u001b[22m \u001b[31m\u001b[1m[packages]\u001b[39m\u001b[22m\u001b[39m\u001b[1m...\u001b[39m\u001b[22m\n",
      "\u001b[39m\u001b[1mInstalling \u001b[32m\u001b[1mpandas\u001b[39m\u001b[22m...\u001b[39m\u001b[22m\n",
      "\u001b[34m\u001b[22mCollecting pandas\n",
      "  Using cached https://files.pythonhosted.org/packages/6b/dc/3a88b7bf8437f3f052fc90de72f28c06248142821a7f108e10ff3be5eb59/pandas-0.23.4-cp37-cp37m-macosx_10_6_intel.macosx_10_9_intel.macosx_10_9_x86_64.macosx_10_10_intel.macosx_10_10_x86_64.whl\n",
      "Requirement already satisfied: numpy>=1.9.0 in /Users/patrick/Envs/ll-experiments-nmT30x9u/lib/python3.7/site-packages (from pandas) (1.15.1)\n",
      "Requirement already satisfied: python-dateutil>=2.5.0 in /Users/patrick/Envs/ll-experiments-nmT30x9u/lib/python3.7/site-packages (from pandas) (2.7.3)\n",
      "Collecting pytz>=2011k (from pandas)\n",
      "  Using cached https://files.pythonhosted.org/packages/30/4e/27c34b62430286c6d59177a0842ed90dc789ce5d1ed740887653b898779a/pytz-2018.5-py2.py3-none-any.whl\n",
      "Requirement already satisfied: six>=1.5 in /Users/patrick/Envs/ll-experiments-nmT30x9u/lib/python3.7/site-packages (from python-dateutil>=2.5.0->pandas) (1.11.0)\n",
      "Installing collected packages: pytz, pandas\n",
      "Successfully installed pandas-0.23.4 pytz-2018.5\n",
      "\u001b[39m\u001b[22m\n",
      "\u001b[39m\u001b[1mAdding\u001b[39m\u001b[22m \u001b[32m\u001b[1mpandas\u001b[39m\u001b[22m \u001b[39m\u001b[1mto Pipfile's\u001b[39m\u001b[22m \u001b[31m\u001b[1m[packages]\u001b[39m\u001b[22m\u001b[39m\u001b[1m...\u001b[39m\u001b[22m\n",
      "\u001b[39m\u001b[1mInstalling \u001b[32m\u001b[1mscikit-learn\u001b[39m\u001b[22m...\u001b[39m\u001b[22m\n",
      "\u001b[34m\u001b[22mCollecting scikit-learn\n",
      "  Using cached https://files.pythonhosted.org/packages/77/4e/397996d781c98198863478c832f66e8312e6911d8c2de06959f767f26039/scikit_learn-0.19.2-cp37-cp37m-macosx_10_6_intel.macosx_10_9_intel.macosx_10_9_x86_64.macosx_10_10_intel.macosx_10_10_x86_64.whl\n",
      "Installing collected packages: scikit-learn\n",
      "Successfully installed scikit-learn-0.19.2\n",
      "\u001b[39m\u001b[22m\n",
      "\u001b[39m\u001b[1mAdding\u001b[39m\u001b[22m \u001b[32m\u001b[1mscikit-learn\u001b[39m\u001b[22m \u001b[39m\u001b[1mto Pipfile's\u001b[39m\u001b[22m \u001b[31m\u001b[1m[packages]\u001b[39m\u001b[22m\u001b[39m\u001b[1m...\u001b[39m\u001b[22m\n",
      "\u001b[39m\u001b[1mInstalling \u001b[32m\u001b[1mscipy\u001b[39m\u001b[22m...\u001b[39m\u001b[22m\n",
      "\u001b[34m\u001b[22mCollecting scipy\n",
      "  Using cached https://files.pythonhosted.org/packages/4c/4a/440cc9703938bbc86636ff6b9e17810f3d0f06e9b41891c5433dc4cd9091/scipy-1.1.0-cp37-cp37m-macosx_10_6_intel.macosx_10_9_intel.macosx_10_9_x86_64.macosx_10_10_intel.macosx_10_10_x86_64.whl\n",
      "Requirement already satisfied: numpy>=1.8.2 in /Users/patrick/Envs/ll-experiments-nmT30x9u/lib/python3.7/site-packages (from scipy) (1.15.1)\n",
      "Installing collected packages: scipy\n",
      "Successfully installed scipy-1.1.0\n",
      "\u001b[39m\u001b[22m\n",
      "\u001b[39m\u001b[1mAdding\u001b[39m\u001b[22m \u001b[32m\u001b[1mscipy\u001b[39m\u001b[22m \u001b[39m\u001b[1mto Pipfile's\u001b[39m\u001b[22m \u001b[31m\u001b[1m[packages]\u001b[39m\u001b[22m\u001b[39m\u001b[1m...\u001b[39m\u001b[22m\n",
      "\u001b[31m\u001b[1mPipfile.lock (ca429a) out of date, updating to (a7326a)...\u001b[39m\u001b[22m\n",
      "\u001b[39m\u001b[22mLocking\u001b[39m\u001b[22m \u001b[31m\u001b[22m[dev-packages]\u001b[39m\u001b[22m \u001b[39m\u001b[22mdependencies...\u001b[39m\u001b[22m\n",
      "\u001b[39m\u001b[22mLocking\u001b[39m\u001b[22m \u001b[31m\u001b[22m[packages]\u001b[39m\u001b[22m \u001b[39m\u001b[22mdependencies...\u001b[39m\u001b[22m\n",
      "\u001b[39m\u001b[1mUpdated Pipfile.lock (a7326a)!\u001b[39m\u001b[22m\n",
      "\u001b[39m\u001b[1mInstalling dependencies from Pipfile.lock (a7326a)...\u001b[39m\u001b[22m\n",
      "  🐍   \u001b[32m\u001b[1m▉\u001b[39m\u001b[22m\u001b[32m\u001b[1m▉\u001b[39m\u001b[22m\u001b[32m\u001b[1m▉\u001b[39m\u001b[22m\u001b[32m\u001b[1m▉\u001b[39m\u001b[22m\u001b[32m\u001b[1m▉\u001b[39m\u001b[22m\u001b[32m\u001b[1m▉\u001b[39m\u001b[22m\u001b[32m\u001b[1m▉\u001b[39m\u001b[22m\u001b[32m\u001b[1m▉\u001b[39m\u001b[22m\u001b[32m\u001b[1m▉\u001b[39m\u001b[22m\u001b[32m\u001b[1m▉\u001b[39m\u001b[22m\u001b[32m\u001b[1m▉\u001b[39m\u001b[22m\u001b[32m\u001b[1m▉\u001b[39m\u001b[22m\u001b[32m\u001b[1m▉\u001b[39m\u001b[22m\u001b[32m\u001b[1m▉\u001b[39m\u001b[22m\u001b[32m\u001b[1m▉\u001b[39m\u001b[22m\u001b[32m\u001b[1m▉\u001b[39m\u001b[22m\u001b[32m\u001b[1m▉\u001b[39m\u001b[22m\u001b[32m\u001b[1m▉\u001b[39m\u001b[22m\u001b[32m\u001b[1m▉\u001b[39m\u001b[22m\u001b[32m\u001b[1m▉\u001b[39m\u001b[22m\u001b[32m\u001b[1m▉\u001b[39m\u001b[22m\u001b[32m\u001b[1m▉\u001b[39m\u001b[22m\u001b[32m\u001b[1m▉\u001b[39m\u001b[22m\u001b[32m\u001b[1m▉\u001b[39m\u001b[22m\u001b[32m\u001b[1m▉\u001b[39m\u001b[22m\u001b[32m\u001b[1m▉\u001b[39m\u001b[22m\u001b[32m\u001b[1m▉\u001b[39m\u001b[22m\u001b[32m\u001b[1m▉\u001b[39m\u001b[22m\u001b[32m\u001b[1m▉\u001b[39m\u001b[22m\u001b[32m\u001b[1m▉\u001b[39m\u001b[22m\u001b[32m\u001b[1m▉\u001b[39m\u001b[22m\u001b[32m\u001b[1m▉\u001b[39m\u001b[22m 59/59 — \u001b[30m\u001b[22m00:00:16\u001b[39m\u001b[22mmmmmmmmmmmmmmmmmmmmmmmmmmmmmmmm\n"
     ]
    }
   ],
   "source": [
    "!pipenv install numpy pandas scikit-learn scipy"
   ]
  },
  {
   "cell_type": "code",
   "execution_count": 88,
   "metadata": {},
   "outputs": [],
   "source": [
    "# Import modules\n",
    "\n",
    "import numpy as np\n",
    "import pandas as pd\n",
    "import sklearn.feature_extraction.text as text\n",
    "\n",
    "# Create an instance of a count vectorizer\n",
    "vectorizer = text.CountVectorizer(input='content', max_features=100)"
   ]
  },
  {
   "cell_type": "code",
   "execution_count": 89,
   "metadata": {},
   "outputs": [
    {
     "name": "stdout",
     "output_type": "stream",
     "text": [
      "['amor' 'labor' 'omnia' 'vincit']\n",
      "\n",
      "\n"
     ]
    },
    {
     "data": {
      "text/html": [
       "<div>\n",
       "<style scoped>\n",
       "    .dataframe tbody tr th:only-of-type {\n",
       "        vertical-align: middle;\n",
       "    }\n",
       "\n",
       "    .dataframe tbody tr th {\n",
       "        vertical-align: top;\n",
       "    }\n",
       "\n",
       "    .dataframe thead th {\n",
       "        text-align: right;\n",
       "    }\n",
       "</style>\n",
       "<table border=\"1\" class=\"dataframe\">\n",
       "  <thead>\n",
       "    <tr style=\"text-align: right;\">\n",
       "      <th></th>\n",
       "      <th>amor</th>\n",
       "      <th>labor</th>\n",
       "      <th>omnia</th>\n",
       "      <th>vincit</th>\n",
       "    </tr>\n",
       "  </thead>\n",
       "  <tbody>\n",
       "    <tr>\n",
       "      <th>0</th>\n",
       "      <td>1</td>\n",
       "      <td>0</td>\n",
       "      <td>1</td>\n",
       "      <td>1</td>\n",
       "    </tr>\n",
       "    <tr>\n",
       "      <th>1</th>\n",
       "      <td>0</td>\n",
       "      <td>1</td>\n",
       "      <td>1</td>\n",
       "      <td>1</td>\n",
       "    </tr>\n",
       "  </tbody>\n",
       "</table>\n",
       "</div>"
      ],
      "text/plain": [
       "   amor  labor  omnia  vincit\n",
       "0     1      0      1       1\n",
       "1     0      1      1       1"
      ]
     },
     "execution_count": 89,
     "metadata": {},
     "output_type": "execute_result"
    }
   ],
   "source": [
    "# Create a document-term matrix, i.e. reduce our texts to an array where\n",
    "# - the horizontal axis is a list of words\n",
    "# - the vertical axis is a list of documents\n",
    "# - the intersection of the two axes is the count of the word in the document\n",
    "\n",
    "# Take two sentences:\n",
    "# - Omnia vincit amor.\n",
    "# - Omnia vincit labor.\n",
    "\n",
    "# Reduce the setences to document-term matrix\n",
    "dtm = vectorizer.fit_transform(['Omnia vincit amor.', 'Omnia vincit labor.'])\n",
    "dtm = dtm.toarray()\n",
    "vocab = np.array(vectorizer.get_feature_names())\n",
    "\n",
    "# Print the complete list of words from both sentences\n",
    "print(vocab)\n",
    "print('\\n')\n",
    "\n",
    "# Print a table with the dtm\n",
    "pd.DataFrame(dtm, columns=vocab)\n"
   ]
  },
  {
   "cell_type": "code",
   "execution_count": 90,
   "metadata": {},
   "outputs": [
    {
     "name": "stdout",
     "output_type": "stream",
     "text": [
      "['ab' 'ad' 'aequor' 'arma' 'atque' 'aut' 'bellum' 'cado' 'caelum' 'caesar'\n",
      " 'campus' 'castrum' 'ciuilis' 'cum' 'cunctus' 'deus' 'dies' 'do' 'dum'\n",
      " 'dux' 'ego' 'et' 'facio' 'fatum' 'fero' 'ferrum' 'fortuna' 'gens' 'habeo'\n",
      " 'hic' 'hostis' 'iam' 'ille' 'in' 'ipse' 'labor' 'litus' 'longus' 'magnus'\n",
      " 'manus' 'medius' 'miles' 'misceo' 'mors' 'multus' 'mundus' 'ne' 'neque'\n",
      " 'non' 'noster' 'nox' 'nullus' 'omnis' 'orbis' 'os' 'pars' 'patior'\n",
      " 'pectus' 'per' 'pereo' 'peto' 'populus' 'possum' 'premo' 'primus' 'quam'\n",
      " 'que' 'qui' 'quis' 'quo' 'rapio' 'regnum' 'sanguis' 'scelus' 'sed' 'si'\n",
      " 'sic' 'signum' 'solus' 'sto' 'sub' 'sui' 'sum' 'suus' 'tantus' 'tellus'\n",
      " 'teneo' 'terra' 'timeo' 'tot' 'totus' 'tu' 'tum' 'tuus' 'uenio' 'uideo'\n",
      " 'unda' 'unus' 'urbs' 'ut']\n",
      "\n",
      "\n"
     ]
    },
    {
     "data": {
      "text/html": [
       "<div>\n",
       "<style scoped>\n",
       "    .dataframe tbody tr th:only-of-type {\n",
       "        vertical-align: middle;\n",
       "    }\n",
       "\n",
       "    .dataframe tbody tr th {\n",
       "        vertical-align: top;\n",
       "    }\n",
       "\n",
       "    .dataframe thead th {\n",
       "        text-align: right;\n",
       "    }\n",
       "</style>\n",
       "<table border=\"1\" class=\"dataframe\">\n",
       "  <thead>\n",
       "    <tr style=\"text-align: right;\">\n",
       "      <th></th>\n",
       "      <th>ab</th>\n",
       "      <th>ad</th>\n",
       "      <th>aequor</th>\n",
       "      <th>arma</th>\n",
       "      <th>atque</th>\n",
       "      <th>aut</th>\n",
       "      <th>bellum</th>\n",
       "      <th>cado</th>\n",
       "      <th>caelum</th>\n",
       "      <th>caesar</th>\n",
       "      <th>...</th>\n",
       "      <th>totus</th>\n",
       "      <th>tu</th>\n",
       "      <th>tum</th>\n",
       "      <th>tuus</th>\n",
       "      <th>uenio</th>\n",
       "      <th>uideo</th>\n",
       "      <th>unda</th>\n",
       "      <th>unus</th>\n",
       "      <th>urbs</th>\n",
       "      <th>ut</th>\n",
       "    </tr>\n",
       "  </thead>\n",
       "  <tbody>\n",
       "    <tr>\n",
       "      <th>0</th>\n",
       "      <td>12</td>\n",
       "      <td>13</td>\n",
       "      <td>4</td>\n",
       "      <td>15</td>\n",
       "      <td>8</td>\n",
       "      <td>12</td>\n",
       "      <td>36</td>\n",
       "      <td>5</td>\n",
       "      <td>11</td>\n",
       "      <td>16</td>\n",
       "      <td>...</td>\n",
       "      <td>15</td>\n",
       "      <td>40</td>\n",
       "      <td>17</td>\n",
       "      <td>12</td>\n",
       "      <td>7</td>\n",
       "      <td>16</td>\n",
       "      <td>14</td>\n",
       "      <td>4</td>\n",
       "      <td>20</td>\n",
       "      <td>14</td>\n",
       "    </tr>\n",
       "    <tr>\n",
       "      <th>1</th>\n",
       "      <td>18</td>\n",
       "      <td>14</td>\n",
       "      <td>2</td>\n",
       "      <td>9</td>\n",
       "      <td>9</td>\n",
       "      <td>1</td>\n",
       "      <td>16</td>\n",
       "      <td>4</td>\n",
       "      <td>4</td>\n",
       "      <td>31</td>\n",
       "      <td>...</td>\n",
       "      <td>10</td>\n",
       "      <td>28</td>\n",
       "      <td>3</td>\n",
       "      <td>18</td>\n",
       "      <td>6</td>\n",
       "      <td>6</td>\n",
       "      <td>11</td>\n",
       "      <td>10</td>\n",
       "      <td>7</td>\n",
       "      <td>15</td>\n",
       "    </tr>\n",
       "    <tr>\n",
       "      <th>2</th>\n",
       "      <td>12</td>\n",
       "      <td>17</td>\n",
       "      <td>24</td>\n",
       "      <td>14</td>\n",
       "      <td>5</td>\n",
       "      <td>5</td>\n",
       "      <td>40</td>\n",
       "      <td>9</td>\n",
       "      <td>3</td>\n",
       "      <td>19</td>\n",
       "      <td>...</td>\n",
       "      <td>16</td>\n",
       "      <td>26</td>\n",
       "      <td>6</td>\n",
       "      <td>7</td>\n",
       "      <td>6</td>\n",
       "      <td>9</td>\n",
       "      <td>20</td>\n",
       "      <td>7</td>\n",
       "      <td>16</td>\n",
       "      <td>21</td>\n",
       "    </tr>\n",
       "    <tr>\n",
       "      <th>3</th>\n",
       "      <td>20</td>\n",
       "      <td>18</td>\n",
       "      <td>21</td>\n",
       "      <td>19</td>\n",
       "      <td>3</td>\n",
       "      <td>7</td>\n",
       "      <td>34</td>\n",
       "      <td>17</td>\n",
       "      <td>2</td>\n",
       "      <td>16</td>\n",
       "      <td>...</td>\n",
       "      <td>12</td>\n",
       "      <td>14</td>\n",
       "      <td>13</td>\n",
       "      <td>5</td>\n",
       "      <td>6</td>\n",
       "      <td>12</td>\n",
       "      <td>18</td>\n",
       "      <td>12</td>\n",
       "      <td>17</td>\n",
       "      <td>26</td>\n",
       "    </tr>\n",
       "    <tr>\n",
       "      <th>4</th>\n",
       "      <td>16</td>\n",
       "      <td>18</td>\n",
       "      <td>11</td>\n",
       "      <td>16</td>\n",
       "      <td>16</td>\n",
       "      <td>10</td>\n",
       "      <td>36</td>\n",
       "      <td>14</td>\n",
       "      <td>7</td>\n",
       "      <td>21</td>\n",
       "      <td>...</td>\n",
       "      <td>9</td>\n",
       "      <td>20</td>\n",
       "      <td>12</td>\n",
       "      <td>5</td>\n",
       "      <td>7</td>\n",
       "      <td>14</td>\n",
       "      <td>14</td>\n",
       "      <td>6</td>\n",
       "      <td>4</td>\n",
       "      <td>26</td>\n",
       "    </tr>\n",
       "    <tr>\n",
       "      <th>5</th>\n",
       "      <td>20</td>\n",
       "      <td>22</td>\n",
       "      <td>20</td>\n",
       "      <td>17</td>\n",
       "      <td>18</td>\n",
       "      <td>7</td>\n",
       "      <td>34</td>\n",
       "      <td>8</td>\n",
       "      <td>13</td>\n",
       "      <td>29</td>\n",
       "      <td>...</td>\n",
       "      <td>15</td>\n",
       "      <td>47</td>\n",
       "      <td>15</td>\n",
       "      <td>10</td>\n",
       "      <td>11</td>\n",
       "      <td>15</td>\n",
       "      <td>28</td>\n",
       "      <td>7</td>\n",
       "      <td>5</td>\n",
       "      <td>11</td>\n",
       "    </tr>\n",
       "    <tr>\n",
       "      <th>6</th>\n",
       "      <td>17</td>\n",
       "      <td>17</td>\n",
       "      <td>4</td>\n",
       "      <td>21</td>\n",
       "      <td>22</td>\n",
       "      <td>15</td>\n",
       "      <td>20</td>\n",
       "      <td>5</td>\n",
       "      <td>10</td>\n",
       "      <td>23</td>\n",
       "      <td>...</td>\n",
       "      <td>13</td>\n",
       "      <td>39</td>\n",
       "      <td>7</td>\n",
       "      <td>6</td>\n",
       "      <td>10</td>\n",
       "      <td>13</td>\n",
       "      <td>15</td>\n",
       "      <td>9</td>\n",
       "      <td>2</td>\n",
       "      <td>18</td>\n",
       "    </tr>\n",
       "    <tr>\n",
       "      <th>7</th>\n",
       "      <td>20</td>\n",
       "      <td>13</td>\n",
       "      <td>3</td>\n",
       "      <td>25</td>\n",
       "      <td>25</td>\n",
       "      <td>24</td>\n",
       "      <td>53</td>\n",
       "      <td>8</td>\n",
       "      <td>10</td>\n",
       "      <td>30</td>\n",
       "      <td>...</td>\n",
       "      <td>28</td>\n",
       "      <td>53</td>\n",
       "      <td>3</td>\n",
       "      <td>16</td>\n",
       "      <td>9</td>\n",
       "      <td>25</td>\n",
       "      <td>3</td>\n",
       "      <td>9</td>\n",
       "      <td>12</td>\n",
       "      <td>24</td>\n",
       "    </tr>\n",
       "    <tr>\n",
       "      <th>8</th>\n",
       "      <td>20</td>\n",
       "      <td>13</td>\n",
       "      <td>3</td>\n",
       "      <td>25</td>\n",
       "      <td>25</td>\n",
       "      <td>24</td>\n",
       "      <td>53</td>\n",
       "      <td>8</td>\n",
       "      <td>10</td>\n",
       "      <td>30</td>\n",
       "      <td>...</td>\n",
       "      <td>28</td>\n",
       "      <td>53</td>\n",
       "      <td>3</td>\n",
       "      <td>16</td>\n",
       "      <td>9</td>\n",
       "      <td>25</td>\n",
       "      <td>3</td>\n",
       "      <td>9</td>\n",
       "      <td>12</td>\n",
       "      <td>24</td>\n",
       "    </tr>\n",
       "    <tr>\n",
       "      <th>9</th>\n",
       "      <td>29</td>\n",
       "      <td>19</td>\n",
       "      <td>15</td>\n",
       "      <td>18</td>\n",
       "      <td>26</td>\n",
       "      <td>16</td>\n",
       "      <td>23</td>\n",
       "      <td>9</td>\n",
       "      <td>17</td>\n",
       "      <td>16</td>\n",
       "      <td>...</td>\n",
       "      <td>22</td>\n",
       "      <td>48</td>\n",
       "      <td>7</td>\n",
       "      <td>15</td>\n",
       "      <td>11</td>\n",
       "      <td>24</td>\n",
       "      <td>20</td>\n",
       "      <td>14</td>\n",
       "      <td>4</td>\n",
       "      <td>23</td>\n",
       "    </tr>\n",
       "  </tbody>\n",
       "</table>\n",
       "<p>10 rows × 100 columns</p>\n",
       "</div>"
      ],
      "text/plain": [
       "   ab  ad  aequor  arma  atque  aut  bellum  cado  caelum  caesar ...  totus  \\\n",
       "0  12  13       4    15      8   12      36     5      11      16 ...     15   \n",
       "1  18  14       2     9      9    1      16     4       4      31 ...     10   \n",
       "2  12  17      24    14      5    5      40     9       3      19 ...     16   \n",
       "3  20  18      21    19      3    7      34    17       2      16 ...     12   \n",
       "4  16  18      11    16     16   10      36    14       7      21 ...      9   \n",
       "5  20  22      20    17     18    7      34     8      13      29 ...     15   \n",
       "6  17  17       4    21     22   15      20     5      10      23 ...     13   \n",
       "7  20  13       3    25     25   24      53     8      10      30 ...     28   \n",
       "8  20  13       3    25     25   24      53     8      10      30 ...     28   \n",
       "9  29  19      15    18     26   16      23     9      17      16 ...     22   \n",
       "\n",
       "   tu  tum  tuus  uenio  uideo  unda  unus  urbs  ut  \n",
       "0  40   17    12      7     16    14     4    20  14  \n",
       "1  28    3    18      6      6    11    10     7  15  \n",
       "2  26    6     7      6      9    20     7    16  21  \n",
       "3  14   13     5      6     12    18    12    17  26  \n",
       "4  20   12     5      7     14    14     6     4  26  \n",
       "5  47   15    10     11     15    28     7     5  11  \n",
       "6  39    7     6     10     13    15     9     2  18  \n",
       "7  53    3    16      9     25     3     9    12  24  \n",
       "8  53    3    16      9     25     3     9    12  24  \n",
       "9  48    7    15     11     24    20    14     4  23  \n",
       "\n",
       "[10 rows x 100 columns]"
      ]
     },
     "execution_count": 90,
     "metadata": {},
     "output_type": "execute_result"
    }
   ],
   "source": [
    "# Obviously for a complete work, the matrix is much larger (and more\n",
    "# sparse, i.e. lots of zeroes).\n",
    "\n",
    "dtm = vectorizer.fit_transform(lucan_lemmatized_texts)\n",
    "dtm = dtm.toarray()\n",
    "vocab = np.array(vectorizer.get_feature_names())\n",
    "\n",
    "# Print the complete list of words from both sentences\n",
    "print(vocab)\n",
    "print('\\n')\n",
    "\n",
    "# Print a table with the dtm\n",
    "pd.DataFrame(dtm, columns=vocab)\n"
   ]
  },
  {
   "cell_type": "markdown",
   "metadata": {},
   "source": [
    "## Plotting vector space"
   ]
  },
  {
   "cell_type": "code",
   "execution_count": 91,
   "metadata": {},
   "outputs": [],
   "source": [
    "# Imports\n",
    "\n",
    "import matplotlib.pyplot as plt\n",
    "from sklearn.manifold import MDS\n",
    "from sklearn.metrics.pairwise import cosine_similarity"
   ]
  },
  {
   "cell_type": "code",
   "execution_count": 92,
   "metadata": {},
   "outputs": [],
   "source": [
    "# Compute Euclidean distance across the document-term matrix\n",
    "dist = 1 - cosine_similarity(dtm)\n",
    "\n",
    "# Reduce dimensionality\n",
    "mds = MDS(n_components=2, dissimilarity='precomputed', random_state=1)\n",
    "\n",
    "# Get coordinates\n",
    "pos = mds.fit_transform(dist)\n",
    "xs, ys = pos[:,0], pos[:,1]"
   ]
  },
  {
   "cell_type": "code",
   "execution_count": 93,
   "metadata": {},
   "outputs": [
    {
     "data": {
      "image/png": "[encoded data removed]",
      "text/plain": [
       "<Figure size 720x720 with 1 Axes>"
      ]
     },
     "metadata": {
      "needs_background": "light"
     },
     "output_type": "display_data"
    }
   ],
   "source": [
    "# Create scatterplot\n",
    "\n",
    "plt.figure(figsize=(10,10))\n",
    "plt.title('Euclidean Distance for Vocabulary in Lucan')\n",
    "plt.scatter(xs, ys, cmap='spring')\n",
    "for x, y, name in zip(xs, ys, lucan_titles):\n",
    "    plt.text(x,y,name,alpha=0.5,fontsize=10)\n",
    "plt.show()"
   ]
  },
  {
   "cell_type": "code",
   "execution_count": 94,
   "metadata": {},
   "outputs": [
    {
     "data": {
      "image/png": "[encoded data removed]",
      "text/plain": [
       "<Figure size 720x720 with 1 Axes>"
      ]
     },
     "metadata": {
      "needs_background": "light"
     },
     "output_type": "display_data"
    }
   ],
   "source": [
    "# We can view these distance measures as a branching tree as well\n",
    "\n",
    "from scipy.cluster.hierarchy import ward, dendrogram\n",
    "linkage_matrix = ward(dist)\n",
    "\n",
    "plt.figure(figsize=(10,10))\n",
    "plt.title('\"Dendrogram\" Distance for Vocabulary in Lucan 1')\n",
    "dendrogram(linkage_matrix, orientation=\"left\", labels=lucan_titles, leaf_font_size=12);\n",
    "plt.show()"
   ]
  },
  {
   "cell_type": "markdown",
   "metadata": {},
   "source": [
    "## Visualizing topics"
   ]
  },
  {
   "cell_type": "code",
   "execution_count": 95,
   "metadata": {},
   "outputs": [],
   "source": [
    "# Get Latin stopword list\n",
    "\n",
    "from cltk.stop.latin.stops import STOPS_LIST as latin_stops"
   ]
  },
  {
   "cell_type": "code",
   "execution_count": 96,
   "metadata": {},
   "outputs": [
    {
     "name": "stdout",
     "output_type": "stream",
     "text": [
      "['ab', 'ac', 'ad', 'adhic', 'aliqui', 'aliquis', 'an', 'ante', 'apud', 'at', 'atque', 'aut', 'autem', 'cum', 'cur', 'de', 'deinde', 'dum', 'ego', 'enim', 'ergo', 'es', 'est', 'et', 'etiam', 'etsi', 'ex', 'fio', 'haud', 'hic', 'iam', 'idem', 'igitur', 'ille', 'in', 'infra', 'inter', 'interim', 'ipse', 'is', 'ita', 'magis', 'modo', 'mox', 'nam', 'ne', 'nec', 'necque', 'neque', 'nisi', 'non', 'nos', 'o', 'ob', 'per', 'possum', 'post', 'pro', 'quae', 'quam', 'quare', 'qui', 'quia', 'quicumque', 'quidem', 'quilibet', 'quis', 'quisnam', 'quisquam', 'quisque', 'quisquis', 'quo', 'quoniam', 'sed', 'si', 'sic', 'sive', 'sub', 'sui', 'sum', 'super', 'suus', 'tam', 'tamen', 'trans', 'tu', 'tum', 'ubi', 'uel', 'uero', 'unus', 'que']\n"
     ]
    }
   ],
   "source": [
    "latin_stops = latin_stops[:91]\n",
    "latin_stops.extend(['que'])\n",
    "print(latin_stops)"
   ]
  },
  {
   "cell_type": "code",
   "execution_count": 112,
   "metadata": {},
   "outputs": [
    {
     "data": {
      "text/plain": [
       "(10, 2952)"
      ]
     },
     "execution_count": 112,
     "metadata": {},
     "output_type": "execute_result"
    }
   ],
   "source": [
    "import sklearn.feature_extraction.text as text\n",
    "vectorizer = text.CountVectorizer(input='content', stop_words=latin_stops, min_df=2) # Note cutoff of two words\n",
    "dtm = vectorizer.fit_transform(lucan_lemmatized_texts).toarray()\n",
    "vocab = np.array(vectorizer.get_feature_names())\n",
    "\n",
    "dtm.shape"
   ]
  },
  {
   "cell_type": "code",
   "execution_count": 113,
   "metadata": {},
   "outputs": [],
   "source": [
    "from sklearn import decomposition\n",
    "num_topics = 10\n",
    "num_top_words = 25\n",
    "clf = decomposition.NMF(n_components=num_topics, random_state=1) # Using non-negative matrix factorization\n",
    "\n",
    "# For more on NMF, see https://de.dariah.eu/tatom/topic_model_python.html\n",
    "\n",
    "doctopic = clf.fit_transform(dtm)"
   ]
  },
  {
   "cell_type": "code",
   "execution_count": 114,
   "metadata": {},
   "outputs": [],
   "source": [
    "# Create list of words per \"topic\" (i.e. classifier component)\n",
    "\n",
    "topic_words = []\n",
    "\n",
    "for topic in clf.components_:\n",
    "    word_idx = np.argsort(topic)[::-1][0:num_top_words]\n",
    "    topic_words.append([vocab[i] for i in word_idx])\n"
   ]
  },
  {
   "cell_type": "code",
   "execution_count": 115,
   "metadata": {},
   "outputs": [],
   "source": [
    "# Scale the document-component matrix such that the component values\n",
    "# associated with each document sum to one.\n",
    "\n",
    "doctopic = doctopic / np.sum(doctopic, axis=1, keepdims=True)"
   ]
  },
  {
   "cell_type": "code",
   "execution_count": 116,
   "metadata": {},
   "outputs": [],
   "source": [
    "names = np.asarray(lucan_titles)\n",
    "doctopic_orig = doctopic.copy()\n",
    "\n",
    "# Create empty matrix\n",
    "num_groups = len(set(names))\n",
    "doctopic_grouped = np.zeros((num_groups, num_topics))\n"
   ]
  },
  {
   "cell_type": "code",
   "execution_count": 117,
   "metadata": {},
   "outputs": [],
   "source": [
    "# Populate matrix \n",
    "\n",
    "for i, name in enumerate(sorted(set(names))):\n",
    "    doctopic_grouped[i, :] = np.mean(doctopic[names == name, :], axis=0)\n",
    "\n",
    "doctopic = doctopic_grouped"
   ]
  },
  {
   "cell_type": "code",
   "execution_count": 118,
   "metadata": {},
   "outputs": [
    {
     "data": {
      "text/html": [
       "<div>\n",
       "<style scoped>\n",
       "    .dataframe tbody tr th:only-of-type {\n",
       "        vertical-align: middle;\n",
       "    }\n",
       "\n",
       "    .dataframe tbody tr th {\n",
       "        vertical-align: top;\n",
       "    }\n",
       "\n",
       "    .dataframe thead th {\n",
       "        text-align: right;\n",
       "    }\n",
       "</style>\n",
       "<table border=\"1\" class=\"dataframe\">\n",
       "  <thead>\n",
       "    <tr style=\"text-align: right;\">\n",
       "      <th></th>\n",
       "      <th>0</th>\n",
       "      <th>1</th>\n",
       "      <th>2</th>\n",
       "      <th>3</th>\n",
       "      <th>4</th>\n",
       "      <th>5</th>\n",
       "      <th>6</th>\n",
       "      <th>7</th>\n",
       "      <th>8</th>\n",
       "      <th>9</th>\n",
       "    </tr>\n",
       "  </thead>\n",
       "  <tbody>\n",
       "    <tr>\n",
       "      <th>Luc. 1</th>\n",
       "      <td>0.0</td>\n",
       "      <td>0.0</td>\n",
       "      <td>0.0</td>\n",
       "      <td>0.0</td>\n",
       "      <td>0.0</td>\n",
       "      <td>1.0</td>\n",
       "      <td>0.0</td>\n",
       "      <td>0.0</td>\n",
       "      <td>0.0</td>\n",
       "      <td>0.0</td>\n",
       "    </tr>\n",
       "    <tr>\n",
       "      <th>Luc. 10</th>\n",
       "      <td>0.0</td>\n",
       "      <td>0.0</td>\n",
       "      <td>0.0</td>\n",
       "      <td>0.0</td>\n",
       "      <td>0.0</td>\n",
       "      <td>0.0</td>\n",
       "      <td>0.0</td>\n",
       "      <td>1.0</td>\n",
       "      <td>0.0</td>\n",
       "      <td>0.0</td>\n",
       "    </tr>\n",
       "    <tr>\n",
       "      <th>Luc. 2</th>\n",
       "      <td>0.0</td>\n",
       "      <td>0.0</td>\n",
       "      <td>0.0</td>\n",
       "      <td>0.0</td>\n",
       "      <td>0.0</td>\n",
       "      <td>0.0</td>\n",
       "      <td>0.0</td>\n",
       "      <td>0.0</td>\n",
       "      <td>1.0</td>\n",
       "      <td>0.0</td>\n",
       "    </tr>\n",
       "    <tr>\n",
       "      <th>Luc. 3</th>\n",
       "      <td>0.0</td>\n",
       "      <td>0.0</td>\n",
       "      <td>0.0</td>\n",
       "      <td>0.0</td>\n",
       "      <td>0.0</td>\n",
       "      <td>0.0</td>\n",
       "      <td>1.0</td>\n",
       "      <td>0.0</td>\n",
       "      <td>0.0</td>\n",
       "      <td>0.0</td>\n",
       "    </tr>\n",
       "    <tr>\n",
       "      <th>Luc. 4</th>\n",
       "      <td>1.0</td>\n",
       "      <td>0.0</td>\n",
       "      <td>0.0</td>\n",
       "      <td>0.0</td>\n",
       "      <td>0.0</td>\n",
       "      <td>0.0</td>\n",
       "      <td>0.0</td>\n",
       "      <td>0.0</td>\n",
       "      <td>0.0</td>\n",
       "      <td>0.0</td>\n",
       "    </tr>\n",
       "    <tr>\n",
       "      <th>Luc. 5</th>\n",
       "      <td>0.0</td>\n",
       "      <td>0.0</td>\n",
       "      <td>0.0</td>\n",
       "      <td>0.0</td>\n",
       "      <td>1.0</td>\n",
       "      <td>0.0</td>\n",
       "      <td>0.0</td>\n",
       "      <td>0.0</td>\n",
       "      <td>0.0</td>\n",
       "      <td>0.0</td>\n",
       "    </tr>\n",
       "    <tr>\n",
       "      <th>Luc. 6</th>\n",
       "      <td>0.0</td>\n",
       "      <td>0.0</td>\n",
       "      <td>0.0</td>\n",
       "      <td>1.0</td>\n",
       "      <td>0.0</td>\n",
       "      <td>0.0</td>\n",
       "      <td>0.0</td>\n",
       "      <td>0.0</td>\n",
       "      <td>0.0</td>\n",
       "      <td>0.0</td>\n",
       "    </tr>\n",
       "    <tr>\n",
       "      <th>Luc. 7</th>\n",
       "      <td>0.0</td>\n",
       "      <td>1.0</td>\n",
       "      <td>0.0</td>\n",
       "      <td>0.0</td>\n",
       "      <td>0.0</td>\n",
       "      <td>0.0</td>\n",
       "      <td>0.0</td>\n",
       "      <td>0.0</td>\n",
       "      <td>0.0</td>\n",
       "      <td>0.0</td>\n",
       "    </tr>\n",
       "    <tr>\n",
       "      <th>Luc. 8</th>\n",
       "      <td>0.0</td>\n",
       "      <td>1.0</td>\n",
       "      <td>0.0</td>\n",
       "      <td>0.0</td>\n",
       "      <td>0.0</td>\n",
       "      <td>0.0</td>\n",
       "      <td>0.0</td>\n",
       "      <td>0.0</td>\n",
       "      <td>0.0</td>\n",
       "      <td>0.0</td>\n",
       "    </tr>\n",
       "    <tr>\n",
       "      <th>Luc. 9</th>\n",
       "      <td>0.0</td>\n",
       "      <td>0.0</td>\n",
       "      <td>1.0</td>\n",
       "      <td>0.0</td>\n",
       "      <td>0.0</td>\n",
       "      <td>0.0</td>\n",
       "      <td>0.0</td>\n",
       "      <td>0.0</td>\n",
       "      <td>0.0</td>\n",
       "      <td>0.0</td>\n",
       "    </tr>\n",
       "  </tbody>\n",
       "</table>\n",
       "</div>"
      ],
      "text/plain": [
       "           0    1    2    3    4    5    6    7    8    9\n",
       "Luc. 1   0.0  0.0  0.0  0.0  0.0  1.0  0.0  0.0  0.0  0.0\n",
       "Luc. 10  0.0  0.0  0.0  0.0  0.0  0.0  0.0  1.0  0.0  0.0\n",
       "Luc. 2   0.0  0.0  0.0  0.0  0.0  0.0  0.0  0.0  1.0  0.0\n",
       "Luc. 3   0.0  0.0  0.0  0.0  0.0  0.0  1.0  0.0  0.0  0.0\n",
       "Luc. 4   1.0  0.0  0.0  0.0  0.0  0.0  0.0  0.0  0.0  0.0\n",
       "Luc. 5   0.0  0.0  0.0  0.0  1.0  0.0  0.0  0.0  0.0  0.0\n",
       "Luc. 6   0.0  0.0  0.0  1.0  0.0  0.0  0.0  0.0  0.0  0.0\n",
       "Luc. 7   0.0  1.0  0.0  0.0  0.0  0.0  0.0  0.0  0.0  0.0\n",
       "Luc. 8   0.0  1.0  0.0  0.0  0.0  0.0  0.0  0.0  0.0  0.0\n",
       "Luc. 9   0.0  0.0  1.0  0.0  0.0  0.0  0.0  0.0  0.0  0.0"
      ]
     },
     "execution_count": 118,
     "metadata": {},
     "output_type": "execute_result"
    }
   ],
   "source": [
    "# Make dataframe for clearer display\n",
    "\n",
    "df = pd.DataFrame(data=doctopic, index=lucan_titles).round(2)\n",
    "df"
   ]
  },
  {
   "cell_type": "code",
   "execution_count": 119,
   "metadata": {},
   "outputs": [
    {
     "name": "stdout",
     "output_type": "stream",
     "text": [
      "Top NMF topics in...\n",
      "Luc. 1: 5 4 9\n",
      "Luc. 10: 7 6 9\n",
      "Luc. 2: 8 7 6\n",
      "Luc. 3: 6 5 9\n",
      "Luc. 4: 0 8 9\n",
      "Luc. 5: 4 3 9\n",
      "Luc. 6: 3 2 9\n",
      "Luc. 7: 1 0 9\n",
      "Luc. 8: 1 0 9\n",
      "Luc. 9: 2 1 9\n"
     ]
    }
   ],
   "source": [
    "# Show top three topics per document\n",
    "\n",
    "print(\"Top NMF topics in...\")\n",
    "for i in range(len(doctopic)):\n",
    "    top_topics = np.argsort(doctopic[i,:])[::-1][0:3]\n",
    "    top_topics_str = ' '.join(str(t) for t in top_topics)\n",
    "    print(\"{}: {}\".format(lucan_titles[i], top_topics_str))"
   ]
  },
  {
   "cell_type": "code",
   "execution_count": 120,
   "metadata": {},
   "outputs": [
    {
     "name": "stdout",
     "output_type": "stream",
     "text": [
      "Topic 0: bellum hostis ut primus terra omnis campus castrum fatum dux do caesar fero teneo multus nullus magnus miles tellus mors arma pectus manus cado uideo\n",
      "Topic 1: bellum magnus fatum omnis populus caesar totus do uideo arma fortuna campus ut sanguis nullus romanus fero gens manus multus dies ferrum mundus dux pompeius\n",
      "Topic 2: magnus terra nullus do omnis fatum harena litus mors tantus uideo ut bellum totus os fero unda solus noster facio primus orbis gens cato teneo\n",
      "Topic 3: fatum omnis caesar magnus primus arma mors bellum terra umbra ut deus os do mundus unda tantus carmen hostis medius manus fero corpus uox labor\n",
      "Topic 4: bellum fatum magnus tantus caesar unda deus dux teneo fortuna aequor fero do fluctus mare litus solus terra arma primus omnis pelagus pars manus relinquo\n",
      "Topic 5: bellum magnus populus fero urbs do orbis longus signum uideo terra caesar roma multus totus nullus arma dux gens ut rapio deus unda regnum teneo\n",
      "Topic 6: bellum puppis ut ratis aequor populus teneo magnus robur arma telum unda cado manus multus urbs carina fatum caesar sto medius omnis tantus rapio fero\n",
      "Topic 7: caesar magnus tuus populus mundus do fatum bellum terra ut nilus tantus nox domus eo nullus omnis nilis rex aqua pars dux unda primus sanguis\n",
      "Topic 8: bellum omnis aequor magnus nullus ut dux unda caesar sanguis fatum fero primus urbs totus manus do fortuna teneo sequor peto arma placeo ciuilis solus\n",
      "Topic 9: zona fraudo frondeo frigor frigidus fretus frequens frenum freni fremo fraus fraternus fictum frater frango fragor fragmentum fragilis foveo fossor fossa forum frons fructus frugifer\n"
     ]
    }
   ],
   "source": [
    "# Show words associated with each document\n",
    "\n",
    "for t in range(len(topic_words)):\n",
    "    print(\"Topic {}: {}\".format(t, ' '.join(topic_words[t][:25])))"
   ]
  },
  {
   "cell_type": "code",
   "execution_count": 121,
   "metadata": {},
   "outputs": [
    {
     "data": {
      "image/png": "[encoded data removed]",
      "text/plain": [
       "<Figure size 864x720 with 2 Axes>"
      ]
     },
     "metadata": {
      "needs_background": "light"
     },
     "output_type": "display_data"
    }
   ],
   "source": [
    "# Make heatmap of topics\n",
    "\n",
    "N, K = doctopic.shape  # N documents, K topics\n",
    "topic_labels = ['Topic #{}'.format(k) for k in range(K)]\n",
    "\n",
    "plt.figure(figsize=(12,10))\n",
    "plt.title(\"Heatmap of Topics in Propertius 1 & Tibullus 1\")\n",
    "plt.pcolor(doctopic, norm=None, cmap='Reds')\n",
    "plt.yticks(np.arange(doctopic.shape[0])+0.5, names);\n",
    "plt.xticks(np.arange(doctopic.shape[1])+0.5, topic_labels);\n",
    "plt.gca().invert_yaxis()\n",
    "plt.xticks(rotation=90)\n",
    "plt.colorbar(cmap='Reds')\n",
    "plt.show()"
   ]
  },
  {
   "cell_type": "code",
   "execution_count": 122,
   "metadata": {},
   "outputs": [
    {
     "name": "stdout",
     "output_type": "stream",
     "text": [
      "Topic 0: bellum hostis ut primus terra omnis campus castrum fatum dux do caesar fero teneo multus\n",
      "Topic 1: bellum magnus fatum omnis populus caesar totus do uideo arma fortuna campus ut sanguis nullus\n",
      "Topic 2: magnus terra nullus do omnis fatum harena litus mors tantus uideo ut bellum totus os\n",
      "Topic 3: fatum omnis caesar magnus primus arma mors bellum terra umbra ut deus os do mundus\n",
      "Topic 4: bellum fatum magnus tantus caesar unda deus dux teneo fortuna aequor fero do fluctus mare\n",
      "Topic 5: bellum magnus populus fero urbs do orbis longus signum uideo terra caesar roma multus totus\n",
      "Topic 6: bellum puppis ut ratis aequor populus teneo magnus robur arma telum unda cado manus multus\n",
      "Topic 7: caesar magnus tuus populus mundus do fatum bellum terra ut nilus tantus nox domus eo\n",
      "Topic 8: bellum omnis aequor magnus nullus ut dux unda caesar sanguis fatum fero primus urbs totus\n",
      "Topic 9: zona fraudo frondeo frigor frigidus fretus frequens frenum freni fremo fraus fraternus fictum frater frango\n"
     ]
    }
   ],
   "source": [
    "# Show list of words again\n",
    "\n",
    "for t in range(len(topic_words)):\n",
    "    print(\"Topic {}: {}\".format(t, ' '.join(topic_words[t][:15])))"
   ]
  },
  {
   "cell_type": "code",
   "execution_count": 126,
   "metadata": {
    "collapsed": true
   },
   "outputs": [],
   "source": [
    "latin_stops.extend(['cynthia'])"
   ]
  },
  {
   "cell_type": "code",
   "execution_count": 127,
   "metadata": {},
   "outputs": [
    {
     "data": {
      "text/plain": [
       "(33, 1030)"
      ]
     },
     "execution_count": 127,
     "metadata": {},
     "output_type": "execute_result"
    }
   ],
   "source": [
    "import sklearn.feature_extraction.text as text\n",
    "vectorizer = text.CountVectorizer(input='content', stop_words=latin_stops, min_df=2) # Note cutoff of two words\n",
    "dtm = vectorizer.fit_transform(texts).toarray()\n",
    "vocab = np.array(vectorizer.get_feature_names())\n",
    "\n",
    "dtm.shape"
   ]
  },
  {
   "cell_type": "code",
   "execution_count": 128,
   "metadata": {
    "collapsed": true
   },
   "outputs": [],
   "source": [
    "from sklearn import decomposition\n",
    "num_topics = 10\n",
    "num_top_words = 25\n",
    "clf = decomposition.NMF(n_components=num_topics, random_state=1) # Using non-negative matrix factorization\n",
    "\n",
    "# For more on NMF, see https://de.dariah.eu/tatom/topic_model_python.html\n",
    "\n",
    "doctopic = clf.fit_transform(dtm)"
   ]
  },
  {
   "cell_type": "code",
   "execution_count": 129,
   "metadata": {
    "collapsed": true
   },
   "outputs": [],
   "source": [
    "# Create list of words per \"topic\" (i.e. classifier component)\n",
    "\n",
    "topic_words = []\n",
    "\n",
    "for topic in clf.components_:\n",
    "    word_idx = np.argsort(topic)[::-1][0:num_top_words]\n",
    "    topic_words.append([vocab[i] for i in word_idx])"
   ]
  },
  {
   "cell_type": "code",
   "execution_count": 130,
   "metadata": {
    "collapsed": true
   },
   "outputs": [],
   "source": [
    "# Scale the document-component matrix such that the component values\n",
    "# associated with each document sum to one.\n",
    "\n",
    "doctopic = doctopic / np.sum(doctopic, axis=1, keepdims=True)"
   ]
  },
  {
   "cell_type": "code",
   "execution_count": 131,
   "metadata": {
    "collapsed": true
   },
   "outputs": [],
   "source": [
    "names = np.asarray(titles)\n",
    "doctopic_orig = doctopic.copy()\n",
    "\n",
    "# Create empty matrix\n",
    "num_groups = len(set(names))\n",
    "doctopic_grouped = np.zeros((num_groups, num_topics))"
   ]
  },
  {
   "cell_type": "code",
   "execution_count": 132,
   "metadata": {
    "collapsed": true
   },
   "outputs": [],
   "source": [
    "# Populate matrix \n",
    "\n",
    "for i, name in enumerate(sorted(set(names))):\n",
    "    doctopic_grouped[i, :] = np.mean(doctopic[names == name, :], axis=0)\n",
    "\n",
    "doctopic = doctopic_grouped"
   ]
  },
  {
   "cell_type": "code",
   "execution_count": 133,
   "metadata": {
    "collapsed": true
   },
   "outputs": [],
   "source": [
    "# Make dataframe for clearer display\n",
    "\n",
    "df = pd.DataFrame(data=doctopic, index=titles).round(2)"
   ]
  },
  {
   "cell_type": "code",
   "execution_count": 134,
   "metadata": {},
   "outputs": [
    {
     "name": "stdout",
     "output_type": "stream",
     "text": [
      "Topic 0: amor meus noster tuus puella nullus durus dolor ut cogo ullus eo quaero carmen saepe primus semper labor ocellus longus dico uerbum tantus manus pereo\n",
      "Topic 1: uolo puer amor do dies aqua uenus doceo primus fero annus capio tener ars nego nudus heu deus cito longus eo tuus uinco terra leuis\n",
      "Topic 2: meus fero teneo pono tener iners nunc parco fleo domus lio ut sinus do paruus uia seu lectus bonus satis puella contineo aurum exiguus uenio\n",
      "Topic 3: amor pono neu uenus meus seu totus deus nox teneo dico omnis uolo puella noster solus magicus multus mollis credo iuuenis lumen cantus lio ianua\n",
      "Topic 4: tuus multus meus deus facio puer aurum amor uerbum miser uolo fleo pes corpus uendo noster nunc saepe munus fero uro peto poena do duco\n",
      "Topic 5: nunc illic terra amor os mors porto sacer lio do dico longus tuus semper uia unda foris auis precor teneo deus meus puer manus uenio\n",
      "Topic 6: amor tuus ut duco manus magnus sto procul meus multus credo saepe sanguis timeo dico nunc deus nescio dea alius absum pes lio foris nox\n",
      "Topic 7: do deus ut cantus puer uenus nox saepe caput serus osculum miser nunc muto amo mollis durus tempus munus omnis multus capillus fallo consero sinus\n",
      "Topic 8: meus nunc pauper omnis uotum uerbum dico domina deus amo solus do semper saepe felix furtivus manus fero asper tristis saeuus consuesco ago relinquo scio\n",
      "Topic 9: tener gero primus facio bellum uenio candidus do satis aqua ut caput punc arma fundo fleo uestis durus tristis merus dux laris capillus uua alo\n"
     ]
    }
   ],
   "source": [
    "# Show words associated with each document\n",
    "\n",
    "for t in range(len(topic_words)):\n",
    "    print(\"Topic {}: {}\".format(t, ' '.join(topic_words[t][:25])))"
   ]
  },
  {
   "cell_type": "code",
   "execution_count": 135,
   "metadata": {},
   "outputs": [
    {
     "data": {
      "image/png": "[encoded data removed]",
      "text/plain": [
       "<matplotlib.figure.Figure at 0x1113f5128>"
      ]
     },
     "metadata": {},
     "output_type": "display_data"
    }
   ],
   "source": [
    "# Make heatmap of topics\n",
    "\n",
    "N, K = doctopic.shape  # N documents, K topics\n",
    "topic_labels = ['Topic #{}'.format(k) for k in range(K)]\n",
    "\n",
    "plt.figure(figsize=(12,10))\n",
    "plt.title(\"Heatmap of Topics in Propertius 1 & Tibullus 1 (without 'cynthia')\")\n",
    "plt.pcolor(doctopic, norm=None, cmap='Reds')\n",
    "plt.yticks(np.arange(doctopic.shape[0])+0.5, names);\n",
    "plt.xticks(np.arange(doctopic.shape[1])+0.5, topic_labels);\n",
    "plt.gca().invert_yaxis()\n",
    "plt.xticks(rotation=90)\n",
    "plt.colorbar(cmap='Reds')\n",
    "plt.show()"
   ]
  },
  {
   "cell_type": "code",
   "execution_count": null,
   "metadata": {
    "collapsed": true
   },
   "outputs": [],
   "source": []
  },
  {
   "cell_type": "code",
   "execution_count": null,
   "metadata": {
    "collapsed": true
   },
   "outputs": [],
   "source": []
  }
 ],
 "metadata": {
  "kernelspec": {
   "display_name": "Python 3",
   "language": "python",
   "name": "python3"
  },
  "language_info": {
   "codemirror_mode": {
    "name": "ipython",
    "version": 3
   },
   "file_extension": ".py",
   "mimetype": "text/x-python",
   "name": "python",
   "nbconvert_exporter": "python",
   "pygments_lexer": "ipython3",
   "version": "3.7.0"
  }
 },
 "nbformat": 4,
 "nbformat_minor": 1
}
