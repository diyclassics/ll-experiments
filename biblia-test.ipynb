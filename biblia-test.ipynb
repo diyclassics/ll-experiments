{
 "cells": [
  {
   "cell_type": "markdown",
   "metadata": {},
   "source": [
    "# Exploring Diction and Topics in Latin Love Elegy\n",
    "\n",
    "Patrick J. Burns\n",
    "Institute for the Study of the Ancient World"
   ]
  },
  {
   "cell_type": "markdown",
   "metadata": {},
   "source": [
    "Follow along at: https://github.com/diyclassics/ll-experiments"
   ]
  },
  {
   "cell_type": "markdown",
   "metadata": {},
   "source": [
    "Necessary Python packages\n",
    "- pip install jupyter\n",
    "- pip install numpy pandas matplotlib sklearn\n",
    "- pip install cltk"
   ]
  },
  {
   "cell_type": "markdown",
   "metadata": {},
   "source": [
    "An iPython notebook to demonstrate the use of the Classical Language Toolkit for developing a natural language processing workflow for Latin texts and using this workflow for the basis of exploratory data analysis of diction and topics in these texts. Based on Allen Riddell's [»Text Analysis with Topic Models for the Humanities and Social Sciences«](https://de.dariah.eu/tatom/index.html).\n",
    "\n",
    "Presented at ISAW Intro to Digital Humanities course, 12/4/17  \n",
    "Presented at Yale University Classics Department, 5/18/17  \n",
    "  \n",
    "Last updated 11/29/17"
   ]
  },
  {
   "cell_type": "markdown",
   "metadata": {},
   "source": [
    "## Set up corpora"
   ]
  },
  {
   "cell_type": "code",
   "execution_count": 5,
   "metadata": {},
   "outputs": [
    {
     "name": "stdout",
     "output_type": "stream",
     "text": [
      "Downloaded 100% 35.47 MiB | 891.00 KiB/s \r"
     ]
    }
   ],
   "source": [
    "# # Set up corpora\n",
    "\n",
    "# # You will need the models/datasets that the new lemmatizer uses\n",
    "# # Note that this will generate an error if this and older \n",
    "# # version of this corpus is already installed. If that happens,\n",
    "# # backup the old version, move or delete it, and reimport the corpus.\n",
    "\n",
    "# from cltk.corpus.utils.importer import CorpusImporter\n",
    "\n",
    "# corpus_importer = CorpusImporter('latin')\n",
    "# corpus_importer.list_corpora\n",
    "\n",
    "# corpus_importer.import_corpus('latin_models_cltk')\n",
    "\n",
    "# # We will be using the Latin Library corpus for today's workshop,\n",
    "# # so we will also need to import that as well.\n",
    "\n",
    "# corpus_importer.import_corpus('latin_text_latin_library')"
   ]
  },
  {
   "cell_type": "markdown",
   "metadata": {},
   "source": [
    "## Imports"
   ]
  },
  {
   "cell_type": "code",
   "execution_count": 2,
   "metadata": {},
   "outputs": [],
   "source": [
    "# In general, you want to keep imports at the front of a project, but for\n",
    "# the purposes of today's workshop, it seemed better to introduce them on\n",
    "# an as-needed basis. Still, here is an example of what I would usually do\n",
    "# at the beginning of a notebook.\n",
    "\n",
    "from pprint import pprint \n",
    "\n",
    "# pprint allows for cleaner presentation of Python objects, esp. long strings,\n",
    "# lists (and nested lists), dictionaries, etc."
   ]
  },
  {
   "cell_type": "markdown",
   "metadata": {},
   "source": [
    "## Get corpus"
   ]
  },
  {
   "cell_type": "code",
   "execution_count": 6,
   "metadata": {},
   "outputs": [
    {
     "ename": "ImportError",
     "evalue": "cannot import name 'latinlibrary' from 'cltk.corpus.latin' (/Users/diyclassics/.virtualenvs/ll-experiments-GJjx61s4/lib/python3.7/site-packages/cltk/corpus/latin/__init__.py)",
     "output_type": "error",
     "traceback": [
      "\u001b[0;31m---------------------------------------------------------------------------\u001b[0m",
      "\u001b[0;31mImportError\u001b[0m                               Traceback (most recent call last)",
      "\u001b[0;32m<ipython-input-6-d0a399f35bc7>\u001b[0m in \u001b[0;36m<module>\u001b[0;34m()\u001b[0m\n\u001b[1;32m      1\u001b[0m \u001b[0;31m# Get the Latin Library corpus\u001b[0m\u001b[0;34m\u001b[0m\u001b[0;34m\u001b[0m\u001b[0m\n\u001b[1;32m      2\u001b[0m \u001b[0;34m\u001b[0m\u001b[0m\n\u001b[0;32m----> 3\u001b[0;31m \u001b[0;32mfrom\u001b[0m \u001b[0mcltk\u001b[0m\u001b[0;34m.\u001b[0m\u001b[0mcorpus\u001b[0m\u001b[0;34m.\u001b[0m\u001b[0mlatin\u001b[0m \u001b[0;32mimport\u001b[0m \u001b[0mlatinlibrary\u001b[0m\u001b[0;34m\u001b[0m\u001b[0m\n\u001b[0m\u001b[1;32m      4\u001b[0m \u001b[0;34m\u001b[0m\u001b[0m\n\u001b[1;32m      5\u001b[0m \u001b[0;31m# The CLTK Latin Library corpus is a web-scraped collection of plaintext files\u001b[0m\u001b[0;34m\u001b[0m\u001b[0;34m\u001b[0m\u001b[0m\n",
      "\u001b[0;31mImportError\u001b[0m: cannot import name 'latinlibrary' from 'cltk.corpus.latin' (/Users/diyclassics/.virtualenvs/ll-experiments-GJjx61s4/lib/python3.7/site-packages/cltk/corpus/latin/__init__.py)"
     ]
    }
   ],
   "source": [
    "# Get the Latin Library corpus\n",
    "\n",
    "from cltk.corpus.latin import latinlibrary\n",
    "\n",
    "# The CLTK Latin Library corpus is a web-scraped collection of plaintext files\n",
    "# from thelatinlibrary.com.\n",
    "\n",
    "# We can access the individual files as follows...\n",
    "\n",
    "files = latinlibrary.fileids()\n",
    "print(files[:50]) # The first 50 files in the corpus\n",
    "\n",
    "# Note the [:50] slice to limit our list to the first 50 items.\n",
    "\n",
    "len(files)"
   ]
  },
  {
   "cell_type": "markdown",
   "metadata": {},
   "source": [
    "## Get corpus files"
   ]
  },
  {
   "cell_type": "code",
   "execution_count": 71,
   "metadata": {},
   "outputs": [
    {
     "data": {
      "text/plain": [
       "['alcuin/propos.txt',\n",
       " 'prop2.txt',\n",
       " 'prop3.txt',\n",
       " 'prop4.txt',\n",
       " 'propertius1.txt',\n",
       " 'tertullian/tertullian.propheta.txt']"
      ]
     },
     "execution_count": 71,
     "metadata": {},
     "output_type": "execute_result"
    }
   ],
   "source": [
    "# We can iterate over the list of files to retrieve specific files. Today\n",
    "# we want to work with book 1 of Propertius and book 1 of Tibullus. We\n",
    "# can isolate these files by using:\n",
    "# 1. list comprehension\n",
    "# 2. testing for membership with 'in'\n",
    "\n",
    "# NB: Python designates lists with square brackets, i.e. [...]; list comprehensions\n",
    "# build lists in place with the following syntax...\n",
    "\n",
    "[file for file in files if 'prop' in file]"
   ]
  },
  {
   "cell_type": "code",
   "execution_count": 72,
   "metadata": {
    "collapsed": true
   },
   "outputs": [],
   "source": [
    "# Here are all the files in the Latin Library with 'prop' in the filename. We\n",
    "# are looking for 'propertius1.txt' and can assign it to a variable as follows...\n",
    "\n",
    "propertius_file = 'propertius1.txt'"
   ]
  },
  {
   "cell_type": "code",
   "execution_count": 73,
   "metadata": {},
   "outputs": [
    {
     "name": "stdout",
     "output_type": "stream",
     "text": [
      "['erasmus/antibarb.txt', 'suetonius/suet.tib.txt', 'suetonius/suet.tibullus.txt', 'tibullus1.txt', 'tibullus2.txt', 'tibullus3.txt']\n",
      "\n",
      "\n",
      "['erasmus/antibarb.txt',\n",
      " 'suetonius/suet.tib.txt',\n",
      " 'suetonius/suet.tibullus.txt',\n",
      " 'tibullus1.txt',\n",
      " 'tibullus2.txt',\n",
      " 'tibullus3.txt']\n"
     ]
    }
   ],
   "source": [
    "# Repeat for Tibullus\n",
    "\n",
    "print([file for file in files if 'tib' in file])\n",
    "print('\\n')\n",
    "pprint([file for file in files if 'tib' in file])\n",
    "\n",
    "tibullus_file = 'tibullus1.txt'"
   ]
  },
  {
   "cell_type": "markdown",
   "metadata": {},
   "source": [
    "## Get texts"
   ]
  },
  {
   "cell_type": "code",
   "execution_count": 74,
   "metadata": {
    "collapsed": true
   },
   "outputs": [],
   "source": [
    "# Use raw function for plaintextcorpus reader to get the contents of\n",
    "# the file as a string...\n",
    "\n",
    "propertius_raw = latinlibrary.raw(propertius_file)"
   ]
  },
  {
   "cell_type": "code",
   "execution_count": 75,
   "metadata": {},
   "outputs": [
    {
     "name": "stdout",
     "output_type": "stream",
     "text": [
      "SEXTI PROPERTI ELEGIARVM LIBER PRIMVS\n",
      "\n",
      "1 2 3 4 5 6 7 8a 8b 9 10 11 12 13 14 15 16 17 18 19 20 21 22\n",
      "\n",
      "I\n",
      "\n",
      "Cynthia prima suis miserum me cepit ocellis,\n",
      "    contactum nullis ante cupidinibus.\n",
      "tum mihi constantis deiecit lumina fastus\n",
      "    et caput impositis pressit Amor pedibus,\n",
      "donec me docuit castas odisse puellas                 5\n",
      "    improbus, et nullo vivere consilio.\n",
      "ei mihi, iam toto furor hic non deficit anno,\n",
      "    cum tamen adversos cogor habere deos.\n",
      "Milanion nullos fugiendo, Tulle, labores\n",
      "\n"
     ]
    }
   ],
   "source": [
    "# Here is a preview of the contents...\n",
    "\n",
    "print(propertius_raw[:500])"
   ]
  },
  {
   "cell_type": "code",
   "execution_count": 76,
   "metadata": {},
   "outputs": [
    {
     "name": "stdout",
     "output_type": "stream",
     "text": [
      "XXII\n",
      "\n",
      "Qualis et unde genus, qui sint mihi, Tulle, Penates,\n",
      "    quaeris pro nostra semper amicitia.\n",
      "si Perusina tibi patriae sunt nota sepulcra,\n",
      "    Italiae duris funera temporibus,\n",
      "cum Romana suos egit discordia cives—                 5\n",
      "    sic mihi praecipue, pulvis Etrusca, dolor,\n",
      "tu proiecta mei perpessa's membra propinqui,\n",
      "    tu nullo miseri contegis ossa solo—\n",
      "proxima suppositos contingens Umbria campos\n",
      "    me genuit terris fertilis uberibus.\n",
      "\n",
      "Propertius\tThe Latin Library\tThe Classics Page\n"
     ]
    }
   ],
   "source": [
    "# And a bit of the end...\n",
    "\n",
    "print(propertius_raw[-500:]) # Note the negative slice"
   ]
  },
  {
   "cell_type": "code",
   "execution_count": 77,
   "metadata": {
    "collapsed": true
   },
   "outputs": [],
   "source": [
    "# Get the Tibullus texts\n",
    "\n",
    "tibullus_raw = latinlibrary.raw(tibullus_file)"
   ]
  },
  {
   "cell_type": "markdown",
   "metadata": {},
   "source": [
    "## Preprocessing"
   ]
  },
  {
   "cell_type": "code",
   "execution_count": 78,
   "metadata": {
    "collapsed": true
   },
   "outputs": [],
   "source": [
    "# Imports for preprocessing\n",
    "\n",
    "import re # Regex module, useful for pattern matching\n",
    "import html # Useful for handling entities\n",
    "\n",
    "# Import/load a CLTK tool for normalizing i/j and u/v in Latin texts\n",
    "from cltk.stem.latin.j_v import JVReplacer\n",
    "replacer = JVReplacer()"
   ]
  },
  {
   "cell_type": "code",
   "execution_count": 79,
   "metadata": {
    "collapsed": true
   },
   "outputs": [],
   "source": [
    "# Preprocess texts\n",
    "\n",
    "# I've written the following preprocessing function for today's workshop. It's\n",
    "# pretty specific in a few cases—more so than I would normally would use, e.g. '8a'\n",
    "# and '8b'.\n",
    "\n",
    "# Still the goal of preprocessing is to make all of the texts we are working with\n",
    "# for this experiment as uniform as possible, so that functions/processes further along\n",
    "# encounter consistent data. GIGO, as they say. E.g., for today we want\n",
    "# 'verbum' and 'uerbum' to be treated as the same word. For a different experiment, \n",
    "# you might not and need to make different editorial choices.\n",
    "\n",
    "def preprocess(text):\n",
    "\n",
    "    # Remove Latin Library-specific paratexts with regex\n",
    "    \n",
    "    remove_list = [r'\\bThe Latin Library\\b',\n",
    "                   r'\\bThe Classics Page\\b',\n",
    "                   r'\\bPropertius\\b',\n",
    "                   r'\\bSEXTI PROPERTI ELEGIARVM LIBER PRIMVS\\b',\n",
    "                   r'8a', r'8b', r'VIIIA', r'VIIIB',\n",
    "                   r'\\bTibullus Book I\\b',\n",
    "                   r'\\bTibullus',\n",
    "                   r'\\bA. TIBVLLI ELEGIAE LIBER PRIMVS\\b',\n",
    "                   r'I II III IV V VI VII VIII IX X',\n",
    "                   r'25a', r'25b'\n",
    "                  ]\n",
    "    \n",
    "    for pattern in remove_list:\n",
    "        text = re.sub(pattern, '', text)\n",
    "\n",
    "    # Remove html entities and related html artifacts\n",
    "    \n",
    "    text = html.unescape(text) # Handle html entities\n",
    "    text = re.sub(r'&nbsp;?', ' ',text) #&nbsp; stripped incorrectly in corpus?\n",
    "    text = re.sub(r'\\x00',' ',text) #Another space problem?\n",
    "    text = re.sub(r' \\xa0 ', '    ', text)\n",
    "    \n",
    "    # Remove roman numeral headings; must be before lower & replacer\n",
    "    text = re.sub(r'\\b(M{1,4}(CM|CD|D?C{0,3})(XC|XL|L?X{0,3})(IX|IV|V?I{0,3})|M{0,4}(CM|C?D|D?C{1,3})(XC|XL|L?X{0,3})(IX|IV|V?I{0,4})|M{0,4}(CM|CD|D?C{0,3})(XC|X?L|L?X{1,3})(IX|IV|V?I{0,3})|M{0,4}(CM|CD|D?C{0,3})(XC|XL|L?X{0,3})(IX|I?V|V?I{1,3}))\\b',' ',text)\n",
    "    \n",
    "    # Lowercase text\n",
    "    text = text.lower()\n",
    "\n",
    "    # Normalize text\n",
    "    text = replacer.replace(text) #Normalize u/v & i/j\n",
    "    \n",
    "    # Remove punctuation with translate\n",
    "    punctuation =\"\\\"#$%&\\'()+,-/:;<=>@[\\]^_`{|}~.?!«»—\"\n",
    "    translator = str.maketrans({key: \" \" for key in punctuation})\n",
    "    text = text.translate(translator)\n",
    "    \n",
    "    # Remove numbers\n",
    "    translator = str.maketrans({key: \" \" for key in '0123456789'})\n",
    "    text = text.translate(translator)\n",
    "    \n",
    "    # Handle spacing\n",
    "    text = re.sub('[ ]+',' ', text) # Remove double spaces\n",
    "    text = re.sub('\\t',' ', text) # Remove tabs\n",
    "    text = re.sub('^\\s+','', text)\n",
    "    text = re.sub(' \\n', '\\n', text)\n",
    "    text = re.sub('\\n\\n', '~', text)\n",
    "    text = re.sub('~+', '\\n\\n', text)\n",
    "    \n",
    "    return text.strip()"
   ]
  },
  {
   "cell_type": "code",
   "execution_count": 80,
   "metadata": {
    "collapsed": true
   },
   "outputs": [],
   "source": [
    "# Preprocess texts\n",
    "\n",
    "propertius_edit = preprocess(propertius_raw)\n",
    "tibullus_edit = preprocess(tibullus_raw)"
   ]
  },
  {
   "cell_type": "code",
   "execution_count": 81,
   "metadata": {},
   "outputs": [
    {
     "name": "stdout",
     "output_type": "stream",
     "text": [
      "cynthia prima suis miserum me cepit ocellis\n",
      " contactum nullis ante cupidinibus\n",
      "tum mihi constantis deiecit lumina fastus\n",
      " et caput impositis pressit amor pedibus\n",
      "donec me docuit castas odisse puellas\n",
      " improbus et nullo uiuere consilio\n",
      "ei mihi iam toto furor hic non deficit anno\n",
      " cum tamen aduersos cogor habere deos\n",
      "milanion nullos fugiendo tulle labores\n",
      " saeuitiam durae contudit iasidos\n",
      "nam modo partheniis amens errabat in antris\n",
      " rursus in hirsutas ibat et ille feras\n",
      "ille etiam hylaei percussus\n"
     ]
    }
   ],
   "source": [
    "# Preview text\n",
    "\n",
    "print(propertius_edit[:500])"
   ]
  },
  {
   "cell_type": "code",
   "execution_count": 82,
   "metadata": {},
   "outputs": [
    {
     "name": "stdout",
     "output_type": "stream",
     "text": [
      "SEXTI PROPERTI ELEGIARVM LIBER PRIMVS\n",
      "\n",
      "1 2 3 4 5 6 7 8a 8b 9 10 11 12 13 14 15 16 17 18 19 20 21 22\n",
      "\n",
      "I\n",
      "\n",
      "Cynthia prima suis miserum me cepit ocellis,\n",
      "    contactum nullis ante cupidinibus.\n",
      "tum mihi constantis deiecit lumina fastus\n",
      "    et caput impositis pressit Amor pedibus,\n",
      "donec me docuit castas odisse puellas                 5\n",
      "    improbus, et nullo vivere consilio.\n",
      "ei mihi, iam toto furor hic non deficit anno,\n",
      "    cum tamen adversos cogor habere deos.\n",
      "Milanion nullos fugiendo, Tulle, labores\n",
      "\n"
     ]
    }
   ],
   "source": [
    "# Compare to raw plaintext from LL...\n",
    "\n",
    "print(propertius_raw[:500])"
   ]
  },
  {
   "cell_type": "markdown",
   "metadata": {},
   "source": [
    "## Split text into list of poems"
   ]
  },
  {
   "cell_type": "code",
   "execution_count": 83,
   "metadata": {
    "collapsed": true
   },
   "outputs": [],
   "source": [
    "# We have set up the preprocessing to leave two blank lines between\n",
    "# each poem in the original string. We can use 'split' to break the\n",
    "# text up into a list of strings, each string containing one poem.\n",
    "\n",
    "propertius = propertius = propertius_edit.split('\\n\\n')\n",
    "tibullus = tibullus_edit.split('\\n\\n')"
   ]
  },
  {
   "cell_type": "code",
   "execution_count": 84,
   "metadata": {},
   "outputs": [
    {
     "name": "stdout",
     "output_type": "stream",
     "text": [
      "23\n",
      "10\n"
     ]
    }
   ],
   "source": [
    "# Check length of list\n",
    "\n",
    "print(len(propertius))\n",
    "print(len(tibullus))"
   ]
  },
  {
   "cell_type": "code",
   "execution_count": 85,
   "metadata": {},
   "outputs": [
    {
     "name": "stdout",
     "output_type": "stream",
     "text": [
      "cynthia prima suis miserum me cepit ocellis\n",
      "quid iuuat ornato procedere uita capillo\n",
      "qualis thesea iacuit cedente carina\n",
      "quid mihi tam multas laudando basse puellas\n",
      "quid tibi uis insane meae sentire furores\n",
      "non ego nunc hadriae uereor mare noscere tecum\n",
      "dum tibi cadmeae dicuntur pontice thebae\n",
      "tune igitur demens nec te mea cura moratur\n",
      "hic erit hic iurata manet rumpantur iniqui\n",
      "dicebam tibi uenturos irrisor amores\n",
      "o iucunda quies primo cum testis amori\n",
      "ecquid te mediis cessantem cynthia baiis\n",
      "quid mihi desidiae non cessas fingere crimen\n",
      "tu quod saepe soles nostro laetabere casu\n",
      "tu licet abiectus tiberina molliter unda\n",
      "saepe ego multa tuae leuitatis dura timebam\n",
      "quae fueram magnis olim patefacta triumphis\n",
      "et merito quoniam potui fugisse puellam\n",
      "haec certe deserta loca et taciturna querenti\n",
      "non ego nunc tristis uereor mea cynthia manes\n",
      "hoc pro continuo te galle monemus amore\n",
      "tu qui consortem properas euadere casum\n",
      "qualis et unde genus qui sint mihi tulle penates\n"
     ]
    }
   ],
   "source": [
    "# Preview first line of each poem in Propertius list...\n",
    "\n",
    "for poem in propertius:\n",
    "    print(poem[:poem.find('\\n')])"
   ]
  },
  {
   "cell_type": "markdown",
   "metadata": {},
   "source": [
    "## Set up titles"
   ]
  },
  {
   "cell_type": "code",
   "execution_count": 86,
   "metadata": {
    "collapsed": true
   },
   "outputs": [],
   "source": [
    "tibullus_titles = ['Tib. 1.1', 'Tib. 1.2', 'Tib. 1.3', 'Tib. 1.4', 'Tib. 1.5', \n",
    "                   'Tib. 1.6', 'Tib. 1.7', 'Tib. 1.8', 'Tib. 1.9', 'Tib. 1.10']\n",
    "\n",
    "propertius_titles = ['Prop. 1.1', 'Prop. 1.2', 'Prop. 1.3', 'Prop. 1.4', 'Prop. 1.5', \n",
    "                     'Prop. 1.6', 'Prop. 1.7', 'Prop. 1.8a', 'Prop. 1.8b', 'Prop. 1.9', \n",
    "                     'Prop. 1.10', 'Prop. 1.11', 'Prop. 1.12', 'Prop. 1.13', 'Prop. 1.14', \n",
    "                     'Prop. 1.15', 'Prop. 1.16', 'Prop. 1.17', 'Prop. 1.18', 'Prop. 1.19', \n",
    "                     'Prop. 1.20', 'Prop. 1.21', 'Prop. 1.22']\n"
   ]
  },
  {
   "cell_type": "code",
   "execution_count": 87,
   "metadata": {},
   "outputs": [
    {
     "name": "stdout",
     "output_type": "stream",
     "text": [
      "Prop. 1.1 \n",
      " cynthia prima suis miserum me cepit ocellis \n",
      "\n",
      "Prop. 1.2 \n",
      " quid iuuat ornato procedere uita capillo \n",
      "\n",
      "Prop. 1.3 \n",
      " qualis thesea iacuit cedente carina \n",
      "\n",
      "Prop. 1.4 \n",
      " quid mihi tam multas laudando basse puellas \n",
      "\n",
      "Prop. 1.5 \n",
      " quid tibi uis insane meae sentire furores \n",
      "\n"
     ]
    }
   ],
   "source": [
    "# Preview titles with first lines…\n",
    "\n",
    "for i, poem in enumerate(propertius[:5]):\n",
    "    print(propertius_titles[i],\n",
    "          '\\n',\n",
    "          poem[:poem.find('\\n')],\n",
    "          '\\n')"
   ]
  },
  {
   "cell_type": "markdown",
   "metadata": {},
   "source": [
    "## Tokenize words"
   ]
  },
  {
   "cell_type": "code",
   "execution_count": 88,
   "metadata": {},
   "outputs": [
    {
     "name": "stdout",
     "output_type": "stream",
     "text": [
      "cynthia prima suis miserum me cepit ocellis\n",
      " contactum nullis ante cupidinibus\n",
      "tum mihi constantis deiecit lumina fastus\n",
      " et caput impositis pressit amor pedibus\n",
      "donec me docuit castas odisse puellas\n",
      " improbus et nullo uiuere consilio\n",
      "ei mihi iam toto furor hic non deficit anno\n",
      " cum tamen aduersos cogor habere deos\n",
      "milanion nullos fugiendo tulle labores\n",
      " saeuitiam durae contudit iasidos\n",
      "nam modo partheniis amens errabat in antris\n",
      " rursus in hirsutas ibat et ille feras\n",
      "ille etiam hylaei percussus uulnere rami\n",
      " saucius arcadiis rupibus ingemuit\n",
      "ergo uelocem potuit domuisse puellam\n",
      " tantum in amore fides et benefacta ualent\n",
      "in me tardus amor non ullas cogitat artes\n",
      " nec meminit notas ut prius ire uias\n",
      "at uos deductae quibus est pellacia lunae\n",
      " et labor in magicis sacra piare focis\n",
      "en agedum dominae mentem conuertite nostrae\n",
      " et facite illa meo palleat ore magis\n",
      "tunc ego crediderim manes et sidera uobis\n",
      " posse cytinaeis ducere carminibus\n",
      "aut uos qui sero lapsum reuocatis amici\n",
      " quaerite non sani pectoris auxilia\n",
      "fortiter et ferrum saeuos patiemur et ignes\n",
      " sit modo libertas quae uelit ira loqui\n",
      "ferte per extremas gentes et ferte per undas\n",
      " qua non ulla meum femina norit iter\n",
      "uos remanete quibus facili deus annuit aure\n",
      " sitis et in tuto semper amore pares\n",
      "nam me nostra uenus noctes exercet amaras\n",
      " et nullo uacuus tempore defit amor\n",
      "hoc moneo uitate malum sua quemque moretur\n",
      " cura neque assueto mutet amore torum\n",
      "quod si quis monitis tardas aduerterit aures\n",
      " heu referet quanto uerba dolore mea\n"
     ]
    }
   ],
   "source": [
    "# Here is what we have...\n",
    "\n",
    "print(propertius[0])"
   ]
  },
  {
   "cell_type": "code",
   "execution_count": 89,
   "metadata": {
    "collapsed": true
   },
   "outputs": [],
   "source": [
    "# What we want is a list of all of the words in the poem. This is word tokenization and\n",
    "# it will largely be done by splitting the text on whitespace, thought the CLTK\n",
    "# has language-specific tokenization to handle language-specific problems, e.g.\n",
    "# What would you want to extract from 'arma virumque cano'? ['virum'] or ['virum', '-que']?"
   ]
  },
  {
   "cell_type": "code",
   "execution_count": 90,
   "metadata": {
    "collapsed": true
   },
   "outputs": [],
   "source": [
    "# Set up CLTK Latin word tokenizer\n",
    "\n",
    "from cltk.tokenize.word import WordTokenizer\n",
    "word_tokenizer = WordTokenizer('latin')"
   ]
  },
  {
   "cell_type": "code",
   "execution_count": 91,
   "metadata": {},
   "outputs": [
    {
     "name": "stdout",
     "output_type": "stream",
     "text": [
      "['cynthia', 'prima', 'suis', 'miserum', 'me', 'cepit', 'ocellis', 'contactum', 'nullis', 'ante', 'cupidinibus', 'tum', 'mihi', 'constantis', 'deiecit', 'lumina', 'fastus', 'et', 'caput', 'impositis', 'pressit', 'amor', 'pedibus', 'donec', 'me', 'docuit', 'castas', 'odisse', 'puellas', 'improbus', 'et', 'nullo', 'uiuere', 'consilio', 'ei', 'mihi', 'iam', 'toto', 'furor', 'hic', 'non', 'deficit', 'anno', 'cum', 'tamen', 'aduersos', 'cogor', 'habere', 'deos', 'milanio', '-ne', 'nullos', 'fugiendo', 'tulle', 'labores', 'saeuitiam', 'durae', 'contudit', 'iasidos', 'nam', 'modo', 'partheniis', 'amens', 'errabat', 'in', 'antris', 'rursus', 'in', 'hirsutas', 'ibat', 'et', 'ille', 'feras', 'ille', 'etiam', 'hylaei', 'percussus', 'uulnere', 'rami', 'saucius', 'arcadiis', 'rupibus', 'ingemuit', 'ergo', 'uelocem', 'potuit', 'domuisse', 'puellam', 'tantum', 'in', 'amore', 'fides', 'et', 'benefacta', 'ualent', 'in', 'me', 'tardus', 'amor', 'non', 'ullas', 'cogitat', 'artes', 'nec', 'meminit', 'notas', 'ut', 'prius', 'ire', 'uias', 'at', 'uos', 'deductae', 'quibus', 'est', 'pellacia', 'lunae', 'et', 'labor', 'in', 'magicis', 'sacra', 'piare', 'focis', 'en', 'agedum', 'dominae', 'mentem', 'conuertite', 'nostrae', 'et', 'facite', 'illa', 'meo', 'palleat', 'ore', 'magis', 'tunc', 'ego', 'crediderim', 'manes', 'et', 'sidera', 'uobis', 'posse', 'cytinaeis', 'ducere', 'carminibus', 'aut', 'uos', 'qui', 'sero', 'lapsum', 'reuocatis', 'amici', 'quaerite', 'non', 'sani', 'pectoris', 'auxilia', 'fortiter', 'et', 'ferrum', 'saeuos', 'patiemur', 'et', 'ignes', 'sit', 'modo', 'libertas', 'quae', 'uelit', 'ira', 'loqui', 'ferte', 'per', 'extremas', 'gentes', 'et', 'ferte', 'per', 'undas', 'qua', 'non', 'ulla', 'meum', 'femina', 'norit', 'iter', 'uos', 'remanete', 'quibus', 'facili', 'deus', 'annuit', 'aure', 'sitis', 'et', 'in', 'tuto', 'semper', 'amore', 'pares', 'nam', 'me', 'nostra', 'uenus', 'noctes', 'exercet', 'amaras', 'et', 'nullo', 'uacuus', 'tempore', 'defit', 'amor', 'hoc', 'moneo', 'uitate', 'malum', 'sua', 'quemque', 'moretur', 'cura', 'neque', 'assueto', 'mutet', 'amore', 'torum', 'quod', 'si', 'quis', 'monitis', 'tardas', 'aduerterit', 'aures', 'heu', 'referet', 'quanto', 'uerba', 'dolore', 'mea']\n",
      "242\n"
     ]
    }
   ],
   "source": [
    "# Here is what the same poem looks like as a list of tokens\n",
    "print(word_tokenizer.tokenize(propertius[0]))\n",
    "print(len(word_tokenizer.tokenize(propertius[0])))"
   ]
  },
  {
   "cell_type": "code",
   "execution_count": 92,
   "metadata": {
    "collapsed": true
   },
   "outputs": [],
   "source": [
    "# Tokenize list of poems\n",
    "\n",
    "# Again we can use list comprehensions to create orderly lists of lists of tokens.\n",
    "\n",
    "propertius_tokens = [word_tokenizer.tokenize(poem) for poem in propertius]\n",
    "tibullus_tokens = [word_tokenizer.tokenize(poem) for poem in tibullus]"
   ]
  },
  {
   "cell_type": "markdown",
   "metadata": {},
   "source": [
    "## Lemmatize tokens"
   ]
  },
  {
   "cell_type": "code",
   "execution_count": 93,
   "metadata": {
    "collapsed": true
   },
   "outputs": [],
   "source": [
    "# What we now want is a list of all of the lemmata, i.e. the dictionary headword, in \n",
    "# the poem. CLTK has Latin-specific lemmatizers that make automatic and 'informed' \n",
    "# decisions about which headword to pick. The accuracy of the lemmatizer we will\n",
    "# use today—the backoff lemmatizer—is constantly improving and is roughly 90% at present,\n",
    "# which should be sufficient for today's experiments."
   ]
  },
  {
   "cell_type": "code",
   "execution_count": 94,
   "metadata": {
    "collapsed": true
   },
   "outputs": [],
   "source": [
    "# We need to import a data model to train the lemmatizer.\n",
    "\n",
    "import os\n",
    "from cltk.utils.file_operations import open_pickle\n",
    "\n",
    "# Set up training sentences\n",
    "\n",
    "rel_path = os.path.join('~/cltk_data/latin/model/latin_models_cltk/lemmata/backoff')\n",
    "path = os.path.expanduser(rel_path)\n",
    "\n",
    "# Check for presence of latin_pos_lemmatized_sents\n",
    "file = 'latin_pos_lemmatized_sents.pickle'      \n",
    "\n",
    "latin_pos_lemmatized_sents_path = os.path.join(path, file)\n",
    "if os.path.isfile(latin_pos_lemmatized_sents_path):\n",
    "    latin_pos_lemmatized_sents = open_pickle(latin_pos_lemmatized_sents_path)\n",
    "else:\n",
    "    latin_pos_lemmatized_sents = []\n",
    "    print('The file %s is not available in cltk_data' % file)  "
   ]
  },
  {
   "cell_type": "code",
   "execution_count": 95,
   "metadata": {
    "collapsed": true
   },
   "outputs": [],
   "source": [
    "# Set up CLTK Latin backoff lemmatizer\n",
    "\n",
    "from cltk.lemmatize.latin.backoff import BackoffLatinLemmatizer\n",
    "lemmatizer = BackoffLatinLemmatizer(latin_pos_lemmatized_sents)"
   ]
  },
  {
   "cell_type": "code",
   "execution_count": 96,
   "metadata": {
    "collapsed": true
   },
   "outputs": [],
   "source": [
    "# This lemmatizer, while more accurate than others, can be **very** slow. So, for\n",
    "# the purposes of today's workshop, we will use a 'trick' to speed it up, i.e.\n",
    "# rejoin the list of tokens and process two strings rather than a list of all the tokens.\n",
    "\n",
    "## Make one string of all files, delimited by |||\n",
    "## (NB: Attempt to reduce the number of regex compiles.)\n",
    "\n",
    "def create_lemmatized_texts(texts):\n",
    "    textin = \" ||| \".join(texts)\n",
    "    tokens = textin.split()\n",
    "    lemmas = lemmatizer.lemmatize(tokens)\n",
    "    textout = \" \".join(lemma[1] for lemma in lemmas)\n",
    "    punctuation =\"\\\"#$%&\\'()+,-/:;<=>@[\\]^_`{}~.?!«»—\"\n",
    "    translator = str.maketrans({key: \" \" for key in punctuation})\n",
    "    textout = textout.translate(translator)\n",
    "    translator = str.maketrans({key: \" \" for key in '0123456789'})\n",
    "    textout = textout.translate(translator)\n",
    "    textout = re.sub(r' punc ', ' ', textout)\n",
    "    lemmatized_texts = textout.split('|||')\n",
    "    return lemmatized_texts\n"
   ]
  },
  {
   "cell_type": "code",
   "execution_count": 97,
   "metadata": {},
   "outputs": [
    {
     "name": "stdout",
     "output_type": "stream",
     "text": [
      "['cynthia primus suus miser ego capio ocellus contingo nullus ante cupido tum ego consto deicio lumen fastus et caput impono premo amor pes donec ego doceo castus odi puella improbus et nullus uiuo consilium is ego iam totus furor hic non deficio annus cum  tamen aduerto cogo habeo deus milanion nullus fugio tullus labor saevitia durus contundo iasidos nam modo parthenius amens erro in antrum rursus in hirsutus eo et ille ferus ille etiam hylaeus percutio uulnus ramus saucius arcadius rupes ingemo ergo uelox possum domo puella tantus in amor fides et benefacio ualeo in ego tardus amor non ullus cogito ars neque memini nosco ut prior eo uia at tu deduco qui sum pellacia luna et labor in magicus sacer piaris focus en agedum domina mens conuerto noster et facio ille meus palleo os magis tunc ego credo manes et sidus tu possum cytinaeis duco carmen aut tu qui serus labor reuoco amicus quaero non sanus pector auxilium fortis et ferrum saeuus patior et ignis sum modo libertas qui uolo ira loquor fero per exter gens et fero per unda qui non ullus meus femina nosco iter tu remaneo qui facilis deus annuo auris sum et in tueor semper amor paris nam ego noster uenus nox exerceo amarus et nullus uacuus tempus deficio amor hic moneo uitas mal suus quisque moror cura neque assuesco muto amor torus qui si quis moneo tardus aduerto auris heu refero quantus uerbum dolor meus']\n"
     ]
    }
   ],
   "source": [
    "print(create_lemmatized_texts(propertius[:1]))"
   ]
  },
  {
   "cell_type": "code",
   "execution_count": 98,
   "metadata": {
    "collapsed": true
   },
   "outputs": [],
   "source": [
    "# As noted above, rejoin list of tokens...\n",
    "propertius_tokenized_texts = [' '.join(tokens) for tokens in propertius_tokens]\n",
    "tibullus_tokenized_texts = [' '.join(tokens) for tokens in tibullus_tokens]\n",
    "\n",
    "# ... and lemmatize.\n",
    "propertius_lemmatized_texts = create_lemmatized_texts(propertius_tokenized_texts)\n",
    "tibullus_lemmatized_texts = create_lemmatized_texts(tibullus_tokenized_texts)"
   ]
  },
  {
   "cell_type": "code",
   "execution_count": 99,
   "metadata": {
    "collapsed": true
   },
   "outputs": [],
   "source": [
    "# Now let's split our lemmatized texts into a list of lemmas, first by getting\n",
    "# a list of lemmas per poem...\n",
    "\n",
    "propertius_lemmas = [text.split() for text in propertius_lemmatized_texts]\n",
    "tibullus_lemmas = [text.split() for text in tibullus_lemmatized_texts]\n",
    "\n",
    "# ... then by flattening these lists into a single author list.\n",
    "\n",
    "propertius_lemmas = [item for sublist in propertius_lemmas for item in sublist]\n",
    "tibullus_lemmas = [item for sublist in tibullus_lemmas for item in sublist]"
   ]
  },
  {
   "cell_type": "markdown",
   "metadata": {},
   "source": [
    "## Counting words"
   ]
  },
  {
   "cell_type": "code",
   "execution_count": 100,
   "metadata": {},
   "outputs": [
    {
     "name": "stdout",
     "output_type": "stream",
     "text": [
      "Top 25 lemmas in Propertius 1:\n",
      "\n",
      "       lemma       COUNT       Type-Tok %  RUNNING %   \n",
      "    1. et          135         3.05%       3.05%       \n",
      "    2. sum         124         2.81%       5.86%       \n",
      "    3. tu          113         2.56%       8.42%       \n",
      "    4. ego         106         2.4%        10.81%      \n",
      "    5. non         84          1.9%        12.71%      \n",
      "    6. qui         64          1.45%       14.16%      \n",
      "    7. amor        61          1.38%       15.54%      \n",
      "    8. meus        57          1.29%       16.83%      \n",
      "    9. ille        51          1.15%       17.99%      \n",
      "   10. neque       49          1.11%       19.1%       \n",
      "   11. hic         48          1.09%       20.18%      \n",
      "   12. in          47          1.06%       21.24%      \n",
      "   13. possum      42          0.95%       22.19%      \n",
      "   14. noster      32          0.72%       22.92%      \n",
      "   15. tuus        31          0.7%        23.62%      \n",
      "   16. cynthia     30          0.68%       24.3%       \n",
      "   17. puella      28          0.63%       24.93%      \n",
      "   18. quis        26          0.59%       25.52%      \n",
      "   19. nullus      22          0.5%        26.02%      \n",
      "   20. si          22          0.5%        26.52%      \n",
      "   21. cum         21          0.48%       26.99%      \n",
      "   22. ut          20          0.45%       27.44%      \n",
      "   23. durus       19          0.43%       27.87%      \n",
      "   24. modo        17          0.38%       28.26%      \n",
      "   25. nunc        17          0.38%       28.64%      \n"
     ]
    }
   ],
   "source": [
    "# Now that we have a list of lemmas from our authors, we can use the Counter\n",
    "# object in Python to get some frequency information about \"words\"\n",
    "\n",
    "from collections import Counter\n",
    "\n",
    "# Build counter of top token counts\n",
    "propertius_lemmas_counter = Counter(propertius_lemmas)\n",
    "propertius_lemmas_mc = propertius_lemmas_counter.most_common(100)\n",
    "\n",
    "running = 0\n",
    "\n",
    "print('Top 25 lemmas in Propertius 1:\\n')\n",
    "print(\"{number:>5}  {lemma:<12}{count:<12}{percent:<12}{running:<12}\".format(number=\"\", lemma=\"lemma\", count=\"COUNT\", percent=\"Type-Tok %\", running = \"RUNNING %\"))\n",
    "for i, pair in enumerate(propertius_lemmas_mc[:25]):\n",
    "    running += pair[1]\n",
    "    print(\"{number:>5}. {lemma:<12}{count:<12}{percent:<12}{running:<12}\".format(number=i+1, lemma=pair[0], count=pair[1], percent=str(round(pair[1] / len(propertius_lemmas)*100, 2))+\"%\", running = str(round(running / len(propertius_lemmas)*100, 2))+\"%\"))"
   ]
  },
  {
   "cell_type": "code",
   "execution_count": 101,
   "metadata": {},
   "outputs": [
    {
     "name": "stdout",
     "output_type": "stream",
     "text": [
      "Top 25 lemmas in Tibullus 1:\n",
      "\n",
      "       lemma       COUNT       Type-Tok %  RUNNING %   \n",
      "    1. et          148         2.75%       2.75%       \n",
      "    2. sum         120         2.23%       4.99%       \n",
      "    3. ego         108         2.01%       6.99%       \n",
      "    4. que         106         1.97%       8.97%       \n",
      "    5. tu          101         1.88%       10.84%      \n",
      "    6. non         68          1.26%       12.11%      \n",
      "    7. hic         61          1.13%       13.24%      \n",
      "    8. qui         56          1.04%       14.29%      \n",
      "    9. ille        56          1.04%       15.33%      \n",
      "   10. neque       48          0.89%       16.22%      \n",
      "   11. in          43          0.8%        17.02%      \n",
      "   12. at          38          0.71%       17.73%      \n",
      "   13. cum         38          0.71%       18.43%      \n",
      "   14. ipse        36          0.67%       19.1%       \n",
      "   15. sed         34          0.63%       19.74%      \n",
      "   16. amor        33          0.61%       20.35%      \n",
      "   17. meus        30          0.56%       20.91%      \n",
      "   18. quis        30          0.56%       21.47%      \n",
      "   19. do          29          0.54%       22.01%      \n",
      "   20. deus        28          0.52%       22.53%      \n",
      "   21. de          28          0.52%       23.05%      \n",
      "   22. nunc        27          0.5%        23.55%      \n",
      "   23. possum      27          0.5%        24.05%      \n",
      "   24. uenus       24          0.45%       24.5%       \n",
      "   25. fero        23          0.43%       24.93%      \n"
     ]
    }
   ],
   "source": [
    "# Build counter of top token counts\n",
    "tibullus_lemmas_counter = Counter(tibullus_lemmas)\n",
    "tibullus_lemmas_mc = tibullus_lemmas_counter.most_common(100)\n",
    "\n",
    "running = 0\n",
    "\n",
    "print('Top 25 lemmas in Tibullus 1:\\n')\n",
    "print(\"{number:>5}  {lemma:<12}{count:<12}{percent:<12}{running:<12}\".format(number=\"\", lemma=\"lemma\", count=\"COUNT\", percent=\"Type-Tok %\", running = \"RUNNING %\"))\n",
    "for i, pair in enumerate(tibullus_lemmas_mc[:25]):\n",
    "    running += pair[1]\n",
    "    print(\"{number:>5}. {lemma:<12}{count:<12}{percent:<12}{running:<12}\".format(number=i+1, lemma=pair[0], count=pair[1], percent=str(round(pair[1] / len(tibullus_lemmas)*100, 2))+\"%\", running = str(round(running / len(tibullus_lemmas)*100, 2))+\"%\"))"
   ]
  },
  {
   "cell_type": "markdown",
   "metadata": {},
   "source": [
    "## Words as features"
   ]
  },
  {
   "cell_type": "code",
   "execution_count": 102,
   "metadata": {
    "collapsed": true
   },
   "outputs": [],
   "source": [
    "# Here we will quickly go through the kinds of exploratory data analysis available\n",
    "# to us once we have preprocessed or tokenized or lemmatized texts, spec.\n",
    "\n",
    "# - Visualizing texts by \"distance\" based on vocabulary\n",
    "# - Visualizing automatically extracted topics based on word co-occurence"
   ]
  },
  {
   "cell_type": "code",
   "execution_count": 103,
   "metadata": {
    "collapsed": true
   },
   "outputs": [],
   "source": [
    "# Import modules\n",
    "\n",
    "import numpy as np\n",
    "import pandas as pd\n",
    "import sklearn.feature_extraction.text as text\n",
    "\n",
    "# Create an instance of a count vectorizer\n",
    "vectorizer = text.CountVectorizer(input='content')"
   ]
  },
  {
   "cell_type": "code",
   "execution_count": 104,
   "metadata": {},
   "outputs": [
    {
     "name": "stdout",
     "output_type": "stream",
     "text": [
      "['amor' 'labor' 'omnia' 'vincit']\n",
      "\n",
      "\n"
     ]
    },
    {
     "data": {
      "text/html": [
       "<div>\n",
       "<style>\n",
       "    .dataframe thead tr:only-child th {\n",
       "        text-align: right;\n",
       "    }\n",
       "\n",
       "    .dataframe thead th {\n",
       "        text-align: left;\n",
       "    }\n",
       "\n",
       "    .dataframe tbody tr th {\n",
       "        vertical-align: top;\n",
       "    }\n",
       "</style>\n",
       "<table border=\"1\" class=\"dataframe\">\n",
       "  <thead>\n",
       "    <tr style=\"text-align: right;\">\n",
       "      <th></th>\n",
       "      <th>amor</th>\n",
       "      <th>labor</th>\n",
       "      <th>omnia</th>\n",
       "      <th>vincit</th>\n",
       "    </tr>\n",
       "  </thead>\n",
       "  <tbody>\n",
       "    <tr>\n",
       "      <th>0</th>\n",
       "      <td>1</td>\n",
       "      <td>0</td>\n",
       "      <td>1</td>\n",
       "      <td>1</td>\n",
       "    </tr>\n",
       "    <tr>\n",
       "      <th>1</th>\n",
       "      <td>0</td>\n",
       "      <td>1</td>\n",
       "      <td>1</td>\n",
       "      <td>1</td>\n",
       "    </tr>\n",
       "  </tbody>\n",
       "</table>\n",
       "</div>"
      ],
      "text/plain": [
       "   amor  labor  omnia  vincit\n",
       "0     1      0      1       1\n",
       "1     0      1      1       1"
      ]
     },
     "execution_count": 104,
     "metadata": {},
     "output_type": "execute_result"
    }
   ],
   "source": [
    "# Create a document-term matrix, i.e. reduce our texts to an array where\n",
    "# - the horizontal axis is a list of words\n",
    "# - the vertical axis is a list of documents\n",
    "# - the intersection of the two axes is the count of the word in the document\n",
    "\n",
    "# Take two sentences:\n",
    "# - Omnia vincit amor.\n",
    "# - Omnia vincit labor.\n",
    "\n",
    "# Reduce the setences to document-term matrix\n",
    "dtm = vectorizer.fit_transform(['Omnia vincit amor.', 'Omnia vincit labor.'])\n",
    "dtm = dtm.toarray()\n",
    "vocab = np.array(vectorizer.get_feature_names())\n",
    "\n",
    "# Print the complete list of words from both sentences\n",
    "print(vocab)\n",
    "print('\\n')\n",
    "\n",
    "# Print a table with the dtm\n",
    "pd.DataFrame(dtm, columns=vocab)\n"
   ]
  },
  {
   "cell_type": "code",
   "execution_count": 105,
   "metadata": {},
   "outputs": [
    {
     "name": "stdout",
     "output_type": "stream",
     "text": [
      "['ab' 'abeo' 'abicio' ..., 'zephyro' 'zephyrus' 'zetes']\n",
      "\n",
      "\n"
     ]
    },
    {
     "data": {
      "text/html": [
       "<div>\n",
       "<style>\n",
       "    .dataframe thead tr:only-child th {\n",
       "        text-align: right;\n",
       "    }\n",
       "\n",
       "    .dataframe thead th {\n",
       "        text-align: left;\n",
       "    }\n",
       "\n",
       "    .dataframe tbody tr th {\n",
       "        vertical-align: top;\n",
       "    }\n",
       "</style>\n",
       "<table border=\"1\" class=\"dataframe\">\n",
       "  <thead>\n",
       "    <tr style=\"text-align: right;\">\n",
       "      <th></th>\n",
       "      <th>ab</th>\n",
       "      <th>abeo</th>\n",
       "      <th>abicio</th>\n",
       "      <th>abripio</th>\n",
       "      <th>abstraho</th>\n",
       "      <th>absum</th>\n",
       "      <th>accedo</th>\n",
       "      <th>accendo</th>\n",
       "      <th>accipio</th>\n",
       "      <th>accumbo</th>\n",
       "      <th>...</th>\n",
       "      <th>uulnus</th>\n",
       "      <th>vago</th>\n",
       "      <th>vagus</th>\n",
       "      <th>venio</th>\n",
       "      <th>verro</th>\n",
       "      <th>vincio</th>\n",
       "      <th>violo</th>\n",
       "      <th>zephyro</th>\n",
       "      <th>zephyrus</th>\n",
       "      <th>zetes</th>\n",
       "    </tr>\n",
       "  </thead>\n",
       "  <tbody>\n",
       "    <tr>\n",
       "      <th>0</th>\n",
       "      <td>0</td>\n",
       "      <td>0</td>\n",
       "      <td>0</td>\n",
       "      <td>0</td>\n",
       "      <td>0</td>\n",
       "      <td>0</td>\n",
       "      <td>0</td>\n",
       "      <td>0</td>\n",
       "      <td>0</td>\n",
       "      <td>0</td>\n",
       "      <td>...</td>\n",
       "      <td>1</td>\n",
       "      <td>0</td>\n",
       "      <td>0</td>\n",
       "      <td>0</td>\n",
       "      <td>0</td>\n",
       "      <td>0</td>\n",
       "      <td>0</td>\n",
       "      <td>0</td>\n",
       "      <td>0</td>\n",
       "      <td>0</td>\n",
       "    </tr>\n",
       "    <tr>\n",
       "      <th>1</th>\n",
       "      <td>0</td>\n",
       "      <td>0</td>\n",
       "      <td>0</td>\n",
       "      <td>0</td>\n",
       "      <td>0</td>\n",
       "      <td>0</td>\n",
       "      <td>0</td>\n",
       "      <td>0</td>\n",
       "      <td>0</td>\n",
       "      <td>0</td>\n",
       "      <td>...</td>\n",
       "      <td>0</td>\n",
       "      <td>0</td>\n",
       "      <td>0</td>\n",
       "      <td>0</td>\n",
       "      <td>0</td>\n",
       "      <td>0</td>\n",
       "      <td>0</td>\n",
       "      <td>0</td>\n",
       "      <td>0</td>\n",
       "      <td>0</td>\n",
       "    </tr>\n",
       "    <tr>\n",
       "      <th>2</th>\n",
       "      <td>0</td>\n",
       "      <td>0</td>\n",
       "      <td>0</td>\n",
       "      <td>0</td>\n",
       "      <td>0</td>\n",
       "      <td>0</td>\n",
       "      <td>0</td>\n",
       "      <td>0</td>\n",
       "      <td>0</td>\n",
       "      <td>1</td>\n",
       "      <td>...</td>\n",
       "      <td>0</td>\n",
       "      <td>0</td>\n",
       "      <td>0</td>\n",
       "      <td>0</td>\n",
       "      <td>0</td>\n",
       "      <td>0</td>\n",
       "      <td>0</td>\n",
       "      <td>0</td>\n",
       "      <td>0</td>\n",
       "      <td>0</td>\n",
       "    </tr>\n",
       "    <tr>\n",
       "      <th>3</th>\n",
       "      <td>0</td>\n",
       "      <td>1</td>\n",
       "      <td>0</td>\n",
       "      <td>0</td>\n",
       "      <td>0</td>\n",
       "      <td>0</td>\n",
       "      <td>0</td>\n",
       "      <td>0</td>\n",
       "      <td>1</td>\n",
       "      <td>0</td>\n",
       "      <td>...</td>\n",
       "      <td>0</td>\n",
       "      <td>0</td>\n",
       "      <td>0</td>\n",
       "      <td>0</td>\n",
       "      <td>0</td>\n",
       "      <td>0</td>\n",
       "      <td>0</td>\n",
       "      <td>0</td>\n",
       "      <td>0</td>\n",
       "      <td>0</td>\n",
       "    </tr>\n",
       "    <tr>\n",
       "      <th>4</th>\n",
       "      <td>1</td>\n",
       "      <td>1</td>\n",
       "      <td>0</td>\n",
       "      <td>0</td>\n",
       "      <td>0</td>\n",
       "      <td>0</td>\n",
       "      <td>0</td>\n",
       "      <td>0</td>\n",
       "      <td>0</td>\n",
       "      <td>0</td>\n",
       "      <td>...</td>\n",
       "      <td>0</td>\n",
       "      <td>0</td>\n",
       "      <td>1</td>\n",
       "      <td>0</td>\n",
       "      <td>0</td>\n",
       "      <td>0</td>\n",
       "      <td>0</td>\n",
       "      <td>0</td>\n",
       "      <td>0</td>\n",
       "      <td>0</td>\n",
       "    </tr>\n",
       "    <tr>\n",
       "      <th>5</th>\n",
       "      <td>0</td>\n",
       "      <td>0</td>\n",
       "      <td>0</td>\n",
       "      <td>0</td>\n",
       "      <td>0</td>\n",
       "      <td>0</td>\n",
       "      <td>0</td>\n",
       "      <td>0</td>\n",
       "      <td>1</td>\n",
       "      <td>0</td>\n",
       "      <td>...</td>\n",
       "      <td>0</td>\n",
       "      <td>0</td>\n",
       "      <td>0</td>\n",
       "      <td>0</td>\n",
       "      <td>0</td>\n",
       "      <td>0</td>\n",
       "      <td>0</td>\n",
       "      <td>0</td>\n",
       "      <td>0</td>\n",
       "      <td>0</td>\n",
       "    </tr>\n",
       "    <tr>\n",
       "      <th>6</th>\n",
       "      <td>0</td>\n",
       "      <td>0</td>\n",
       "      <td>0</td>\n",
       "      <td>0</td>\n",
       "      <td>0</td>\n",
       "      <td>0</td>\n",
       "      <td>0</td>\n",
       "      <td>0</td>\n",
       "      <td>0</td>\n",
       "      <td>0</td>\n",
       "      <td>...</td>\n",
       "      <td>0</td>\n",
       "      <td>0</td>\n",
       "      <td>0</td>\n",
       "      <td>0</td>\n",
       "      <td>1</td>\n",
       "      <td>0</td>\n",
       "      <td>1</td>\n",
       "      <td>0</td>\n",
       "      <td>0</td>\n",
       "      <td>0</td>\n",
       "    </tr>\n",
       "    <tr>\n",
       "      <th>7</th>\n",
       "      <td>0</td>\n",
       "      <td>0</td>\n",
       "      <td>0</td>\n",
       "      <td>0</td>\n",
       "      <td>0</td>\n",
       "      <td>0</td>\n",
       "      <td>0</td>\n",
       "      <td>0</td>\n",
       "      <td>1</td>\n",
       "      <td>0</td>\n",
       "      <td>...</td>\n",
       "      <td>0</td>\n",
       "      <td>0</td>\n",
       "      <td>0</td>\n",
       "      <td>0</td>\n",
       "      <td>0</td>\n",
       "      <td>0</td>\n",
       "      <td>0</td>\n",
       "      <td>0</td>\n",
       "      <td>0</td>\n",
       "      <td>0</td>\n",
       "    </tr>\n",
       "    <tr>\n",
       "      <th>8</th>\n",
       "      <td>0</td>\n",
       "      <td>0</td>\n",
       "      <td>0</td>\n",
       "      <td>0</td>\n",
       "      <td>0</td>\n",
       "      <td>0</td>\n",
       "      <td>0</td>\n",
       "      <td>0</td>\n",
       "      <td>0</td>\n",
       "      <td>0</td>\n",
       "      <td>...</td>\n",
       "      <td>0</td>\n",
       "      <td>0</td>\n",
       "      <td>0</td>\n",
       "      <td>0</td>\n",
       "      <td>0</td>\n",
       "      <td>0</td>\n",
       "      <td>0</td>\n",
       "      <td>0</td>\n",
       "      <td>0</td>\n",
       "      <td>0</td>\n",
       "    </tr>\n",
       "    <tr>\n",
       "      <th>9</th>\n",
       "      <td>0</td>\n",
       "      <td>0</td>\n",
       "      <td>0</td>\n",
       "      <td>0</td>\n",
       "      <td>0</td>\n",
       "      <td>0</td>\n",
       "      <td>1</td>\n",
       "      <td>0</td>\n",
       "      <td>0</td>\n",
       "      <td>0</td>\n",
       "      <td>...</td>\n",
       "      <td>0</td>\n",
       "      <td>0</td>\n",
       "      <td>0</td>\n",
       "      <td>1</td>\n",
       "      <td>0</td>\n",
       "      <td>0</td>\n",
       "      <td>0</td>\n",
       "      <td>0</td>\n",
       "      <td>0</td>\n",
       "      <td>0</td>\n",
       "    </tr>\n",
       "    <tr>\n",
       "      <th>10</th>\n",
       "      <td>1</td>\n",
       "      <td>0</td>\n",
       "      <td>0</td>\n",
       "      <td>0</td>\n",
       "      <td>0</td>\n",
       "      <td>0</td>\n",
       "      <td>0</td>\n",
       "      <td>0</td>\n",
       "      <td>1</td>\n",
       "      <td>0</td>\n",
       "      <td>...</td>\n",
       "      <td>0</td>\n",
       "      <td>0</td>\n",
       "      <td>0</td>\n",
       "      <td>0</td>\n",
       "      <td>0</td>\n",
       "      <td>0</td>\n",
       "      <td>0</td>\n",
       "      <td>0</td>\n",
       "      <td>0</td>\n",
       "      <td>0</td>\n",
       "    </tr>\n",
       "    <tr>\n",
       "      <th>11</th>\n",
       "      <td>0</td>\n",
       "      <td>0</td>\n",
       "      <td>0</td>\n",
       "      <td>0</td>\n",
       "      <td>0</td>\n",
       "      <td>0</td>\n",
       "      <td>0</td>\n",
       "      <td>0</td>\n",
       "      <td>0</td>\n",
       "      <td>0</td>\n",
       "      <td>...</td>\n",
       "      <td>0</td>\n",
       "      <td>0</td>\n",
       "      <td>0</td>\n",
       "      <td>0</td>\n",
       "      <td>0</td>\n",
       "      <td>0</td>\n",
       "      <td>0</td>\n",
       "      <td>0</td>\n",
       "      <td>0</td>\n",
       "      <td>0</td>\n",
       "    </tr>\n",
       "    <tr>\n",
       "      <th>12</th>\n",
       "      <td>1</td>\n",
       "      <td>0</td>\n",
       "      <td>0</td>\n",
       "      <td>0</td>\n",
       "      <td>0</td>\n",
       "      <td>0</td>\n",
       "      <td>0</td>\n",
       "      <td>0</td>\n",
       "      <td>0</td>\n",
       "      <td>0</td>\n",
       "      <td>...</td>\n",
       "      <td>0</td>\n",
       "      <td>0</td>\n",
       "      <td>0</td>\n",
       "      <td>0</td>\n",
       "      <td>0</td>\n",
       "      <td>0</td>\n",
       "      <td>0</td>\n",
       "      <td>0</td>\n",
       "      <td>0</td>\n",
       "      <td>0</td>\n",
       "    </tr>\n",
       "    <tr>\n",
       "      <th>13</th>\n",
       "      <td>1</td>\n",
       "      <td>1</td>\n",
       "      <td>0</td>\n",
       "      <td>1</td>\n",
       "      <td>0</td>\n",
       "      <td>0</td>\n",
       "      <td>0</td>\n",
       "      <td>0</td>\n",
       "      <td>0</td>\n",
       "      <td>0</td>\n",
       "      <td>...</td>\n",
       "      <td>0</td>\n",
       "      <td>0</td>\n",
       "      <td>0</td>\n",
       "      <td>0</td>\n",
       "      <td>0</td>\n",
       "      <td>1</td>\n",
       "      <td>0</td>\n",
       "      <td>0</td>\n",
       "      <td>0</td>\n",
       "      <td>0</td>\n",
       "    </tr>\n",
       "    <tr>\n",
       "      <th>14</th>\n",
       "      <td>0</td>\n",
       "      <td>0</td>\n",
       "      <td>1</td>\n",
       "      <td>0</td>\n",
       "      <td>0</td>\n",
       "      <td>0</td>\n",
       "      <td>0</td>\n",
       "      <td>0</td>\n",
       "      <td>0</td>\n",
       "      <td>0</td>\n",
       "      <td>...</td>\n",
       "      <td>0</td>\n",
       "      <td>0</td>\n",
       "      <td>0</td>\n",
       "      <td>0</td>\n",
       "      <td>0</td>\n",
       "      <td>0</td>\n",
       "      <td>0</td>\n",
       "      <td>0</td>\n",
       "      <td>0</td>\n",
       "      <td>0</td>\n",
       "    </tr>\n",
       "    <tr>\n",
       "      <th>15</th>\n",
       "      <td>0</td>\n",
       "      <td>0</td>\n",
       "      <td>0</td>\n",
       "      <td>0</td>\n",
       "      <td>0</td>\n",
       "      <td>0</td>\n",
       "      <td>0</td>\n",
       "      <td>0</td>\n",
       "      <td>0</td>\n",
       "      <td>0</td>\n",
       "      <td>...</td>\n",
       "      <td>0</td>\n",
       "      <td>0</td>\n",
       "      <td>0</td>\n",
       "      <td>0</td>\n",
       "      <td>0</td>\n",
       "      <td>0</td>\n",
       "      <td>0</td>\n",
       "      <td>0</td>\n",
       "      <td>0</td>\n",
       "      <td>0</td>\n",
       "    </tr>\n",
       "    <tr>\n",
       "      <th>16</th>\n",
       "      <td>1</td>\n",
       "      <td>0</td>\n",
       "      <td>0</td>\n",
       "      <td>0</td>\n",
       "      <td>0</td>\n",
       "      <td>0</td>\n",
       "      <td>0</td>\n",
       "      <td>0</td>\n",
       "      <td>0</td>\n",
       "      <td>0</td>\n",
       "      <td>...</td>\n",
       "      <td>0</td>\n",
       "      <td>0</td>\n",
       "      <td>0</td>\n",
       "      <td>0</td>\n",
       "      <td>0</td>\n",
       "      <td>0</td>\n",
       "      <td>0</td>\n",
       "      <td>1</td>\n",
       "      <td>0</td>\n",
       "      <td>0</td>\n",
       "    </tr>\n",
       "    <tr>\n",
       "      <th>17</th>\n",
       "      <td>0</td>\n",
       "      <td>0</td>\n",
       "      <td>0</td>\n",
       "      <td>0</td>\n",
       "      <td>0</td>\n",
       "      <td>1</td>\n",
       "      <td>0</td>\n",
       "      <td>0</td>\n",
       "      <td>0</td>\n",
       "      <td>0</td>\n",
       "      <td>...</td>\n",
       "      <td>0</td>\n",
       "      <td>0</td>\n",
       "      <td>0</td>\n",
       "      <td>0</td>\n",
       "      <td>0</td>\n",
       "      <td>0</td>\n",
       "      <td>0</td>\n",
       "      <td>0</td>\n",
       "      <td>0</td>\n",
       "      <td>0</td>\n",
       "    </tr>\n",
       "    <tr>\n",
       "      <th>18</th>\n",
       "      <td>0</td>\n",
       "      <td>0</td>\n",
       "      <td>0</td>\n",
       "      <td>0</td>\n",
       "      <td>0</td>\n",
       "      <td>0</td>\n",
       "      <td>0</td>\n",
       "      <td>0</td>\n",
       "      <td>0</td>\n",
       "      <td>0</td>\n",
       "      <td>...</td>\n",
       "      <td>0</td>\n",
       "      <td>0</td>\n",
       "      <td>0</td>\n",
       "      <td>0</td>\n",
       "      <td>0</td>\n",
       "      <td>0</td>\n",
       "      <td>0</td>\n",
       "      <td>0</td>\n",
       "      <td>1</td>\n",
       "      <td>0</td>\n",
       "    </tr>\n",
       "    <tr>\n",
       "      <th>19</th>\n",
       "      <td>1</td>\n",
       "      <td>0</td>\n",
       "      <td>0</td>\n",
       "      <td>0</td>\n",
       "      <td>1</td>\n",
       "      <td>0</td>\n",
       "      <td>0</td>\n",
       "      <td>0</td>\n",
       "      <td>0</td>\n",
       "      <td>0</td>\n",
       "      <td>...</td>\n",
       "      <td>0</td>\n",
       "      <td>0</td>\n",
       "      <td>0</td>\n",
       "      <td>0</td>\n",
       "      <td>0</td>\n",
       "      <td>0</td>\n",
       "      <td>0</td>\n",
       "      <td>0</td>\n",
       "      <td>0</td>\n",
       "      <td>0</td>\n",
       "    </tr>\n",
       "    <tr>\n",
       "      <th>20</th>\n",
       "      <td>1</td>\n",
       "      <td>0</td>\n",
       "      <td>0</td>\n",
       "      <td>0</td>\n",
       "      <td>0</td>\n",
       "      <td>0</td>\n",
       "      <td>0</td>\n",
       "      <td>1</td>\n",
       "      <td>0</td>\n",
       "      <td>0</td>\n",
       "      <td>...</td>\n",
       "      <td>0</td>\n",
       "      <td>1</td>\n",
       "      <td>0</td>\n",
       "      <td>0</td>\n",
       "      <td>0</td>\n",
       "      <td>0</td>\n",
       "      <td>0</td>\n",
       "      <td>0</td>\n",
       "      <td>0</td>\n",
       "      <td>1</td>\n",
       "    </tr>\n",
       "    <tr>\n",
       "      <th>21</th>\n",
       "      <td>1</td>\n",
       "      <td>0</td>\n",
       "      <td>0</td>\n",
       "      <td>0</td>\n",
       "      <td>0</td>\n",
       "      <td>0</td>\n",
       "      <td>0</td>\n",
       "      <td>0</td>\n",
       "      <td>0</td>\n",
       "      <td>0</td>\n",
       "      <td>...</td>\n",
       "      <td>0</td>\n",
       "      <td>0</td>\n",
       "      <td>0</td>\n",
       "      <td>0</td>\n",
       "      <td>0</td>\n",
       "      <td>0</td>\n",
       "      <td>0</td>\n",
       "      <td>0</td>\n",
       "      <td>0</td>\n",
       "      <td>0</td>\n",
       "    </tr>\n",
       "    <tr>\n",
       "      <th>22</th>\n",
       "      <td>0</td>\n",
       "      <td>0</td>\n",
       "      <td>0</td>\n",
       "      <td>0</td>\n",
       "      <td>0</td>\n",
       "      <td>0</td>\n",
       "      <td>0</td>\n",
       "      <td>0</td>\n",
       "      <td>0</td>\n",
       "      <td>0</td>\n",
       "      <td>...</td>\n",
       "      <td>0</td>\n",
       "      <td>0</td>\n",
       "      <td>0</td>\n",
       "      <td>0</td>\n",
       "      <td>0</td>\n",
       "      <td>0</td>\n",
       "      <td>0</td>\n",
       "      <td>0</td>\n",
       "      <td>0</td>\n",
       "      <td>0</td>\n",
       "    </tr>\n",
       "  </tbody>\n",
       "</table>\n",
       "<p>23 rows × 1341 columns</p>\n",
       "</div>"
      ],
      "text/plain": [
       "    ab  abeo  abicio  abripio  abstraho  absum  accedo  accendo  accipio  \\\n",
       "0    0     0       0        0         0      0       0        0        0   \n",
       "1    0     0       0        0         0      0       0        0        0   \n",
       "2    0     0       0        0         0      0       0        0        0   \n",
       "3    0     1       0        0         0      0       0        0        1   \n",
       "4    1     1       0        0         0      0       0        0        0   \n",
       "5    0     0       0        0         0      0       0        0        1   \n",
       "6    0     0       0        0         0      0       0        0        0   \n",
       "7    0     0       0        0         0      0       0        0        1   \n",
       "8    0     0       0        0         0      0       0        0        0   \n",
       "9    0     0       0        0         0      0       1        0        0   \n",
       "10   1     0       0        0         0      0       0        0        1   \n",
       "11   0     0       0        0         0      0       0        0        0   \n",
       "12   1     0       0        0         0      0       0        0        0   \n",
       "13   1     1       0        1         0      0       0        0        0   \n",
       "14   0     0       1        0         0      0       0        0        0   \n",
       "15   0     0       0        0         0      0       0        0        0   \n",
       "16   1     0       0        0         0      0       0        0        0   \n",
       "17   0     0       0        0         0      1       0        0        0   \n",
       "18   0     0       0        0         0      0       0        0        0   \n",
       "19   1     0       0        0         1      0       0        0        0   \n",
       "20   1     0       0        0         0      0       0        1        0   \n",
       "21   1     0       0        0         0      0       0        0        0   \n",
       "22   0     0       0        0         0      0       0        0        0   \n",
       "\n",
       "    accumbo  ...    uulnus  vago  vagus  venio  verro  vincio  violo  zephyro  \\\n",
       "0         0  ...         1     0      0      0      0       0      0        0   \n",
       "1         0  ...         0     0      0      0      0       0      0        0   \n",
       "2         1  ...         0     0      0      0      0       0      0        0   \n",
       "3         0  ...         0     0      0      0      0       0      0        0   \n",
       "4         0  ...         0     0      1      0      0       0      0        0   \n",
       "5         0  ...         0     0      0      0      0       0      0        0   \n",
       "6         0  ...         0     0      0      0      1       0      1        0   \n",
       "7         0  ...         0     0      0      0      0       0      0        0   \n",
       "8         0  ...         0     0      0      0      0       0      0        0   \n",
       "9         0  ...         0     0      0      1      0       0      0        0   \n",
       "10        0  ...         0     0      0      0      0       0      0        0   \n",
       "11        0  ...         0     0      0      0      0       0      0        0   \n",
       "12        0  ...         0     0      0      0      0       0      0        0   \n",
       "13        0  ...         0     0      0      0      0       1      0        0   \n",
       "14        0  ...         0     0      0      0      0       0      0        0   \n",
       "15        0  ...         0     0      0      0      0       0      0        0   \n",
       "16        0  ...         0     0      0      0      0       0      0        1   \n",
       "17        0  ...         0     0      0      0      0       0      0        0   \n",
       "18        0  ...         0     0      0      0      0       0      0        0   \n",
       "19        0  ...         0     0      0      0      0       0      0        0   \n",
       "20        0  ...         0     1      0      0      0       0      0        0   \n",
       "21        0  ...         0     0      0      0      0       0      0        0   \n",
       "22        0  ...         0     0      0      0      0       0      0        0   \n",
       "\n",
       "    zephyrus  zetes  \n",
       "0          0      0  \n",
       "1          0      0  \n",
       "2          0      0  \n",
       "3          0      0  \n",
       "4          0      0  \n",
       "5          0      0  \n",
       "6          0      0  \n",
       "7          0      0  \n",
       "8          0      0  \n",
       "9          0      0  \n",
       "10         0      0  \n",
       "11         0      0  \n",
       "12         0      0  \n",
       "13         0      0  \n",
       "14         0      0  \n",
       "15         0      0  \n",
       "16         0      0  \n",
       "17         0      0  \n",
       "18         1      0  \n",
       "19         0      0  \n",
       "20         0      1  \n",
       "21         0      0  \n",
       "22         0      0  \n",
       "\n",
       "[23 rows x 1341 columns]"
      ]
     },
     "execution_count": 105,
     "metadata": {},
     "output_type": "execute_result"
    }
   ],
   "source": [
    "# Obviously for a complete work, the matrix is much larger (and more\n",
    "# sparse, i.e. lots of zeroes).\n",
    "\n",
    "dtm = vectorizer.fit_transform(propertius_lemmatized_texts)\n",
    "dtm = dtm.toarray()\n",
    "vocab = np.array(vectorizer.get_feature_names())\n",
    "\n",
    "# Print the complete list of words from both sentences\n",
    "print(vocab)\n",
    "print('\\n')\n",
    "\n",
    "# Print a table with the dtm\n",
    "pd.DataFrame(dtm, columns=vocab)\n"
   ]
  },
  {
   "cell_type": "markdown",
   "metadata": {},
   "source": [
    "## Plotting vector space"
   ]
  },
  {
   "cell_type": "code",
   "execution_count": 106,
   "metadata": {
    "collapsed": true
   },
   "outputs": [],
   "source": [
    "# Imports\n",
    "\n",
    "import matplotlib.pyplot as plt\n",
    "from sklearn.manifold import MDS\n",
    "from sklearn.metrics.pairwise import cosine_similarity"
   ]
  },
  {
   "cell_type": "code",
   "execution_count": 107,
   "metadata": {
    "collapsed": true
   },
   "outputs": [],
   "source": [
    "# Compute Euclidean distance across the document-term matrix\n",
    "dist = 1 - cosine_similarity(dtm)\n",
    "\n",
    "# Reduce dimensionality\n",
    "mds = MDS(n_components=2, dissimilarity='precomputed', random_state=1)\n",
    "\n",
    "# Get coordinates\n",
    "pos = mds.fit_transform(dist)\n",
    "xs, ys = pos[:,0], pos[:,1]"
   ]
  },
  {
   "cell_type": "code",
   "execution_count": 108,
   "metadata": {},
   "outputs": [
    {
     "data": {
      "image/png": "[encoded data removed]",
      "text/plain": [
       "<matplotlib.figure.Figure at 0x10e7e06a0>"
      ]
     },
     "metadata": {},
     "output_type": "display_data"
    }
   ],
   "source": [
    "# Create scatterplot\n",
    "\n",
    "plt.figure(figsize=(10,10))\n",
    "plt.title('Euclidean Distance for Vocabulary in Propertius 1')\n",
    "plt.scatter(xs, ys, cmap='spring')\n",
    "for x, y, name in zip(xs, ys, propertius_titles):\n",
    "    plt.text(x,y,name,alpha=0.5,fontsize=10)\n",
    "plt.show()"
   ]
  },
  {
   "cell_type": "code",
   "execution_count": 109,
   "metadata": {},
   "outputs": [
    {
     "data": {
      "image/png": "[encoded data removed]",
      "text/plain": [
       "<matplotlib.figure.Figure at 0x10fec57b8>"
      ]
     },
     "metadata": {},
     "output_type": "display_data"
    }
   ],
   "source": [
    "# We can view these distance measures as a branching tree as well\n",
    "\n",
    "from scipy.cluster.hierarchy import ward, dendrogram\n",
    "linkage_matrix = ward(dist)\n",
    "\n",
    "plt.figure(figsize=(10,10))\n",
    "plt.title('\"Dendrogram\" Distance for Vocabulary in Propertius 1')\n",
    "dendrogram(linkage_matrix, orientation=\"left\", labels=propertius_titles, leaf_font_size=12);\n",
    "plt.show()"
   ]
  },
  {
   "cell_type": "code",
   "execution_count": 110,
   "metadata": {},
   "outputs": [
    {
     "data": {
      "image/png": "[encoded data removed]",
      "text/plain": [
       "<matplotlib.figure.Figure at 0x1125a97b8>"
      ]
     },
     "metadata": {},
     "output_type": "display_data"
    }
   ],
   "source": [
    "# We can combine our two elegist to visualize them together\n",
    "\n",
    "texts = propertius_lemmatized_texts + tibullus_lemmatized_texts\n",
    "titles = propertius_titles + tibullus_titles\n",
    "\n",
    "dtm = vectorizer.fit_transform(texts)\n",
    "dtm = dtm.toarray()\n",
    "\n",
    "dist = 1 - cosine_similarity(dtm)\n",
    "mds = MDS(n_components=2, dissimilarity='precomputed', random_state=1)\n",
    "pos = mds.fit_transform(dist)\n",
    "linkage_matrix = ward(dist)\n",
    "\n",
    "plt.figure(figsize=(10,10))\n",
    "plt.title('\"Dendrogram\" Distance for Vocabulary in Propertius 1 & Tibullus 1')\n",
    "dendrogram(linkage_matrix, orientation=\"left\", labels=titles, leaf_font_size=12);\n",
    "plt.show()"
   ]
  },
  {
   "cell_type": "markdown",
   "metadata": {
    "collapsed": true
   },
   "source": [
    "\"The fact that four words (out of eighty-four) in a Propertian passage, and words that are hardly unusual or remarkable, bear some similarity to four words (out ofthirty-four) in some lines of Tibullus provides extremely weak grounds for claiming Propertian influence.\" (Murgatroyd, P. 1982. \"Reply to Review,\" *Acta Classica* 25: 145-147.)"
   ]
  },
  {
   "cell_type": "markdown",
   "metadata": {},
   "source": [
    "## Visualizing topics"
   ]
  },
  {
   "cell_type": "code",
   "execution_count": 111,
   "metadata": {
    "collapsed": true
   },
   "outputs": [],
   "source": [
    "# Get Latin stopword list\n",
    "\n",
    "from cltk.stop.latin.stops import STOPS_LIST as latin_stops"
   ]
  },
  {
   "cell_type": "code",
   "execution_count": 112,
   "metadata": {},
   "outputs": [
    {
     "name": "stdout",
     "output_type": "stream",
     "text": [
      "['ab', 'ac', 'ad', 'adhic', 'aliqui', 'aliquis', 'an', 'ante', 'apud', 'at', 'atque', 'aut', 'autem', 'cum', 'cur', 'de', 'deinde', 'dum', 'ego', 'enim', 'ergo', 'es', 'est', 'et', 'etiam', 'etsi', 'ex', 'fio', 'haud', 'hic', 'iam', 'idem', 'igitur', 'ille', 'in', 'infra', 'inter', 'interim', 'ipse', 'is', 'ita', 'magis', 'modo', 'mox', 'nam', 'ne', 'nec', 'necque', 'neque', 'nisi', 'non', 'nos', 'o', 'ob', 'per', 'possum', 'post', 'pro', 'quae', 'quam', 'quare', 'qui', 'quia', 'quicumque', 'quidem', 'quilibet', 'quis', 'quisnam', 'quisquam', 'quisque', 'quisquis', 'quo', 'quoniam', 'sed', 'si', 'sic', 'sive', 'sub', 'sui', 'sum', 'super', 'suus', 'tam', 'tamen', 'trans', 'tu', 'tum', 'ubi', 'uel', 'uero', 'unus', 'que']\n"
     ]
    }
   ],
   "source": [
    "latin_stops = latin_stops[:91]\n",
    "latin_stops.extend(['que'])\n",
    "print(latin_stops)"
   ]
  },
  {
   "cell_type": "code",
   "execution_count": 113,
   "metadata": {},
   "outputs": [
    {
     "data": {
      "text/plain": [
       "(33, 1031)"
      ]
     },
     "execution_count": 113,
     "metadata": {},
     "output_type": "execute_result"
    }
   ],
   "source": [
    "import sklearn.feature_extraction.text as text\n",
    "vectorizer = text.CountVectorizer(input='content', stop_words=latin_stops, min_df=2) # Note cutoff of two words\n",
    "dtm = vectorizer.fit_transform(texts).toarray()\n",
    "vocab = np.array(vectorizer.get_feature_names())\n",
    "\n",
    "dtm.shape"
   ]
  },
  {
   "cell_type": "code",
   "execution_count": 114,
   "metadata": {
    "collapsed": true
   },
   "outputs": [],
   "source": [
    "from sklearn import decomposition\n",
    "num_topics = 10\n",
    "num_top_words = 25\n",
    "clf = decomposition.NMF(n_components=num_topics, random_state=1) # Using non-negative matrix factorization\n",
    "\n",
    "# For more on NMF, see https://de.dariah.eu/tatom/topic_model_python.html\n",
    "\n",
    "doctopic = clf.fit_transform(dtm)"
   ]
  },
  {
   "cell_type": "code",
   "execution_count": 115,
   "metadata": {
    "collapsed": true
   },
   "outputs": [],
   "source": [
    "# Create list of words per \"topic\" (i.e. classifier component)\n",
    "\n",
    "topic_words = []\n",
    "\n",
    "for topic in clf.components_:\n",
    "    word_idx = np.argsort(topic)[::-1][0:num_top_words]\n",
    "    topic_words.append([vocab[i] for i in word_idx])\n"
   ]
  },
  {
   "cell_type": "code",
   "execution_count": 116,
   "metadata": {
    "collapsed": true
   },
   "outputs": [],
   "source": [
    "# Scale the document-component matrix such that the component values\n",
    "# associated with each document sum to one.\n",
    "\n",
    "doctopic = doctopic / np.sum(doctopic, axis=1, keepdims=True)"
   ]
  },
  {
   "cell_type": "code",
   "execution_count": 117,
   "metadata": {
    "collapsed": true
   },
   "outputs": [],
   "source": [
    "names = np.asarray(titles)\n",
    "doctopic_orig = doctopic.copy()\n",
    "\n",
    "# Create empty matrix\n",
    "num_groups = len(set(names))\n",
    "doctopic_grouped = np.zeros((num_groups, num_topics))\n"
   ]
  },
  {
   "cell_type": "code",
   "execution_count": 118,
   "metadata": {
    "collapsed": true
   },
   "outputs": [],
   "source": [
    "# Populate matrix \n",
    "\n",
    "for i, name in enumerate(sorted(set(names))):\n",
    "    doctopic_grouped[i, :] = np.mean(doctopic[names == name, :], axis=0)\n",
    "\n",
    "doctopic = doctopic_grouped"
   ]
  },
  {
   "cell_type": "code",
   "execution_count": 119,
   "metadata": {},
   "outputs": [
    {
     "data": {
      "text/html": [
       "<div>\n",
       "<style>\n",
       "    .dataframe thead tr:only-child th {\n",
       "        text-align: right;\n",
       "    }\n",
       "\n",
       "    .dataframe thead th {\n",
       "        text-align: left;\n",
       "    }\n",
       "\n",
       "    .dataframe tbody tr th {\n",
       "        vertical-align: top;\n",
       "    }\n",
       "</style>\n",
       "<table border=\"1\" class=\"dataframe\">\n",
       "  <thead>\n",
       "    <tr style=\"text-align: right;\">\n",
       "      <th></th>\n",
       "      <th>0</th>\n",
       "      <th>1</th>\n",
       "      <th>2</th>\n",
       "      <th>3</th>\n",
       "      <th>4</th>\n",
       "      <th>5</th>\n",
       "      <th>6</th>\n",
       "      <th>7</th>\n",
       "      <th>8</th>\n",
       "      <th>9</th>\n",
       "    </tr>\n",
       "  </thead>\n",
       "  <tbody>\n",
       "    <tr>\n",
       "      <th>Prop. 1.1</th>\n",
       "      <td>0.59</td>\n",
       "      <td>0.18</td>\n",
       "      <td>0.00</td>\n",
       "      <td>0.12</td>\n",
       "      <td>0.00</td>\n",
       "      <td>0.00</td>\n",
       "      <td>0.00</td>\n",
       "      <td>0.12</td>\n",
       "      <td>0.00</td>\n",
       "      <td>0.00</td>\n",
       "    </tr>\n",
       "    <tr>\n",
       "      <th>Prop. 1.2</th>\n",
       "      <td>0.65</td>\n",
       "      <td>0.00</td>\n",
       "      <td>0.00</td>\n",
       "      <td>0.15</td>\n",
       "      <td>0.01</td>\n",
       "      <td>0.00</td>\n",
       "      <td>0.00</td>\n",
       "      <td>0.00</td>\n",
       "      <td>0.18</td>\n",
       "      <td>0.00</td>\n",
       "    </tr>\n",
       "    <tr>\n",
       "      <th>Prop. 1.3</th>\n",
       "      <td>0.66</td>\n",
       "      <td>0.00</td>\n",
       "      <td>0.00</td>\n",
       "      <td>0.14</td>\n",
       "      <td>0.00</td>\n",
       "      <td>0.00</td>\n",
       "      <td>0.00</td>\n",
       "      <td>0.00</td>\n",
       "      <td>0.00</td>\n",
       "      <td>0.20</td>\n",
       "    </tr>\n",
       "    <tr>\n",
       "      <th>Prop. 1.4</th>\n",
       "      <td>0.76</td>\n",
       "      <td>0.00</td>\n",
       "      <td>0.06</td>\n",
       "      <td>0.00</td>\n",
       "      <td>0.00</td>\n",
       "      <td>0.03</td>\n",
       "      <td>0.00</td>\n",
       "      <td>0.11</td>\n",
       "      <td>0.00</td>\n",
       "      <td>0.04</td>\n",
       "    </tr>\n",
       "    <tr>\n",
       "      <th>Prop. 1.5</th>\n",
       "      <td>0.68</td>\n",
       "      <td>0.18</td>\n",
       "      <td>0.00</td>\n",
       "      <td>0.09</td>\n",
       "      <td>0.05</td>\n",
       "      <td>0.00</td>\n",
       "      <td>0.00</td>\n",
       "      <td>0.00</td>\n",
       "      <td>0.00</td>\n",
       "      <td>0.00</td>\n",
       "    </tr>\n",
       "    <tr>\n",
       "      <th>Prop. 1.6</th>\n",
       "      <td>0.54</td>\n",
       "      <td>0.17</td>\n",
       "      <td>0.00</td>\n",
       "      <td>0.20</td>\n",
       "      <td>0.00</td>\n",
       "      <td>0.00</td>\n",
       "      <td>0.09</td>\n",
       "      <td>0.00</td>\n",
       "      <td>0.00</td>\n",
       "      <td>0.00</td>\n",
       "    </tr>\n",
       "    <tr>\n",
       "      <th>Prop. 1.7</th>\n",
       "      <td>0.35</td>\n",
       "      <td>0.05</td>\n",
       "      <td>0.00</td>\n",
       "      <td>0.00</td>\n",
       "      <td>0.16</td>\n",
       "      <td>0.00</td>\n",
       "      <td>0.37</td>\n",
       "      <td>0.07</td>\n",
       "      <td>0.00</td>\n",
       "      <td>0.00</td>\n",
       "    </tr>\n",
       "    <tr>\n",
       "      <th>Prop. 1.8a</th>\n",
       "      <td>0.31</td>\n",
       "      <td>0.00</td>\n",
       "      <td>0.00</td>\n",
       "      <td>0.00</td>\n",
       "      <td>0.00</td>\n",
       "      <td>0.00</td>\n",
       "      <td>0.00</td>\n",
       "      <td>0.00</td>\n",
       "      <td>0.69</td>\n",
       "      <td>0.00</td>\n",
       "    </tr>\n",
       "    <tr>\n",
       "      <th>Prop. 1.8b</th>\n",
       "      <td>0.56</td>\n",
       "      <td>0.00</td>\n",
       "      <td>0.27</td>\n",
       "      <td>0.00</td>\n",
       "      <td>0.00</td>\n",
       "      <td>0.05</td>\n",
       "      <td>0.00</td>\n",
       "      <td>0.00</td>\n",
       "      <td>0.12</td>\n",
       "      <td>0.00</td>\n",
       "    </tr>\n",
       "    <tr>\n",
       "      <th>Prop. 1.9</th>\n",
       "      <td>0.61</td>\n",
       "      <td>0.00</td>\n",
       "      <td>0.09</td>\n",
       "      <td>0.00</td>\n",
       "      <td>0.12</td>\n",
       "      <td>0.00</td>\n",
       "      <td>0.00</td>\n",
       "      <td>0.00</td>\n",
       "      <td>0.18</td>\n",
       "      <td>0.00</td>\n",
       "    </tr>\n",
       "    <tr>\n",
       "      <th>Prop. 1.10</th>\n",
       "      <td>0.77</td>\n",
       "      <td>0.04</td>\n",
       "      <td>0.00</td>\n",
       "      <td>0.00</td>\n",
       "      <td>0.00</td>\n",
       "      <td>0.20</td>\n",
       "      <td>0.00</td>\n",
       "      <td>0.00</td>\n",
       "      <td>0.00</td>\n",
       "      <td>0.00</td>\n",
       "    </tr>\n",
       "    <tr>\n",
       "      <th>Prop. 1.11</th>\n",
       "      <td>0.19</td>\n",
       "      <td>0.12</td>\n",
       "      <td>0.00</td>\n",
       "      <td>0.00</td>\n",
       "      <td>0.18</td>\n",
       "      <td>0.00</td>\n",
       "      <td>0.00</td>\n",
       "      <td>0.22</td>\n",
       "      <td>0.03</td>\n",
       "      <td>0.26</td>\n",
       "    </tr>\n",
       "    <tr>\n",
       "      <th>Prop. 1.12</th>\n",
       "      <td>0.44</td>\n",
       "      <td>0.31</td>\n",
       "      <td>0.09</td>\n",
       "      <td>0.00</td>\n",
       "      <td>0.00</td>\n",
       "      <td>0.11</td>\n",
       "      <td>0.03</td>\n",
       "      <td>0.02</td>\n",
       "      <td>0.00</td>\n",
       "      <td>0.00</td>\n",
       "    </tr>\n",
       "    <tr>\n",
       "      <th>Prop. 1.13</th>\n",
       "      <td>0.47</td>\n",
       "      <td>0.00</td>\n",
       "      <td>0.00</td>\n",
       "      <td>0.00</td>\n",
       "      <td>0.17</td>\n",
       "      <td>0.00</td>\n",
       "      <td>0.08</td>\n",
       "      <td>0.00</td>\n",
       "      <td>0.28</td>\n",
       "      <td>0.00</td>\n",
       "    </tr>\n",
       "    <tr>\n",
       "      <th>Prop. 1.14</th>\n",
       "      <td>0.55</td>\n",
       "      <td>0.00</td>\n",
       "      <td>0.00</td>\n",
       "      <td>0.00</td>\n",
       "      <td>0.00</td>\n",
       "      <td>0.39</td>\n",
       "      <td>0.00</td>\n",
       "      <td>0.04</td>\n",
       "      <td>0.00</td>\n",
       "      <td>0.01</td>\n",
       "    </tr>\n",
       "    <tr>\n",
       "      <th>Prop. 1.15</th>\n",
       "      <td>0.41</td>\n",
       "      <td>0.00</td>\n",
       "      <td>0.03</td>\n",
       "      <td>0.00</td>\n",
       "      <td>0.00</td>\n",
       "      <td>0.06</td>\n",
       "      <td>0.00</td>\n",
       "      <td>0.50</td>\n",
       "      <td>0.00</td>\n",
       "      <td>0.00</td>\n",
       "    </tr>\n",
       "    <tr>\n",
       "      <th>Prop. 1.16</th>\n",
       "      <td>0.89</td>\n",
       "      <td>0.00</td>\n",
       "      <td>0.05</td>\n",
       "      <td>0.00</td>\n",
       "      <td>0.00</td>\n",
       "      <td>0.00</td>\n",
       "      <td>0.00</td>\n",
       "      <td>0.00</td>\n",
       "      <td>0.00</td>\n",
       "      <td>0.06</td>\n",
       "    </tr>\n",
       "    <tr>\n",
       "      <th>Prop. 1.17</th>\n",
       "      <td>0.58</td>\n",
       "      <td>0.00</td>\n",
       "      <td>0.00</td>\n",
       "      <td>0.09</td>\n",
       "      <td>0.25</td>\n",
       "      <td>0.00</td>\n",
       "      <td>0.00</td>\n",
       "      <td>0.00</td>\n",
       "      <td>0.08</td>\n",
       "      <td>0.00</td>\n",
       "    </tr>\n",
       "    <tr>\n",
       "      <th>Prop. 1.18</th>\n",
       "      <td>0.44</td>\n",
       "      <td>0.00</td>\n",
       "      <td>0.07</td>\n",
       "      <td>0.18</td>\n",
       "      <td>0.16</td>\n",
       "      <td>0.08</td>\n",
       "      <td>0.00</td>\n",
       "      <td>0.00</td>\n",
       "      <td>0.03</td>\n",
       "      <td>0.02</td>\n",
       "    </tr>\n",
       "    <tr>\n",
       "      <th>Prop. 1.19</th>\n",
       "      <td>0.65</td>\n",
       "      <td>0.16</td>\n",
       "      <td>0.00</td>\n",
       "      <td>0.00</td>\n",
       "      <td>0.00</td>\n",
       "      <td>0.00</td>\n",
       "      <td>0.02</td>\n",
       "      <td>0.08</td>\n",
       "      <td>0.02</td>\n",
       "      <td>0.06</td>\n",
       "    </tr>\n",
       "    <tr>\n",
       "      <th>Prop. 1.20</th>\n",
       "      <td>0.43</td>\n",
       "      <td>0.00</td>\n",
       "      <td>0.25</td>\n",
       "      <td>0.01</td>\n",
       "      <td>0.08</td>\n",
       "      <td>0.00</td>\n",
       "      <td>0.01</td>\n",
       "      <td>0.00</td>\n",
       "      <td>0.22</td>\n",
       "      <td>0.00</td>\n",
       "    </tr>\n",
       "    <tr>\n",
       "      <th>Prop. 1.21</th>\n",
       "      <td>0.36</td>\n",
       "      <td>0.15</td>\n",
       "      <td>0.17</td>\n",
       "      <td>0.00</td>\n",
       "      <td>0.01</td>\n",
       "      <td>0.00</td>\n",
       "      <td>0.00</td>\n",
       "      <td>0.01</td>\n",
       "      <td>0.30</td>\n",
       "      <td>0.00</td>\n",
       "    </tr>\n",
       "    <tr>\n",
       "      <th>Prop. 1.22</th>\n",
       "      <td>0.47</td>\n",
       "      <td>0.11</td>\n",
       "      <td>0.00</td>\n",
       "      <td>0.05</td>\n",
       "      <td>0.00</td>\n",
       "      <td>0.24</td>\n",
       "      <td>0.14</td>\n",
       "      <td>0.00</td>\n",
       "      <td>0.00</td>\n",
       "      <td>0.00</td>\n",
       "    </tr>\n",
       "    <tr>\n",
       "      <th>Tib. 1.1</th>\n",
       "      <td>0.00</td>\n",
       "      <td>0.00</td>\n",
       "      <td>1.00</td>\n",
       "      <td>0.00</td>\n",
       "      <td>0.00</td>\n",
       "      <td>0.00</td>\n",
       "      <td>0.00</td>\n",
       "      <td>0.00</td>\n",
       "      <td>0.00</td>\n",
       "      <td>0.00</td>\n",
       "    </tr>\n",
       "    <tr>\n",
       "      <th>Tib. 1.2</th>\n",
       "      <td>0.00</td>\n",
       "      <td>0.00</td>\n",
       "      <td>0.02</td>\n",
       "      <td>0.00</td>\n",
       "      <td>0.00</td>\n",
       "      <td>0.00</td>\n",
       "      <td>0.00</td>\n",
       "      <td>0.00</td>\n",
       "      <td>0.00</td>\n",
       "      <td>0.98</td>\n",
       "    </tr>\n",
       "    <tr>\n",
       "      <th>Tib. 1.3</th>\n",
       "      <td>0.00</td>\n",
       "      <td>0.00</td>\n",
       "      <td>0.00</td>\n",
       "      <td>1.00</td>\n",
       "      <td>0.00</td>\n",
       "      <td>0.00</td>\n",
       "      <td>0.00</td>\n",
       "      <td>0.00</td>\n",
       "      <td>0.00</td>\n",
       "      <td>0.00</td>\n",
       "    </tr>\n",
       "    <tr>\n",
       "      <th>Tib. 1.4</th>\n",
       "      <td>0.00</td>\n",
       "      <td>0.00</td>\n",
       "      <td>0.00</td>\n",
       "      <td>0.00</td>\n",
       "      <td>0.00</td>\n",
       "      <td>1.00</td>\n",
       "      <td>0.00</td>\n",
       "      <td>0.00</td>\n",
       "      <td>0.00</td>\n",
       "      <td>0.00</td>\n",
       "    </tr>\n",
       "    <tr>\n",
       "      <th>Tib. 1.5</th>\n",
       "      <td>0.00</td>\n",
       "      <td>1.00</td>\n",
       "      <td>0.00</td>\n",
       "      <td>0.00</td>\n",
       "      <td>0.00</td>\n",
       "      <td>0.00</td>\n",
       "      <td>0.00</td>\n",
       "      <td>0.00</td>\n",
       "      <td>0.00</td>\n",
       "      <td>0.00</td>\n",
       "    </tr>\n",
       "    <tr>\n",
       "      <th>Tib. 1.6</th>\n",
       "      <td>0.00</td>\n",
       "      <td>0.00</td>\n",
       "      <td>0.00</td>\n",
       "      <td>0.00</td>\n",
       "      <td>0.00</td>\n",
       "      <td>0.00</td>\n",
       "      <td>0.00</td>\n",
       "      <td>0.00</td>\n",
       "      <td>0.97</td>\n",
       "      <td>0.03</td>\n",
       "    </tr>\n",
       "    <tr>\n",
       "      <th>Tib. 1.7</th>\n",
       "      <td>0.00</td>\n",
       "      <td>0.00</td>\n",
       "      <td>0.01</td>\n",
       "      <td>0.00</td>\n",
       "      <td>0.00</td>\n",
       "      <td>0.00</td>\n",
       "      <td>0.98</td>\n",
       "      <td>0.00</td>\n",
       "      <td>0.01</td>\n",
       "      <td>0.00</td>\n",
       "    </tr>\n",
       "    <tr>\n",
       "      <th>Tib. 1.8</th>\n",
       "      <td>0.00</td>\n",
       "      <td>0.15</td>\n",
       "      <td>0.00</td>\n",
       "      <td>0.00</td>\n",
       "      <td>0.00</td>\n",
       "      <td>0.00</td>\n",
       "      <td>0.00</td>\n",
       "      <td>0.10</td>\n",
       "      <td>0.00</td>\n",
       "      <td>0.75</td>\n",
       "    </tr>\n",
       "    <tr>\n",
       "      <th>Tib. 1.9</th>\n",
       "      <td>0.00</td>\n",
       "      <td>0.00</td>\n",
       "      <td>0.00</td>\n",
       "      <td>0.00</td>\n",
       "      <td>0.00</td>\n",
       "      <td>0.00</td>\n",
       "      <td>0.00</td>\n",
       "      <td>1.00</td>\n",
       "      <td>0.00</td>\n",
       "      <td>0.00</td>\n",
       "    </tr>\n",
       "    <tr>\n",
       "      <th>Tib. 1.10</th>\n",
       "      <td>0.00</td>\n",
       "      <td>0.00</td>\n",
       "      <td>0.00</td>\n",
       "      <td>0.00</td>\n",
       "      <td>1.00</td>\n",
       "      <td>0.00</td>\n",
       "      <td>0.00</td>\n",
       "      <td>0.00</td>\n",
       "      <td>0.00</td>\n",
       "      <td>0.00</td>\n",
       "    </tr>\n",
       "  </tbody>\n",
       "</table>\n",
       "</div>"
      ],
      "text/plain": [
       "               0     1     2     3     4     5     6     7     8     9\n",
       "Prop. 1.1   0.59  0.18  0.00  0.12  0.00  0.00  0.00  0.12  0.00  0.00\n",
       "Prop. 1.2   0.65  0.00  0.00  0.15  0.01  0.00  0.00  0.00  0.18  0.00\n",
       "Prop. 1.3   0.66  0.00  0.00  0.14  0.00  0.00  0.00  0.00  0.00  0.20\n",
       "Prop. 1.4   0.76  0.00  0.06  0.00  0.00  0.03  0.00  0.11  0.00  0.04\n",
       "Prop. 1.5   0.68  0.18  0.00  0.09  0.05  0.00  0.00  0.00  0.00  0.00\n",
       "Prop. 1.6   0.54  0.17  0.00  0.20  0.00  0.00  0.09  0.00  0.00  0.00\n",
       "Prop. 1.7   0.35  0.05  0.00  0.00  0.16  0.00  0.37  0.07  0.00  0.00\n",
       "Prop. 1.8a  0.31  0.00  0.00  0.00  0.00  0.00  0.00  0.00  0.69  0.00\n",
       "Prop. 1.8b  0.56  0.00  0.27  0.00  0.00  0.05  0.00  0.00  0.12  0.00\n",
       "Prop. 1.9   0.61  0.00  0.09  0.00  0.12  0.00  0.00  0.00  0.18  0.00\n",
       "Prop. 1.10  0.77  0.04  0.00  0.00  0.00  0.20  0.00  0.00  0.00  0.00\n",
       "Prop. 1.11  0.19  0.12  0.00  0.00  0.18  0.00  0.00  0.22  0.03  0.26\n",
       "Prop. 1.12  0.44  0.31  0.09  0.00  0.00  0.11  0.03  0.02  0.00  0.00\n",
       "Prop. 1.13  0.47  0.00  0.00  0.00  0.17  0.00  0.08  0.00  0.28  0.00\n",
       "Prop. 1.14  0.55  0.00  0.00  0.00  0.00  0.39  0.00  0.04  0.00  0.01\n",
       "Prop. 1.15  0.41  0.00  0.03  0.00  0.00  0.06  0.00  0.50  0.00  0.00\n",
       "Prop. 1.16  0.89  0.00  0.05  0.00  0.00  0.00  0.00  0.00  0.00  0.06\n",
       "Prop. 1.17  0.58  0.00  0.00  0.09  0.25  0.00  0.00  0.00  0.08  0.00\n",
       "Prop. 1.18  0.44  0.00  0.07  0.18  0.16  0.08  0.00  0.00  0.03  0.02\n",
       "Prop. 1.19  0.65  0.16  0.00  0.00  0.00  0.00  0.02  0.08  0.02  0.06\n",
       "Prop. 1.20  0.43  0.00  0.25  0.01  0.08  0.00  0.01  0.00  0.22  0.00\n",
       "Prop. 1.21  0.36  0.15  0.17  0.00  0.01  0.00  0.00  0.01  0.30  0.00\n",
       "Prop. 1.22  0.47  0.11  0.00  0.05  0.00  0.24  0.14  0.00  0.00  0.00\n",
       "Tib. 1.1    0.00  0.00  1.00  0.00  0.00  0.00  0.00  0.00  0.00  0.00\n",
       "Tib. 1.2    0.00  0.00  0.02  0.00  0.00  0.00  0.00  0.00  0.00  0.98\n",
       "Tib. 1.3    0.00  0.00  0.00  1.00  0.00  0.00  0.00  0.00  0.00  0.00\n",
       "Tib. 1.4    0.00  0.00  0.00  0.00  0.00  1.00  0.00  0.00  0.00  0.00\n",
       "Tib. 1.5    0.00  1.00  0.00  0.00  0.00  0.00  0.00  0.00  0.00  0.00\n",
       "Tib. 1.6    0.00  0.00  0.00  0.00  0.00  0.00  0.00  0.00  0.97  0.03\n",
       "Tib. 1.7    0.00  0.00  0.01  0.00  0.00  0.00  0.98  0.00  0.01  0.00\n",
       "Tib. 1.8    0.00  0.15  0.00  0.00  0.00  0.00  0.00  0.10  0.00  0.75\n",
       "Tib. 1.9    0.00  0.00  0.00  0.00  0.00  0.00  0.00  1.00  0.00  0.00\n",
       "Tib. 1.10   0.00  0.00  0.00  0.00  1.00  0.00  0.00  0.00  0.00  0.00"
      ]
     },
     "execution_count": 119,
     "metadata": {},
     "output_type": "execute_result"
    }
   ],
   "source": [
    "# Make dataframe for clearer display\n",
    "\n",
    "df = pd.DataFrame(data=doctopic, index=titles).round(2)\n",
    "df"
   ]
  },
  {
   "cell_type": "code",
   "execution_count": 120,
   "metadata": {},
   "outputs": [
    {
     "name": "stdout",
     "output_type": "stream",
     "text": [
      "Top NMF topics in...\n",
      "Prop. 1.1: 0 1 7\n",
      "Prop. 1.2: 0 8 3\n",
      "Prop. 1.3: 0 9 3\n",
      "Prop. 1.4: 0 7 2\n",
      "Prop. 1.5: 0 1 3\n",
      "Prop. 1.6: 0 3 1\n",
      "Prop. 1.7: 6 0 4\n",
      "Prop. 1.8a: 8 0 9\n",
      "Prop. 1.8b: 0 2 8\n",
      "Prop. 1.9: 0 8 4\n",
      "Prop. 1.10: 0 5 1\n",
      "Prop. 1.11: 9 7 0\n",
      "Prop. 1.12: 0 1 5\n",
      "Prop. 1.13: 0 8 4\n",
      "Prop. 1.14: 0 5 7\n",
      "Prop. 1.15: 7 0 5\n",
      "Prop. 1.16: 0 9 2\n",
      "Prop. 1.17: 0 4 3\n",
      "Prop. 1.18: 0 3 4\n",
      "Prop. 1.19: 0 1 7\n",
      "Prop. 1.20: 0 2 8\n",
      "Prop. 1.21: 0 8 2\n",
      "Prop. 1.22: 0 5 6\n",
      "Tib. 1.1: 2 9 8\n",
      "Tib. 1.2: 9 2 8\n",
      "Tib. 1.3: 3 9 8\n",
      "Tib. 1.4: 5 9 8\n",
      "Tib. 1.5: 1 9 8\n",
      "Tib. 1.6: 8 9 1\n",
      "Tib. 1.7: 6 8 2\n",
      "Tib. 1.8: 9 1 7\n",
      "Tib. 1.9: 7 9 8\n",
      "Tib. 1.10: 4 9 8\n"
     ]
    }
   ],
   "source": [
    "# Show top three topics per document\n",
    "\n",
    "print(\"Top NMF topics in...\")\n",
    "for i in range(len(doctopic)):\n",
    "    top_topics = np.argsort(doctopic[i,:])[::-1][0:3]\n",
    "    top_topics_str = ' '.join(str(t) for t in top_topics)\n",
    "    print(\"{}: {}\".format(titles[i], top_topics_str))"
   ]
  },
  {
   "cell_type": "code",
   "execution_count": 123,
   "metadata": {},
   "outputs": [
    {
     "name": "stdout",
     "output_type": "stream",
     "text": [
      "Topic 0: amor meus cynthia noster tuus puella nullus durus dolor ut ullus cogo eo primus quaero carmen longus saepe ocellus semper labor solus tantus uerbum dico\n",
      "Topic 1: uolo puer amor do dies aqua uenus doceo primus fero annus tener capio ars nudus deus nego heu cito longus eo tuus uinco leuis iuuenis\n",
      "Topic 2: meus fero pono teneo nunc tener iners parco fleo domus lio ut sinus paruus uia seu do bonus satis lectus aurum puella contineo pomum exiguus\n",
      "Topic 3: amor pono neu uenus meus seu totus deus nox dico teneo uolo puella omnis magicus iuuenis credo solus lumen cantus multus mollis uideo ianua lio\n",
      "Topic 4: tuus multus meus deus puer facio aurum amor uerbum uolo miser fleo corpus pes uendo saepe fero nunc noster munus poena uro peto do nullus\n",
      "Topic 5: nunc illic terra amor os mors porto sacer lio do dico tuus semper longus unda uia auis precor foris teneo deus meus manus puer uenio\n",
      "Topic 6: amor tuus ut manus duco magnus procul sto meus multus credo saepe sanguis timeo dico nunc alius nescio dea deus absum pes lio foris nox\n",
      "Topic 7: do deus ut cantus puer uenus nox saepe caput serus osculum miser nunc muto amo mollis durus munus tempus omnis multus capillus fallo consero sinus\n",
      "Topic 8: meus nunc pauper omnis uotum uerbum dico domina deus amo solus semper saepe do manus furtivus felix fero amor tristis asper ago saeuus relinquo adsum\n",
      "Topic 9: tener gero primus facio bellum candidus uenio do satis aqua caput ut punc arma fundo fleo uestis durus tristis merus dux laris capillus uua alo\n"
     ]
    }
   ],
   "source": [
    "# Show words associated with each document\n",
    "\n",
    "for t in range(len(topic_words)):\n",
    "    print(\"Topic {}: {}\".format(t, ' '.join(topic_words[t][:25])))"
   ]
  },
  {
   "cell_type": "code",
   "execution_count": 124,
   "metadata": {},
   "outputs": [
    {
     "data": {
      "image/png": "[encoded data removed]",
      "text/plain": [
       "<matplotlib.figure.Figure at 0x10d9eef28>"
      ]
     },
     "metadata": {},
     "output_type": "display_data"
    }
   ],
   "source": [
    "# Make heatmap of topics\n",
    "\n",
    "N, K = doctopic.shape  # N documents, K topics\n",
    "topic_labels = ['Topic #{}'.format(k) for k in range(K)]\n",
    "\n",
    "plt.figure(figsize=(12,10))\n",
    "plt.title(\"Heatmap of Topics in Propertius 1 & Tibullus 1\")\n",
    "plt.pcolor(doctopic, norm=None, cmap='Reds')\n",
    "plt.yticks(np.arange(doctopic.shape[0])+0.5, names);\n",
    "plt.xticks(np.arange(doctopic.shape[1])+0.5, topic_labels);\n",
    "plt.gca().invert_yaxis()\n",
    "plt.xticks(rotation=90)\n",
    "plt.colorbar(cmap='Reds')\n",
    "plt.show()"
   ]
  },
  {
   "cell_type": "code",
   "execution_count": 125,
   "metadata": {},
   "outputs": [
    {
     "name": "stdout",
     "output_type": "stream",
     "text": [
      "Topic 0: amor meus cynthia noster tuus puella nullus durus dolor ut ullus cogo eo primus quaero\n",
      "Topic 1: uolo puer amor do dies aqua uenus doceo primus fero annus tener capio ars nudus\n",
      "Topic 2: meus fero pono teneo nunc tener iners parco fleo domus lio ut sinus paruus uia\n",
      "Topic 3: amor pono neu uenus meus seu totus deus nox dico teneo uolo puella omnis magicus\n",
      "Topic 4: tuus multus meus deus puer facio aurum amor uerbum uolo miser fleo corpus pes uendo\n",
      "Topic 5: nunc illic terra amor os mors porto sacer lio do dico tuus semper longus unda\n",
      "Topic 6: amor tuus ut manus duco magnus procul sto meus multus credo saepe sanguis timeo dico\n",
      "Topic 7: do deus ut cantus puer uenus nox saepe caput serus osculum miser nunc muto amo\n",
      "Topic 8: meus nunc pauper omnis uotum uerbum dico domina deus amo solus semper saepe do manus\n",
      "Topic 9: tener gero primus facio bellum candidus uenio do satis aqua caput ut punc arma fundo\n"
     ]
    }
   ],
   "source": [
    "# Show list of words again\n",
    "\n",
    "for t in range(len(topic_words)):\n",
    "    print(\"Topic {}: {}\".format(t, ' '.join(topic_words[t][:15])))"
   ]
  },
  {
   "cell_type": "code",
   "execution_count": 126,
   "metadata": {
    "collapsed": true
   },
   "outputs": [],
   "source": [
    "latin_stops.extend(['cynthia'])"
   ]
  },
  {
   "cell_type": "code",
   "execution_count": 127,
   "metadata": {},
   "outputs": [
    {
     "data": {
      "text/plain": [
       "(33, 1030)"
      ]
     },
     "execution_count": 127,
     "metadata": {},
     "output_type": "execute_result"
    }
   ],
   "source": [
    "import sklearn.feature_extraction.text as text\n",
    "vectorizer = text.CountVectorizer(input='content', stop_words=latin_stops, min_df=2) # Note cutoff of two words\n",
    "dtm = vectorizer.fit_transform(texts).toarray()\n",
    "vocab = np.array(vectorizer.get_feature_names())\n",
    "\n",
    "dtm.shape"
   ]
  },
  {
   "cell_type": "code",
   "execution_count": 128,
   "metadata": {
    "collapsed": true
   },
   "outputs": [],
   "source": [
    "from sklearn import decomposition\n",
    "num_topics = 10\n",
    "num_top_words = 25\n",
    "clf = decomposition.NMF(n_components=num_topics, random_state=1) # Using non-negative matrix factorization\n",
    "\n",
    "# For more on NMF, see https://de.dariah.eu/tatom/topic_model_python.html\n",
    "\n",
    "doctopic = clf.fit_transform(dtm)"
   ]
  },
  {
   "cell_type": "code",
   "execution_count": 129,
   "metadata": {
    "collapsed": true
   },
   "outputs": [],
   "source": [
    "# Create list of words per \"topic\" (i.e. classifier component)\n",
    "\n",
    "topic_words = []\n",
    "\n",
    "for topic in clf.components_:\n",
    "    word_idx = np.argsort(topic)[::-1][0:num_top_words]\n",
    "    topic_words.append([vocab[i] for i in word_idx])"
   ]
  },
  {
   "cell_type": "code",
   "execution_count": 130,
   "metadata": {
    "collapsed": true
   },
   "outputs": [],
   "source": [
    "# Scale the document-component matrix such that the component values\n",
    "# associated with each document sum to one.\n",
    "\n",
    "doctopic = doctopic / np.sum(doctopic, axis=1, keepdims=True)"
   ]
  },
  {
   "cell_type": "code",
   "execution_count": 131,
   "metadata": {
    "collapsed": true
   },
   "outputs": [],
   "source": [
    "names = np.asarray(titles)\n",
    "doctopic_orig = doctopic.copy()\n",
    "\n",
    "# Create empty matrix\n",
    "num_groups = len(set(names))\n",
    "doctopic_grouped = np.zeros((num_groups, num_topics))"
   ]
  },
  {
   "cell_type": "code",
   "execution_count": 132,
   "metadata": {
    "collapsed": true
   },
   "outputs": [],
   "source": [
    "# Populate matrix \n",
    "\n",
    "for i, name in enumerate(sorted(set(names))):\n",
    "    doctopic_grouped[i, :] = np.mean(doctopic[names == name, :], axis=0)\n",
    "\n",
    "doctopic = doctopic_grouped"
   ]
  },
  {
   "cell_type": "code",
   "execution_count": 133,
   "metadata": {
    "collapsed": true
   },
   "outputs": [],
   "source": [
    "# Make dataframe for clearer display\n",
    "\n",
    "df = pd.DataFrame(data=doctopic, index=titles).round(2)"
   ]
  },
  {
   "cell_type": "code",
   "execution_count": 134,
   "metadata": {},
   "outputs": [
    {
     "name": "stdout",
     "output_type": "stream",
     "text": [
      "Topic 0: amor meus noster tuus puella nullus durus dolor ut cogo ullus eo quaero carmen saepe primus semper labor ocellus longus dico uerbum tantus manus pereo\n",
      "Topic 1: uolo puer amor do dies aqua uenus doceo primus fero annus capio tener ars nego nudus heu deus cito longus eo tuus uinco terra leuis\n",
      "Topic 2: meus fero teneo pono tener iners nunc parco fleo domus lio ut sinus do paruus uia seu lectus bonus satis puella contineo aurum exiguus uenio\n",
      "Topic 3: amor pono neu uenus meus seu totus deus nox teneo dico omnis uolo puella noster solus magicus multus mollis credo iuuenis lumen cantus lio ianua\n",
      "Topic 4: tuus multus meus deus facio puer aurum amor uerbum miser uolo fleo pes corpus uendo noster nunc saepe munus fero uro peto poena do duco\n",
      "Topic 5: nunc illic terra amor os mors porto sacer lio do dico longus tuus semper uia unda foris auis precor teneo deus meus puer manus uenio\n",
      "Topic 6: amor tuus ut duco manus magnus sto procul meus multus credo saepe sanguis timeo dico nunc deus nescio dea alius absum pes lio foris nox\n",
      "Topic 7: do deus ut cantus puer uenus nox saepe caput serus osculum miser nunc muto amo mollis durus tempus munus omnis multus capillus fallo consero sinus\n",
      "Topic 8: meus nunc pauper omnis uotum uerbum dico domina deus amo solus do semper saepe felix furtivus manus fero asper tristis saeuus consuesco ago relinquo scio\n",
      "Topic 9: tener gero primus facio bellum uenio candidus do satis aqua ut caput punc arma fundo fleo uestis durus tristis merus dux laris capillus uua alo\n"
     ]
    }
   ],
   "source": [
    "# Show words associated with each document\n",
    "\n",
    "for t in range(len(topic_words)):\n",
    "    print(\"Topic {}: {}\".format(t, ' '.join(topic_words[t][:25])))"
   ]
  },
  {
   "cell_type": "code",
   "execution_count": 135,
   "metadata": {},
   "outputs": [
    {
     "data": {
      "image/png": "[encoded data removed]",
      "text/plain": [
       "<matplotlib.figure.Figure at 0x1113f5128>"
      ]
     },
     "metadata": {},
     "output_type": "display_data"
    }
   ],
   "source": [
    "# Make heatmap of topics\n",
    "\n",
    "N, K = doctopic.shape  # N documents, K topics\n",
    "topic_labels = ['Topic #{}'.format(k) for k in range(K)]\n",
    "\n",
    "plt.figure(figsize=(12,10))\n",
    "plt.title(\"Heatmap of Topics in Propertius 1 & Tibullus 1 (without 'cynthia')\")\n",
    "plt.pcolor(doctopic, norm=None, cmap='Reds')\n",
    "plt.yticks(np.arange(doctopic.shape[0])+0.5, names);\n",
    "plt.xticks(np.arange(doctopic.shape[1])+0.5, topic_labels);\n",
    "plt.gca().invert_yaxis()\n",
    "plt.xticks(rotation=90)\n",
    "plt.colorbar(cmap='Reds')\n",
    "plt.show()"
   ]
  },
  {
   "cell_type": "code",
   "execution_count": null,
   "metadata": {
    "collapsed": true
   },
   "outputs": [],
   "source": []
  },
  {
   "cell_type": "code",
   "execution_count": null,
   "metadata": {
    "collapsed": true
   },
   "outputs": [],
   "source": []
  }
 ],
 "metadata": {
  "kernelspec": {
   "display_name": "Python 3",
   "language": "python",
   "name": "python3"
  },
  "language_info": {
   "codemirror_mode": {
    "name": "ipython",
    "version": 3
   },
   "file_extension": ".py",
   "mimetype": "text/x-python",
   "name": "python",
   "nbconvert_exporter": "python",
   "pygments_lexer": "ipython3",
   "version": "3.7.0"
  }
 },
 "nbformat": 4,
 "nbformat_minor": 1
}
