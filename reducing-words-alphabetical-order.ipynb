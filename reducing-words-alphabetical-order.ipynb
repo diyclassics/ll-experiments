{
 "cells": [
  {
   "cell_type": "markdown",
   "metadata": {},
   "source": [
    "# Reducing Words to Alphabetical Order (Following Ahl 1988)\n",
    "\n",
    "Ahl in \\(Culler 1988, [*On Puns*](https://ecommons.cornell.edu/handle/1813/3659)\\) writes on anagrammatic possibility and \"randomness\": \"I do not know of any systematic attempt to determine the frequency of their occurence in Latin literature, but a computer program which reduces words to alphabetical order would help.\" Below is such a computer program, limited in scope to Ovid's *Metamophoses* (I just finished rereading *Metaformations* and couldn't resist), but easily extensible to other texts. More on [Twitter](#), including [this related post](https://twitter.com/diyclassics/status/956607514648424448). \\[PJB 4.7.2020\\]"
   ]
  },
  {
   "cell_type": "code",
   "execution_count": 1,
   "metadata": {},
   "outputs": [],
   "source": [
    "# Imports\n",
    "\n",
    "import os\n",
    "import string\n",
    "import re\n",
    "import html  \n",
    "\n",
    "from random import sample\n",
    "from collections import Counter\n",
    "from functools import reduce\n",
    "from natsort import natsorted\n",
    "\n",
    "from pprint import pprint\n",
    "\n",
    "from cltk.corpus.readers import get_corpus_reader\n",
    "from cltk.stem.latin.j_v import JVReplacer\n",
    "from cltk.tokenize.line import LineTokenizer\n",
    "\n",
    "from ll_tools import preprocess"
   ]
  },
  {
   "cell_type": "code",
   "execution_count": 2,
   "metadata": {},
   "outputs": [],
   "source": [
    "# Setup CLTK tools\n",
    "\n",
    "line_tokenizer = LineTokenizer('latin')\n",
    "replacer = JVReplacer()"
   ]
  },
  {
   "cell_type": "code",
   "execution_count": 3,
   "metadata": {},
   "outputs": [],
   "source": [
    "# Preprocess texts\n",
    "\n",
    "def preprocess(text):\n",
    "\n",
    "    remove_list = [\n",
    "                   r'\\bMetamorposes\\b',\n",
    "                   r'Ovid: Metamorphoses .+',\n",
    "                   r'P. OVIDI NASONIS METAMORPHOSEN LIBER .+',                  \n",
    "                  ]\n",
    "    \n",
    "    for pattern in remove_list:\n",
    "        text = re.sub(pattern, '', text)\n",
    "    \n",
    "    text = html.unescape(text) # Handle html entities\n",
    "    text = re.sub(r'&nbsp;?', ' ',text) #&nbsp; stripped incorrectly in corpus?\n",
    "    text = re.sub(r'\\x00',' ',text) #Another space problem?\n",
    "    \n",
    "    # Fix partial lines\n",
    "    text = re.sub(r'\\d+(a|b)', ' ', text)\n",
    "        \n",
    "    text = text.lower()\n",
    "    text = replacer.replace(text) #Normalize u/v & i/j    \n",
    "    \n",
    "    punctuation =\"\\\"#$%&\\'()*+,-/:;<=>@[\\]^_`{|}~.?!«»—\"\n",
    "    translator = str.maketrans({key: \" \" for key in punctuation})\n",
    "    text = text.translate(translator)\n",
    "    \n",
    "    translator = str.maketrans({key: \" \" for key in '0123456789'})\n",
    "    text = text.translate(translator)\n",
    "    \n",
    "    text = re.sub('[ ]+',' ', text) # Remove double spaces\n",
    "    text = re.sub('\\s+\\n+\\s+','\\n', text) # Remove double lines and trim spaces around new lines\n",
    "    \n",
    "    return text.strip()"
   ]
  },
  {
   "cell_type": "code",
   "execution_count": 4,
   "metadata": {},
   "outputs": [],
   "source": [
    "# # Set up corpus\n",
    "\n",
    "ll = get_corpus_reader(corpus_name = 'latin_text_latin_library', language = 'latin')\n",
    "files = ll.fileids()\n",
    "ovid = \"\\n\".join([preprocess(ll.raw(file)) for file in files if 'ovid.m' in file])\n",
    "ovid_lines = [line.strip() for line in line_tokenizer.tokenize(ovid)]"
   ]
  },
  {
   "cell_type": "code",
   "execution_count": 5,
   "metadata": {},
   "outputs": [
    {
     "data": {
      "text/plain": [
       "['in noua fert animus mutatas dicere formas',\n",
       " 'corpora di coeptis nam uos mutastis et illas',\n",
       " 'adspirate meis primaque ab origine mundi',\n",
       " 'ad mea perpetuum deducite tempora carmen']"
      ]
     },
     "execution_count": 5,
     "metadata": {},
     "output_type": "execute_result"
    }
   ],
   "source": [
    "ovid_lines[:4]"
   ]
  },
  {
   "cell_type": "code",
   "execution_count": 6,
   "metadata": {},
   "outputs": [],
   "source": [
    "def alphabetize_tokens(word):\n",
    "    word = ''.join(sorted(word))\n",
    "    return word\n",
    "\n",
    "def alphabetize_tokens_line(line):\n",
    "    line_tokens = line.split()\n",
    "    return [alphabetize_tokens(token) for token in line_tokens]\n",
    "\n",
    "def alphabetize_tuples(word):\n",
    "    return (word, ''.join(sorted(word)))\n",
    "\n",
    "def alphabetize_tuples_line(line):\n",
    "    line_tokens = line.split()\n",
    "    return [alphabetize_tuples(token) for token in line_tokens]"
   ]
  },
  {
   "cell_type": "code",
   "execution_count": 7,
   "metadata": {},
   "outputs": [],
   "source": [
    "ahl_lines = [\" \".join(alphabetize_tokens_line(line)) for line in ovid_lines]"
   ]
  },
  {
   "cell_type": "code",
   "execution_count": 8,
   "metadata": {},
   "outputs": [
    {
     "name": "stdout",
     "output_type": "stream",
     "text": [
      "in anou efrt aimnsu aamsttu cdeeir afmors\n",
      "acooprr di ceiopst amn osu aimssttu et aills\n",
      "aadeiprst eims aeimpqru ab egiinor dimnu\n",
      "ad aem eempprtuu cddeeitu aemoprt acemnr\n"
     ]
    }
   ],
   "source": [
    "print(\"\\n\".join(ahl_lines[:4]))"
   ]
  },
  {
   "cell_type": "code",
   "execution_count": 9,
   "metadata": {},
   "outputs": [],
   "source": [
    "ahl_words = reduce(lambda x,y: x+y, [line.split() for line in ahl_lines])"
   ]
  },
  {
   "cell_type": "code",
   "execution_count": 10,
   "metadata": {},
   "outputs": [
    {
     "data": {
      "text/plain": [
       "[('et', 2269),\n",
       " ('in', 1093),\n",
       " ('est', 980),\n",
       " ('cen', 630),\n",
       " ('nno', 588),\n",
       " ('cmu', 410),\n",
       " ('tu', 381),\n",
       " ('aemnt', 304),\n",
       " ('aequ', 299),\n",
       " ('des', 297),\n",
       " ('ad', 286),\n",
       " ('epr', 276),\n",
       " ('eoqquu', 274),\n",
       " ('hiim', 273),\n",
       " ('doqu', 270),\n",
       " ('aert', 268),\n",
       " ('is', 264),\n",
       " ('aill', 221),\n",
       " ('eill', 212),\n",
       " ('amqu', 210),\n",
       " ('iqu', 206),\n",
       " ('ab', 190),\n",
       " ('atu', 190),\n",
       " ('em', 190),\n",
       " ('diqu', 185)]"
      ]
     },
     "execution_count": 10,
     "metadata": {},
     "output_type": "execute_result"
    }
   ],
   "source": [
    "Counter(ahl_words).most_common(25)"
   ]
  },
  {
   "cell_type": "code",
   "execution_count": 11,
   "metadata": {},
   "outputs": [
    {
     "name": "stdout",
     "output_type": "stream",
     "text": [
      "Most common anagram forms of length 1:\n",
      "a, o, e, i, c\n",
      "\n",
      "Most common anagram forms of length 2:\n",
      "et, in, tu, ad, is\n",
      "\n",
      "Most common anagram forms of length 3:\n",
      "est, cen, nno, cmu, des\n",
      "\n",
      "Most common anagram forms of length 4:\n",
      "aequ, hiim, doqu, aert, aill\n",
      "\n",
      "Most common anagram forms of length 5:\n",
      "aemnt, diitx, aeprt, aimno, eenqu\n",
      "\n",
      "Most common anagram forms of length 6:\n",
      "eoqquu, iinqtu, coprsu, ellstu, lstuuu\n",
      "\n",
      "Most common anagram forms of length 7:\n",
      "ceooprr, acooprr, aceoprt, aemoprt, cinnoux\n",
      "\n",
      "Most common anagram forms of length 8:\n",
      "aeginnsu, amopqstu, aabcchir, eiipprtu, inoprstu\n",
      "\n",
      "Most common anagram forms of length 9:\n",
      "ciinosttt, aaegirttu, aiimnossu, aeimnqquu, aeeinnstt\n",
      "\n",
      "Most common anagram forms of length 10:\n",
      "aeeipqrrtu, aceemqquuu, ceeginnort, deeimoqttu, aacdeioprr\n",
      "\n",
      "Most common anagram forms of length 11:\n",
      "aaeeilmnqtu, aceilmprttu, aceiilmqrsu, abceeilsstu, aaceeilmqru\n",
      "\n",
      "Most common anagram forms of length 12:\n",
      "aaceilmqrsuu, ccciiimprstu, ceiiimnrrstu, aaeinoprrstt, abcdeeiiilmn\n",
      "\n",
      "Most common anagram forms of length 13:\n",
      "fiimmoorssssu, abceiinprsttu, abeegiilnnpux, aeeeeginpqrru, bceeiopqrstuu\n",
      "\n",
      "Most common anagram forms of length 14:\n",
      "aaeeemppqrtttu, deeeghhilnoptt, bccdeeeinrsstu, cceeiinnoqsssu, ceeeillmnqttuu\n",
      "\n",
      "Most common anagram forms of length 15:\n",
      "aaaacehimqsstuu, aacdeeimmnnoqtu, aabeefiimnqsttu, aaadehiimnoprty, aaaeiimnprssstt\n",
      "\n",
      "Most common anagram forms of length 16:\n",
      "aaabfmnnorrrsttu, aaaadeehimnqsttu, ceefiiinopqrsttu, aacdeeeilmmnoquu, ceeefiilmnqrstuu\n",
      "\n",
      "Most common anagram forms of length 17:\n",
      "aacceeenopqrrtttu\n",
      "\n"
     ]
    }
   ],
   "source": [
    "for i in range(1, 18):\n",
    "    words = [word for word in ahl_words if len(word) == i]\n",
    "    if words:\n",
    "        count = Counter(words).most_common(5)\n",
    "        count_disp = \", \".join([item[0] for item in count])\n",
    "        print(f'Most common anagram forms of length {i}:\\n{count_disp}\\n')\n",
    "    else:\n",
    "        print(f'No words of length {i}')"
   ]
  },
  {
   "cell_type": "code",
   "execution_count": 12,
   "metadata": {},
   "outputs": [],
   "source": [
    "ahl_tuples_lines = [alphabetize_tuples_line(line) for line in ovid_lines]"
   ]
  },
  {
   "cell_type": "code",
   "execution_count": 13,
   "metadata": {},
   "outputs": [],
   "source": [
    "ahl_tuples = reduce(lambda x,y: x+y, [line for line in ahl_tuples_lines])"
   ]
  },
  {
   "cell_type": "code",
   "execution_count": 14,
   "metadata": {},
   "outputs": [],
   "source": [
    "from collections import defaultdict\n",
    "ahl_dict = defaultdict(set)\n",
    "for v, k in ahl_tuples:\n",
    "    ahl_dict[k].add(v)"
   ]
  },
  {
   "cell_type": "code",
   "execution_count": 15,
   "metadata": {},
   "outputs": [
    {
     "name": "stdout",
     "output_type": "stream",
     "text": [
      "Anagram combinations with 4 word forms:\n",
      "aablstu: ablatus, balatus, stabula, tabulas\n",
      "acelt: calet, celat, lacte, lecta\n",
      "acers: acres, arces, ceras, sacer\n",
      "acerstu: creatus, curetas, recusat, teucras\n",
      "acirsu: acrius, carius, icarus, raucis\n",
      "ademnt: dantem, demant, madent, tandem\n",
      "adert: ardet, daret, derat, tarde\n",
      "aeeprrt: paterer, praeter, reparet, reperta\n",
      "aegimnr: germani, gramine, margine, reginam\n",
      "aeginr: ignare, negari, nigrae, regina\n",
      "aeintu: auenti, ueniat, uineta, uitane\n",
      "aeiprt: aperit, aperti, rapiet, rapite\n",
      "aelt: alte, late, tale, tela\n",
      "aemns: amens, amnes, manes, mensa\n",
      "aeoprst: apertos, postera, poteras, sperato\n",
      "aeprt: paret, parte, pater, patre\n",
      "aerst: artes, rates, serta, stare\n",
      "ailt: alit, alti, lati, tali\n",
      "aimno: animo, minoa, omina, omnia\n",
      "aimrs: armis, maris, ramis, rimas\n",
      "aioprt: optari, patior, patrio, potiar\n",
      "aipr: apri, pari, rapi, ripa\n",
      "aiprs: apris, paris, rapis, ripas\n",
      "aiprt: parit, patri, rapit, rapti\n",
      "aips: apis, ipsa, pias, pisa\n",
      "airst: arsit, artis, atris, ratis\n",
      "airt: arti, atri, rati, tria\n",
      "aistu: ausit, iusta, uasti, uatis\n",
      "aisu: auis, ausi, uias, uisa\n",
      "almtu: altum, latum, multa, talum\n",
      "amor: amor, armo, mora, ramo\n",
      "amors: armos, moras, morsa, ramos\n",
      "anort: antro, norat, orant, ornat\n",
      "anost: natos, notas, sonat, tonsa\n",
      "aorst: atros, ortas, ratos, troas\n",
      "beirsu: breuis, ebrius, subire, uerbis\n",
      "cdeeirt: credite, derceti, derecti, recedit\n",
      "closu: colus, locus, lucos, sulco\n",
      "deim: demi, diem, idem, medi\n",
      "dinos: donis, indos, nidos, nodis\n",
      "dinsu: indus, nidus, nudis, undis\n",
      "eemnrtu: neretum, tenemur, tenerum, uentrem\n",
      "eimrs: meris, mersi, miser, remis\n",
      "einss: ensis, issen, senis, sensi\n",
      "einstu: euntis, tenuis, uentis, uisent\n",
      "eintu: eunti, tenui, uenit, uenti\n",
      "eioprs: epiros, operis, pieros, sopire\n",
      "eiqsu: equis, isque, quies, sequi\n",
      "eorsu: euros, seruo, ueros, uerso\n",
      "imnostu: inmotus, monitus, munitos, sonitum\n",
      "iprtu: putri, rupit, rupti, turpi\n",
      "\n",
      "\n",
      "Anagram combinations with 5 word forms:\n",
      "acer: acer, acre, arce, care, cera\n",
      "acitu: acuti, cauti, iactu, tacui, uicta\n",
      "aeemnrt: maerent, maneret, mearent, remanet, teneram\n",
      "aeimnrst: armentis, maternis, mirantes, remansit, stramine\n",
      "aeltu: lauet, leuat, lutea, ualet, uelat\n",
      "aeprst: partes, patres, sparte, sperat, spreta\n",
      "aersu: aures, serua, ueras, uersa, ursae\n",
      "aert: aret, arte, ater, erat, rate\n",
      "aiprst: partis, patris, pratis, raptis, spirat\n",
      "aort: arto, atro, orat, orta, rota\n",
      "cistu: citus, cutis, ictus, sicut, tusci\n",
      "eirtu: eruit, tueri, uerti, uiret, uteri\n",
      "mortu: mutor, ortum, torum, troum, tumor\n",
      "\n",
      "\n",
      "Anagram combinations with 6 word forms:\n",
      "acert: arcet, caret, certa, crate, creat, recta\n",
      "aemrt: armet, artem, marte, mater, matre, ratem\n",
      "aerstu: atreus, auster, retusa, seruat, uersat, uestra\n",
      "aimr: armi, iram, mari, mira, rami, rima\n",
      "\n",
      "\n",
      "Anagram combinations with 7 word forms:\n",
      "None\n"
     ]
    }
   ],
   "source": [
    "for i in range(4, 8):\n",
    "    print(f'Anagram combinations with {i} word forms:') \n",
    "    anagrams = sorted([item for item in ahl_dict.items() if len(item[1]) == i])\n",
    "    if anagrams:\n",
    "        for anagram in anagrams:\n",
    "            print(f'{anagram[0]}: {\", \".join(sorted(anagram[1]))}')\n",
    "        print('\\n')\n",
    "    else:\n",
    "        print('None')"
   ]
  }
 ],
 "metadata": {
  "kernelspec": {
   "display_name": "Python 3",
   "language": "python",
   "name": "python3"
  },
  "language_info": {
   "codemirror_mode": {
    "name": "ipython",
    "version": 3
   },
   "file_extension": ".py",
   "mimetype": "text/x-python",
   "name": "python",
   "nbconvert_exporter": "python",
   "pygments_lexer": "ipython3",
   "version": "3.7.7"
  }
 },
 "nbformat": 4,
 "nbformat_minor": 1
}
